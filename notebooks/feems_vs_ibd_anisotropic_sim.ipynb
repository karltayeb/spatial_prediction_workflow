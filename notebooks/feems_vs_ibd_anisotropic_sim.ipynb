{
 "cells": [
  {
   "cell_type": "markdown",
   "id": "b162789c",
   "metadata": {},
   "source": [
    "# FEEMS vs IBD on Anisotropic Map\n",
    "\n",
    "This is an attempt to find a scenario where using FEEMS estimated migration provide more accurate/calibrated spatial prediction than isolation by distance (which we approximate with a fit FEEMS model with constant edge weights).\n",
    "\n",
    "Here we create a highly anisotropic migration surface (left/right migration is much easier than up/down migration). We'd like to see that FEEMS\n",
    "\n",
    "We generate a 8×16 2D map and simulate 2000 SNPs. We sample 10 individuals at each deme. We evaluate the relative performance of FEEMS and IBD via \"leave-one-deme-out\" spatial prediction. That is, we exclude all the samples from one deme, fit FEEMS using all other samples, and then assign the samples we held out using the fit FEEMS model.\n",
    "\n",
    "We compare the performance of FEEMS an IBD while fitting both models using a subset of 100, 500, or 1000 SNPs. FEEMS and IBD do not perform perceptably different here, prediction error predictably goes down as we include more SNPs."
   ]
  },
  {
   "cell_type": "code",
   "execution_count": 1,
   "id": "following-percentage",
   "metadata": {},
   "outputs": [],
   "source": [
    "import sys\n",
    "sys.path.append(\"../\")"
   ]
  },
  {
   "cell_type": "code",
   "execution_count": 2,
   "id": "instrumental-miller",
   "metadata": {},
   "outputs": [],
   "source": [
    "from scripts.coalescent_sim import *\n",
    "from feems import SpatialGraph, Viz\n",
    "import cartopy.crs as ccrs\n",
    "from feems.cross_validation import run_cv, train_test_split\n",
    "from feems.spatial_prediction import predict_deme_point_mu\n",
    "from feems.spatial_graph import query_node_attributes\n",
    "\n",
    "from tqdm import tqdm"
   ]
  },
  {
   "cell_type": "code",
   "execution_count": 3,
   "id": "religious-marina",
   "metadata": {},
   "outputs": [],
   "source": [
    "graph, coord, grid, edges = setup_graph(\n",
    "    n_rows=8, \n",
    "    n_columns=16, \n",
    "    barrier_startpt=0, \n",
    "    barrier_endpt=0,\n",
    "    anisotropy_scaler=10.0,\n",
    "    barrier_w=.1, \n",
    "    corridor_w=.5, \n",
    "    n_samples_per_node=10,\n",
    "    barrier_prob=.1, \n",
    "    corridor_left_prob=1,\n",
    "    corridor_right_prob=1,\n",
    "    sample_prob=1.0\n",
    ")"
   ]
  },
  {
   "cell_type": "code",
   "execution_count": 4,
   "id": "worse-ticket",
   "metadata": {},
   "outputs": [
    {
     "name": "stdout",
     "output_type": "stream",
     "text": [
      "Simulating ~SNP 0\n",
      "Simulating ~SNP 50\n",
      "Simulating ~SNP 100\n",
      "Simulating ~SNP 150\n",
      "Simulating ~SNP 200\n",
      "Simulating ~SNP 250\n",
      "Simulating ~SNP 300\n",
      "Simulating ~SNP 350\n",
      "Simulating ~SNP 400\n",
      "Simulating ~SNP 450\n",
      "Simulating ~SNP 500\n",
      "Simulating ~SNP 550\n",
      "Simulating ~SNP 600\n",
      "Simulating ~SNP 650\n",
      "Simulating ~SNP 700\n",
      "Simulating ~SNP 750\n",
      "Simulating ~SNP 800\n",
      "Simulating ~SNP 850\n",
      "Simulating ~SNP 900\n",
      "Simulating ~SNP 950\n",
      "Simulating ~SNP 1000\n",
      "Simulating ~SNP 1050\n",
      "Simulating ~SNP 1100\n",
      "Simulating ~SNP 1150\n",
      "Simulating ~SNP 1200\n",
      "Simulating ~SNP 1250\n",
      "Simulating ~SNP 1300\n",
      "Simulating ~SNP 1350\n",
      "Simulating ~SNP 1400\n",
      "Simulating ~SNP 1450\n",
      "Simulating ~SNP 1500\n",
      "Simulating ~SNP 1550\n",
      "Simulating ~SNP 1600\n",
      "Simulating ~SNP 1650\n",
      "Simulating ~SNP 1700\n",
      "Simulating ~SNP 1750\n",
      "Simulating ~SNP 1800\n",
      "Simulating ~SNP 1850\n",
      "Simulating ~SNP 1900\n",
      "Simulating ~SNP 1950\n",
      "CPU times: user 16min 39s, sys: 2.24 s, total: 16min 41s\n",
      "Wall time: 16min 45s\n"
     ]
    }
   ],
   "source": [
    "%%time\n",
    "np.random.seed(0)\n",
    "genotypes = simulate_genotypes(\n",
    "    graph,\n",
    "    chrom_length=1,\n",
    "    mu=1e-3, n_e=1,\n",
    "    target_n_snps=2000\n",
    ")\n",
    "D = np.sqrt(((grid[:, None] - grid[None])**2).sum(-1))"
   ]
  },
  {
   "cell_type": "code",
   "execution_count": 6,
   "id": "248fb3e4",
   "metadata": {},
   "outputs": [],
   "source": [
    "#np.savetxt(\"anisotropic_genotypes.tsv\", genotypes, delimiter=\"\\t\")"
   ]
  },
  {
   "cell_type": "code",
   "execution_count": 121,
   "id": "d1fa9ead",
   "metadata": {},
   "outputs": [
    {
     "data": {
      "text/plain": [
       "array([ 7.81024968, 10.58300524, 14.73091986])"
      ]
     },
     "execution_count": 121,
     "metadata": {},
     "output_type": "execute_result"
    }
   ],
   "source": [
    "np.random.choice(D[0], 3)"
   ]
  },
  {
   "cell_type": "raw",
   "id": "4484f545",
   "metadata": {},
   "source": [
    "#np.savetxt(\"genotypes.tsv\", genotypes, delimiter=\"\\t\")\n",
    "genotypes = np.loadtxt(\"genotypes.tsv\", delimiter='\\t')\n",
    "D = np.sqrt(((grid[:, None] - grid[None])**2).sum(-1))"
   ]
  },
  {
   "cell_type": "code",
   "execution_count": 197,
   "id": "enormous-intellectual",
   "metadata": {},
   "outputs": [],
   "source": [
    "def compute_average_error(true_nodes, z, D):\n",
    "    return (D[true_nodes] * np.exp(z)).sum(1)\n",
    "\n",
    "def split_n_fit(genotypes, coord, grid, edges, is_train):\n",
    "    # initialize spatial graph, then split into train/test\n",
    "    sp_graph = SpatialGraph(genotypes, coord, grid, edges, scale_snps=True)\n",
    "    sp_graph_train, sp_graph_test = train_test_split(sp_graph, is_train)\n",
    "\n",
    "    # fit null model, get predictions from null model\n",
    "    sp_graph_train.fit_null_model()\n",
    "    z_ibd, post_mean_ibd = predict_deme_point_mu(\n",
    "        genotypes[~is_train], sp_graph_train)\n",
    "    \n",
    "    # fit feems\n",
    "    sp_graph_train.fit(lamb=1.0)\n",
    "    z_feems, post_mean_feems = predict_deme_point_mu(\n",
    "        genotypes[~is_train], sp_graph_train)\n",
    "    \n",
    "    perm_idx = query_node_attributes(sp_graph_train, 'permuted_idx')\n",
    "    inv_perm_idx = np.argsort(perm_idx)  # undo permutation of nodes\n",
    "    \n",
    "    return dict(\n",
    "        z_feems=z_feems[:, inv_perm_idx],\n",
    "        post_mean_feems=post_mean_feems,\n",
    "        z_ibd=z_ibd[:, inv_perm_idx],\n",
    "        post_mean_ibd=post_mean_ibd,\n",
    "        is_train=is_train,\n",
    "        coord=coord,\n",
    "        sp_graph=sp_graph_train,\n",
    "        sp_graph_test=sp_graph_test\n",
    "    )\n",
    "\n",
    "\n",
    "def leave_node_out(genotypes, coord, grid, edges):\n",
    "    D = np.sqrt(((grid[:, None] - grid[None])**2).sum(-1))\n",
    "    d_z_feems = {}\n",
    "    d_z_ibd = {}\n",
    "    d_z_perm = {}\n",
    "\n",
    "    for i, g in tqdm(enumerate(grid)):\n",
    "        try:\n",
    "            is_train = ~np.array([np.allclose(x, g) for x in coord])\n",
    "            results = split_n_fit(genotypes, coord, grid, edges, is_train)\n",
    "            d_z_feems[i] = (D[i] * np.exp(results['z_feems'])).sum(1)\n",
    "            d_z_ibd[i] = (D[i] * np.exp(results['z_ibd'])).sum(1)\n",
    "            d_z_perm[i] = np.random.choice(D[i], results['z_ibd'].shape[0])\n",
    "        except:\n",
    "            pass\n",
    "    return d_z_feems, d_z_ibd, d_z_perm\n",
    "\n",
    "        \n",
    "        \n",
    "def run_sim(genotypes, n_snps, boundary):\n",
    "    assert (n_snps < genotypes.shape[1])\n",
    "    idx = np.random.choice(genotypes.shape[1], n_snps, replace=False)\n",
    "    G = genotypes[:, idx]\n",
    "    sp_graph = SpatialGraph(G, coord, grid, edges, scale_snps=True)\n",
    "\n",
    "    is_train = coord[:, 0] < boundary\n",
    "    sp_graph.factor = None\n",
    "    sp_graph_train, sp_graph_test = train_test_split(sp_graph, is_train)\n",
    "\n",
    "    # fit null model, get predictions from null model\n",
    "    sp_graph_train.fit_null_model()\n",
    "    z_ibd, post_mean_ibd = predict_deme_point_mu(G[~is_train], sp_graph_train)\n",
    "\n",
    "\n",
    "    sp_graph_train.fit(lamb=1.0)\n",
    "    z_feems, post_mean_feems = predict_deme_point_mu(G[~is_train], sp_graph_train)\n",
    "    \n",
    "    nodes = sp_graph.assned_node_idx[~is_train]\n",
    "\n",
    "    perm_idx = query_node_attributes(sp_graph_train, 'permuted_idx')\n",
    "    inv_perm_idx = np.argsort(perm_idx)  # undo permutation of nodes\n",
    "    ibd_error = compute_average_error(nodes, z_ibd[:, inv_perm_idx], D)\n",
    "    feems_error = compute_average_error(nodes, z_feems[:, inv_perm_idx], D)\n",
    "\n",
    "    perm = np.concatenate([np.random.permutation(a) for a in [left, middle, right]])\n",
    "    z_perm = z_feems[:, inv_perm_idx][:, perm]\n",
    "    perm_error = compute_average_error(nodes, z_perm, D)\n",
    "\n",
    "    return {\n",
    "        'ibd_error': ibd_error,\n",
    "        'feems_error': feems_error,\n",
    "        'perm_error': perm_error,\n",
    "\n",
    "        'nodes': nodes,\n",
    "        'node_pos': grid[nodes]\n",
    "    }"
   ]
  },
  {
   "cell_type": "code",
   "execution_count": 105,
   "id": "f71ce9ea",
   "metadata": {},
   "outputs": [
    {
     "name": "stdout",
     "output_type": "stream",
     "text": [
      "constant-w/variance fit, converged in 115 iterations, train_loss=-12709.1408617\n",
      "constant-w/variance fit, converged in 115 iterations, train_loss=-12709.1408617\n",
      "lambda=1.0000000, alpha=0.4732923, converged in 16 iterations, train_loss=-16427.3589512\n"
     ]
    }
   ],
   "source": [
    "snps = np.random.choice(genotypes.shape[1], 1000)\n",
    "is_train = ~np.array([np.allclose(x, grid[20]) for x in coord])\n",
    "results = split_n_fit(genotypes[:, snps], coord, grid, edges, is_train)"
   ]
  },
  {
   "cell_type": "code",
   "execution_count": 117,
   "id": "683f151c",
   "metadata": {},
   "outputs": [
    {
     "data": {
      "text/plain": [
       "array([4.69494439, 6.122082  , 4.78956917, 4.78325518, 6.99291559,\n",
       "       4.76805004, 4.57846421, 5.37481492, 5.66654853, 4.20093344])"
      ]
     },
     "execution_count": 117,
     "metadata": {},
     "output_type": "execute_result"
    }
   ],
   "source": [
    "(D[0][None] * np.exp(results['z_feems'])).sum(1)"
   ]
  },
  {
   "cell_type": "code",
   "execution_count": 118,
   "id": "ffb9c3ca",
   "metadata": {},
   "outputs": [
    {
     "data": {
      "text/plain": [
       "array([4.69203196, 6.17813308, 4.98249065, 4.78290539, 7.76252121,\n",
       "       4.93426081, 4.52076475, 5.27069347, 5.65118303, 3.84105761])"
      ]
     },
     "execution_count": 118,
     "metadata": {},
     "output_type": "execute_result"
    }
   ],
   "source": [
    "(D[0][None] * np.exp(results['z_ibd'])).sum(1)"
   ]
  },
  {
   "cell_type": "code",
   "execution_count": 106,
   "id": "6fc9bf70",
   "metadata": {},
   "outputs": [
    {
     "data": {
      "image/png": "[encoded data removed]",
      "text/plain": [
       "<Figure size 1800x1200 with 2 Axes>"
      ]
     },
     "metadata": {},
     "output_type": "display_data"
    }
   ],
   "source": [
    "fig = plt.figure(dpi=300)\n",
    "projection = ccrs.EquidistantConic()\n",
    "ax = fig.add_subplot(1, 1, 1, projection=projection)  \n",
    "v = Viz(ax, results['sp_graph'], projection=None, edge_width=.5, \n",
    "        edge_alpha=1, edge_zorder=100, sample_pt_size=20, \n",
    "        obs_node_size=7.5, sample_pt_color=\"black\", \n",
    "        cbar_font_size=10)\n",
    "\n",
    "v.draw_map()\n",
    "v.draw_edges(use_weights=True)\n",
    "v.draw_obs_nodes(use_ids=False) \n",
    "v.draw_edge_colorbar()\n",
    "#draw_points(c)"
   ]
  },
  {
   "cell_type": "code",
   "execution_count": 107,
   "id": "64e76dd8",
   "metadata": {},
   "outputs": [
    {
     "data": {
      "image/png": "[encoded data removed]",
      "text/plain": [
       "<Figure size 1800x1200 with 1 Axes>"
      ]
     },
     "metadata": {},
     "output_type": "display_data"
    }
   ],
   "source": [
    "def draw_z(self, coord, z, color):\n",
    "    \"\"\"Draw the observed node coordinates\"\"\"\n",
    "    self.ax.scatter(\n",
    "        coord[:, 0],\n",
    "        coord[:, 1],\n",
    "        edgecolors=color,\n",
    "        linewidth=self.obs_node_linewidth,\n",
    "        s=self.obs_node_size * np.sqrt(np.exp(z)),\n",
    "        alpha=0.1,\n",
    "        color=color,\n",
    "        zorder=self.obs_node_zorder,\n",
    "    )\n",
    "\n",
    "def draw_distinguished_nodes(self, coord, color):\n",
    "    \"\"\"Draw the observed node coordinates\"\"\"\n",
    "    coord = np.atleast_2d(coord)\n",
    "    self.ax.scatter(\n",
    "        coord[:, 0],\n",
    "        coord[:, 1],\n",
    "        edgecolors='black',\n",
    "        linewidth=self.obs_node_linewidth,\n",
    "        s=self.obs_node_size * 10,\n",
    "        color=color,\n",
    "        marker='*',\n",
    "        zorder=self.obs_node_zorder,\n",
    "    )\n",
    "\n",
    "fig = plt.figure(dpi=300)\n",
    "projection = ccrs.EquidistantConic()\n",
    "ax = fig.add_subplot(1, 1, 1, projection=projection)  \n",
    "v = Viz(ax, results['sp_graph'], projection=None, edge_width=.5, \n",
    "        edge_alpha=1, edge_zorder=100, sample_pt_size=20, \n",
    "        obs_node_size=7.5, sample_pt_color=\"black\", \n",
    "        cbar_font_size=10)\n",
    "\n",
    "v.draw_map()\n",
    "v.draw_edges(use_weights=True)\n",
    "draw_distinguished_nodes(v, grid[20], 'black')\n",
    "[draw_z(v, grid, z, 'red') for z in results['z_feems']];"
   ]
  },
  {
   "cell_type": "code",
   "execution_count": 108,
   "id": "5e22efa8",
   "metadata": {},
   "outputs": [
    {
     "data": {
      "image/png": "[encoded data removed]",
      "text/plain": [
       "<Figure size 1800x1200 with 1 Axes>"
      ]
     },
     "metadata": {},
     "output_type": "display_data"
    }
   ],
   "source": [
    "fig = plt.figure(dpi=300)\n",
    "projection = ccrs.EquidistantConic()\n",
    "ax = fig.add_subplot(1, 1, 1, projection=projection)  \n",
    "v = Viz(ax, results['sp_graph'], projection=None, edge_width=.5, \n",
    "        edge_alpha=1, edge_zorder=100, sample_pt_size=20, \n",
    "        obs_node_size=7.5, sample_pt_color=\"black\", \n",
    "        cbar_font_size=10)\n",
    "\n",
    "v.draw_map()\n",
    "v.draw_edges(use_weights=False)\n",
    "draw_distinguished_nodes(v, grid[20], 'black')\n",
    "[draw_z(v, grid, z, 'red') for z in results['z_ibd']];"
   ]
  },
  {
   "cell_type": "code",
   "execution_count": 191,
   "id": "c92febbd",
   "metadata": {},
   "outputs": [
    {
     "name": "stderr",
     "output_type": "stream",
     "text": [
      "\r",
      "0it [00:00, ?it/s]"
     ]
    },
    {
     "name": "stdout",
     "output_type": "stream",
     "text": [
      "constant-w/variance fit, converged in 111 iterations, train_loss=-814.6278699\n"
     ]
    },
    {
     "name": "stderr",
     "output_type": "stream",
     "text": [
      "\r",
      "1it [00:02,  2.03s/it]"
     ]
    },
    {
     "name": "stdout",
     "output_type": "stream",
     "text": [
      "constant-w/variance fit, converged in 111 iterations, train_loss=-814.6278699\n",
      "lambda=1.0000000, alpha=0.5304652, converged in 20 iterations, train_loss=-1280.9954181\n",
      "constant-w/variance fit, converged in 107 iterations, train_loss=-737.1954551\n"
     ]
    },
    {
     "name": "stderr",
     "output_type": "stream",
     "text": [
      "\r",
      "2it [00:04,  2.01s/it]"
     ]
    },
    {
     "name": "stdout",
     "output_type": "stream",
     "text": [
      "constant-w/variance fit, converged in 107 iterations, train_loss=-737.1954551\n",
      "lambda=1.0000000, alpha=0.5245654, converged in 19 iterations, train_loss=-1189.9308770\n",
      "constant-w/variance fit, converged in 113 iterations, train_loss=-774.3106191\n"
     ]
    },
    {
     "name": "stderr",
     "output_type": "stream",
     "text": [
      "\r",
      "3it [00:06,  2.08s/it]"
     ]
    },
    {
     "name": "stdout",
     "output_type": "stream",
     "text": [
      "constant-w/variance fit, converged in 113 iterations, train_loss=-774.3106191\n",
      "lambda=1.0000000, alpha=0.5255875, converged in 20 iterations, train_loss=-1239.0562624\n",
      "constant-w/variance fit, converged in 106 iterations, train_loss=-739.5227751\n"
     ]
    },
    {
     "name": "stderr",
     "output_type": "stream",
     "text": [
      "\r",
      "4it [00:08,  2.06s/it]"
     ]
    },
    {
     "name": "stdout",
     "output_type": "stream",
     "text": [
      "constant-w/variance fit, converged in 106 iterations, train_loss=-739.5227751\n",
      "lambda=1.0000000, alpha=0.5298538, converged in 19 iterations, train_loss=-1195.4806069\n",
      "constant-w/variance fit, converged in 103 iterations, train_loss=-748.8308070\n"
     ]
    },
    {
     "name": "stderr",
     "output_type": "stream",
     "text": [
      "\r",
      "5it [00:10,  2.04s/it]"
     ]
    },
    {
     "name": "stdout",
     "output_type": "stream",
     "text": [
      "constant-w/variance fit, converged in 103 iterations, train_loss=-748.8308070\n",
      "lambda=1.0000000, alpha=0.5327612, converged in 18 iterations, train_loss=-1207.3979488\n",
      "constant-w/variance fit, converged in 109 iterations, train_loss=-777.9814260\n"
     ]
    },
    {
     "name": "stderr",
     "output_type": "stream",
     "text": [
      "\r",
      "6it [00:12,  2.03s/it]"
     ]
    },
    {
     "name": "stdout",
     "output_type": "stream",
     "text": [
      "constant-w/variance fit, converged in 109 iterations, train_loss=-777.9814260\n",
      "lambda=1.0000000, alpha=0.5290661, converged in 19 iterations, train_loss=-1243.9007098\n",
      "constant-w/variance fit, converged in 105 iterations, train_loss=-730.6443577\n"
     ]
    },
    {
     "name": "stderr",
     "output_type": "stream",
     "text": [
      "\r",
      "7it [00:14,  2.03s/it]"
     ]
    },
    {
     "name": "stdout",
     "output_type": "stream",
     "text": [
      "constant-w/variance fit, converged in 105 iterations, train_loss=-730.6443577\n",
      "lambda=1.0000000, alpha=0.5293310, converged in 18 iterations, train_loss=-1182.0561372\n",
      "constant-w/variance fit, converged in 111 iterations, train_loss=-750.6839810\n"
     ]
    },
    {
     "name": "stderr",
     "output_type": "stream",
     "text": [
      "\r",
      "8it [00:16,  2.03s/it]"
     ]
    },
    {
     "name": "stdout",
     "output_type": "stream",
     "text": [
      "constant-w/variance fit, converged in 111 iterations, train_loss=-750.6839810\n",
      "lambda=1.0000000, alpha=0.5297882, converged in 19 iterations, train_loss=-1209.1794358\n",
      "constant-w/variance fit, converged in 110 iterations, train_loss=-757.5993836\n"
     ]
    },
    {
     "name": "stderr",
     "output_type": "stream",
     "text": [
      "\r",
      "9it [00:18,  2.20s/it]"
     ]
    },
    {
     "name": "stdout",
     "output_type": "stream",
     "text": [
      "constant-w/variance fit, converged in 110 iterations, train_loss=-757.5993836\n",
      "lambda=1.0000000, alpha=0.5274818, converged in 19 iterations, train_loss=-1219.2899074\n",
      "constant-w/variance fit, converged in 108 iterations, train_loss=-777.9664132\n"
     ]
    },
    {
     "name": "stderr",
     "output_type": "stream",
     "text": [
      "\r",
      "10it [00:21,  2.41s/it]"
     ]
    },
    {
     "name": "stdout",
     "output_type": "stream",
     "text": [
      "constant-w/variance fit, converged in 108 iterations, train_loss=-777.9664132\n",
      "lambda=1.0000000, alpha=0.5269620, converged in 19 iterations, train_loss=-1253.8650306\n",
      "constant-w/variance fit, converged in 121 iterations, train_loss=-984.7688530\n"
     ]
    },
    {
     "name": "stderr",
     "output_type": "stream",
     "text": [
      "\r",
      "11it [00:24,  2.43s/it]"
     ]
    },
    {
     "name": "stdout",
     "output_type": "stream",
     "text": [
      "constant-w/variance fit, converged in 121 iterations, train_loss=-984.7688530\n",
      "lambda=1.0000000, alpha=0.5142690, converged in 19 iterations, train_loss=-1422.9198225\n",
      "constant-w/variance fit, converged in 111 iterations, train_loss=-834.5981563\n"
     ]
    },
    {
     "name": "stderr",
     "output_type": "stream",
     "text": [
      "\r",
      "12it [00:26,  2.42s/it]"
     ]
    },
    {
     "name": "stdout",
     "output_type": "stream",
     "text": [
      "constant-w/variance fit, converged in 111 iterations, train_loss=-834.5981563\n",
      "lambda=1.0000000, alpha=0.5185530, converged in 20 iterations, train_loss=-1288.8864677\n",
      "constant-w/variance fit, converged in 111 iterations, train_loss=-816.5642050\n"
     ]
    },
    {
     "name": "stderr",
     "output_type": "stream",
     "text": [
      "\r",
      "13it [00:29,  2.45s/it]"
     ]
    },
    {
     "name": "stdout",
     "output_type": "stream",
     "text": [
      "constant-w/variance fit, converged in 111 iterations, train_loss=-816.5642050\n",
      "lambda=1.0000000, alpha=0.5134038, converged in 20 iterations, train_loss=-1276.3383235\n",
      "constant-w/variance fit, converged in 110 iterations, train_loss=-770.5138948\n"
     ]
    },
    {
     "name": "stderr",
     "output_type": "stream",
     "text": [
      "\r",
      "14it [00:31,  2.44s/it]"
     ]
    },
    {
     "name": "stdout",
     "output_type": "stream",
     "text": [
      "constant-w/variance fit, converged in 110 iterations, train_loss=-770.5138948\n",
      "lambda=1.0000000, alpha=0.5288393, converged in 20 iterations, train_loss=-1240.7503314\n",
      "constant-w/variance fit, converged in 102 iterations, train_loss=-804.1223537\n"
     ]
    },
    {
     "name": "stderr",
     "output_type": "stream",
     "text": [
      "\r",
      "15it [00:34,  2.46s/it]"
     ]
    },
    {
     "name": "stdout",
     "output_type": "stream",
     "text": [
      "constant-w/variance fit, converged in 102 iterations, train_loss=-804.1223537\n",
      "lambda=1.0000000, alpha=0.5284638, converged in 19 iterations, train_loss=-1276.7087102\n",
      "constant-w/variance fit, converged in 113 iterations, train_loss=-794.8460640\n"
     ]
    },
    {
     "name": "stderr",
     "output_type": "stream",
     "text": [
      "\r",
      "16it [00:36,  2.47s/it]"
     ]
    },
    {
     "name": "stdout",
     "output_type": "stream",
     "text": [
      "constant-w/variance fit, converged in 113 iterations, train_loss=-794.8460640\n",
      "lambda=1.0000000, alpha=0.5256181, converged in 20 iterations, train_loss=-1262.8807208\n",
      "constant-w/variance fit, converged in 111 iterations, train_loss=-762.3692654\n"
     ]
    },
    {
     "name": "stderr",
     "output_type": "stream",
     "text": [
      "\r",
      "17it [00:38,  2.45s/it]"
     ]
    },
    {
     "name": "stdout",
     "output_type": "stream",
     "text": [
      "constant-w/variance fit, converged in 111 iterations, train_loss=-762.3692654\n",
      "lambda=1.0000000, alpha=0.5231040, converged in 19 iterations, train_loss=-1225.4695547\n",
      "constant-w/variance fit, converged in 114 iterations, train_loss=-745.3112577\n"
     ]
    },
    {
     "name": "stderr",
     "output_type": "stream",
     "text": [
      "\r",
      "18it [00:41,  2.45s/it]"
     ]
    },
    {
     "name": "stdout",
     "output_type": "stream",
     "text": [
      "constant-w/variance fit, converged in 114 iterations, train_loss=-745.3112577\n",
      "lambda=1.0000000, alpha=0.5244507, converged in 20 iterations, train_loss=-1204.3158677\n",
      "constant-w/variance fit, converged in 107 iterations, train_loss=-797.0549812\n"
     ]
    },
    {
     "name": "stderr",
     "output_type": "stream",
     "text": [
      "\r",
      "19it [00:44,  2.57s/it]"
     ]
    },
    {
     "name": "stdout",
     "output_type": "stream",
     "text": [
      "constant-w/variance fit, converged in 107 iterations, train_loss=-797.0549812\n",
      "lambda=1.0000000, alpha=0.5244764, converged in 20 iterations, train_loss=-1269.9058084\n",
      "constant-w/variance fit, converged in 108 iterations, train_loss=-808.0303986\n"
     ]
    },
    {
     "name": "stderr",
     "output_type": "stream",
     "text": [
      "\r",
      "20it [00:46,  2.51s/it]"
     ]
    },
    {
     "name": "stdout",
     "output_type": "stream",
     "text": [
      "constant-w/variance fit, converged in 108 iterations, train_loss=-808.0303986\n",
      "lambda=1.0000000, alpha=0.5254354, converged in 20 iterations, train_loss=-1285.6015018\n",
      "constant-w/variance fit, converged in 118 iterations, train_loss=-831.2823302\n"
     ]
    },
    {
     "name": "stderr",
     "output_type": "stream",
     "text": [
      "\r",
      "21it [00:48,  2.42s/it]"
     ]
    },
    {
     "name": "stdout",
     "output_type": "stream",
     "text": [
      "constant-w/variance fit, converged in 118 iterations, train_loss=-831.2823302\n",
      "lambda=1.0000000, alpha=0.5221118, converged in 20 iterations, train_loss=-1312.7486906\n",
      "constant-w/variance fit, converged in 103 iterations, train_loss=-765.4214384\n"
     ]
    },
    {
     "name": "stderr",
     "output_type": "stream",
     "text": [
      "\r",
      "22it [00:50,  2.32s/it]"
     ]
    },
    {
     "name": "stdout",
     "output_type": "stream",
     "text": [
      "constant-w/variance fit, converged in 103 iterations, train_loss=-765.4214384\n",
      "lambda=1.0000000, alpha=0.5256671, converged in 20 iterations, train_loss=-1232.6142969\n",
      "constant-w/variance fit, converged in 112 iterations, train_loss=-733.9491286\n"
     ]
    },
    {
     "name": "stderr",
     "output_type": "stream",
     "text": [
      "\r",
      "23it [00:53,  2.29s/it]"
     ]
    },
    {
     "name": "stdout",
     "output_type": "stream",
     "text": [
      "constant-w/variance fit, converged in 112 iterations, train_loss=-733.9491286\n",
      "lambda=1.0000000, alpha=0.5258242, converged in 20 iterations, train_loss=-1193.3482958\n",
      "constant-w/variance fit, converged in 106 iterations, train_loss=-793.5824476\n"
     ]
    },
    {
     "name": "stderr",
     "output_type": "stream",
     "text": [
      "\r",
      "24it [00:55,  2.24s/it]"
     ]
    },
    {
     "name": "stdout",
     "output_type": "stream",
     "text": [
      "constant-w/variance fit, converged in 106 iterations, train_loss=-793.5824476\n",
      "lambda=1.0000000, alpha=0.5270313, converged in 20 iterations, train_loss=-1268.9811379\n",
      "constant-w/variance fit, converged in 114 iterations, train_loss=-749.9570913\n"
     ]
    },
    {
     "name": "stderr",
     "output_type": "stream",
     "text": [
      "\r",
      "25it [00:57,  2.21s/it]"
     ]
    },
    {
     "name": "stdout",
     "output_type": "stream",
     "text": [
      "constant-w/variance fit, converged in 114 iterations, train_loss=-749.9570913\n",
      "lambda=1.0000000, alpha=0.5284005, converged in 20 iterations, train_loss=-1217.0152750\n",
      "constant-w/variance fit, converged in 115 iterations, train_loss=-738.3253043\n"
     ]
    },
    {
     "name": "stderr",
     "output_type": "stream",
     "text": [
      "\r",
      "26it [00:59,  2.20s/it]"
     ]
    },
    {
     "name": "stdout",
     "output_type": "stream",
     "text": [
      "constant-w/variance fit, converged in 115 iterations, train_loss=-738.3253043\n",
      "lambda=1.0000000, alpha=0.5282356, converged in 20 iterations, train_loss=-1208.1431853\n",
      "constant-w/variance fit, converged in 108 iterations, train_loss=-724.3531692\n"
     ]
    },
    {
     "name": "stderr",
     "output_type": "stream",
     "text": [
      "\r",
      "27it [01:01,  2.18s/it]"
     ]
    },
    {
     "name": "stdout",
     "output_type": "stream",
     "text": [
      "constant-w/variance fit, converged in 108 iterations, train_loss=-724.3531692\n",
      "lambda=1.0000000, alpha=0.5280384, converged in 20 iterations, train_loss=-1191.8688035\n",
      "constant-w/variance fit, converged in 105 iterations, train_loss=-795.0958955\n"
     ]
    },
    {
     "name": "stderr",
     "output_type": "stream",
     "text": [
      "\r",
      "28it [01:03,  2.15s/it]"
     ]
    },
    {
     "name": "stdout",
     "output_type": "stream",
     "text": [
      "constant-w/variance fit, converged in 105 iterations, train_loss=-795.0958955\n",
      "lambda=1.0000000, alpha=0.5228550, converged in 20 iterations, train_loss=-1265.8082438\n",
      "constant-w/variance fit, converged in 107 iterations, train_loss=-751.6980365\n"
     ]
    },
    {
     "name": "stderr",
     "output_type": "stream",
     "text": [
      "\r",
      "29it [01:05,  2.12s/it]"
     ]
    },
    {
     "name": "stdout",
     "output_type": "stream",
     "text": [
      "constant-w/variance fit, converged in 107 iterations, train_loss=-751.6980365\n",
      "lambda=1.0000000, alpha=0.5265969, converged in 20 iterations, train_loss=-1220.2388284\n",
      "constant-w/variance fit, converged in 117 iterations, train_loss=-819.6815773\n"
     ]
    },
    {
     "name": "stderr",
     "output_type": "stream",
     "text": [
      "\r",
      "30it [01:07,  2.12s/it]"
     ]
    },
    {
     "name": "stdout",
     "output_type": "stream",
     "text": [
      "constant-w/variance fit, converged in 117 iterations, train_loss=-819.6815773\n",
      "lambda=1.0000000, alpha=0.5241253, converged in 19 iterations, train_loss=-1292.0864498\n",
      "constant-w/variance fit, converged in 116 iterations, train_loss=-828.8751186\n"
     ]
    },
    {
     "name": "stderr",
     "output_type": "stream",
     "text": [
      "\r",
      "31it [01:10,  2.13s/it]"
     ]
    },
    {
     "name": "stdout",
     "output_type": "stream",
     "text": [
      "constant-w/variance fit, converged in 116 iterations, train_loss=-828.8751186\n",
      "lambda=1.0000000, alpha=0.5218820, converged in 19 iterations, train_loss=-1299.6258506\n",
      "constant-w/variance fit, converged in 109 iterations, train_loss=-800.0632090\n"
     ]
    },
    {
     "name": "stderr",
     "output_type": "stream",
     "text": [
      "\r",
      "32it [01:12,  2.13s/it]"
     ]
    },
    {
     "name": "stdout",
     "output_type": "stream",
     "text": [
      "constant-w/variance fit, converged in 109 iterations, train_loss=-800.0632090\n",
      "lambda=1.0000000, alpha=0.5270181, converged in 20 iterations, train_loss=-1269.8287683\n",
      "constant-w/variance fit, converged in 106 iterations, train_loss=-817.9597557\n"
     ]
    },
    {
     "name": "stderr",
     "output_type": "stream",
     "text": [
      "\r",
      "33it [01:14,  2.13s/it]"
     ]
    },
    {
     "name": "stdout",
     "output_type": "stream",
     "text": [
      "constant-w/variance fit, converged in 106 iterations, train_loss=-817.9597557\n",
      "lambda=1.0000000, alpha=0.5221501, converged in 19 iterations, train_loss=-1285.6528137\n",
      "constant-w/variance fit, converged in 98 iterations, train_loss=-752.4792700\n"
     ]
    },
    {
     "name": "stderr",
     "output_type": "stream",
     "text": [
      "\r",
      "34it [01:16,  2.09s/it]"
     ]
    },
    {
     "name": "stdout",
     "output_type": "stream",
     "text": [
      "constant-w/variance fit, converged in 98 iterations, train_loss=-752.4792700\n",
      "lambda=1.0000000, alpha=0.5241982, converged in 20 iterations, train_loss=-1218.9235968\n",
      "constant-w/variance fit, converged in 115 iterations, train_loss=-733.1242300\n"
     ]
    },
    {
     "name": "stderr",
     "output_type": "stream",
     "text": [
      "\r",
      "35it [01:18,  2.10s/it]"
     ]
    },
    {
     "name": "stdout",
     "output_type": "stream",
     "text": [
      "constant-w/variance fit, converged in 115 iterations, train_loss=-733.1242300\n",
      "lambda=1.0000000, alpha=0.5273218, converged in 20 iterations, train_loss=-1196.5116713\n",
      "constant-w/variance fit, converged in 120 iterations, train_loss=-736.2135709\n"
     ]
    },
    {
     "name": "stderr",
     "output_type": "stream",
     "text": [
      "\r",
      "36it [01:20,  2.12s/it]"
     ]
    },
    {
     "name": "stdout",
     "output_type": "stream",
     "text": [
      "constant-w/variance fit, converged in 120 iterations, train_loss=-736.2135709\n",
      "lambda=1.0000000, alpha=0.5257642, converged in 20 iterations, train_loss=-1199.5803412\n",
      "constant-w/variance fit, converged in 108 iterations, train_loss=-784.2898361\n"
     ]
    },
    {
     "name": "stderr",
     "output_type": "stream",
     "text": [
      "\r",
      "37it [01:22,  2.10s/it]"
     ]
    },
    {
     "name": "stdout",
     "output_type": "stream",
     "text": [
      "constant-w/variance fit, converged in 108 iterations, train_loss=-784.2898361\n",
      "lambda=1.0000000, alpha=0.5204754, converged in 20 iterations, train_loss=-1252.3222843\n",
      "constant-w/variance fit, converged in 102 iterations, train_loss=-758.7918195\n"
     ]
    },
    {
     "name": "stderr",
     "output_type": "stream",
     "text": [
      "\r",
      "38it [01:24,  2.09s/it]"
     ]
    },
    {
     "name": "stdout",
     "output_type": "stream",
     "text": [
      "constant-w/variance fit, converged in 102 iterations, train_loss=-758.7918195\n",
      "lambda=1.0000000, alpha=0.5246210, converged in 20 iterations, train_loss=-1225.3321899\n",
      "constant-w/variance fit, converged in 112 iterations, train_loss=-734.2571769\n"
     ]
    },
    {
     "name": "stderr",
     "output_type": "stream",
     "text": [
      "\r",
      "39it [01:27,  2.13s/it]"
     ]
    },
    {
     "name": "stdout",
     "output_type": "stream",
     "text": [
      "constant-w/variance fit, converged in 112 iterations, train_loss=-734.2571769\n",
      "lambda=1.0000000, alpha=0.5282539, converged in 20 iterations, train_loss=-1197.4538552\n",
      "constant-w/variance fit, converged in 101 iterations, train_loss=-773.0287976\n"
     ]
    },
    {
     "name": "stderr",
     "output_type": "stream",
     "text": [
      "\r",
      "40it [01:29,  2.11s/it]"
     ]
    },
    {
     "name": "stdout",
     "output_type": "stream",
     "text": [
      "constant-w/variance fit, converged in 101 iterations, train_loss=-773.0287976\n",
      "lambda=1.0000000, alpha=0.5243212, converged in 20 iterations, train_loss=-1241.5356424\n",
      "constant-w/variance fit, converged in 119 iterations, train_loss=-732.4493652\n"
     ]
    },
    {
     "name": "stderr",
     "output_type": "stream",
     "text": [
      "\r",
      "41it [01:31,  2.14s/it]"
     ]
    },
    {
     "name": "stdout",
     "output_type": "stream",
     "text": [
      "constant-w/variance fit, converged in 119 iterations, train_loss=-732.4493652\n",
      "lambda=1.0000000, alpha=0.5250385, converged in 20 iterations, train_loss=-1196.5102535\n",
      "constant-w/variance fit, converged in 108 iterations, train_loss=-953.2756695\n"
     ]
    },
    {
     "name": "stderr",
     "output_type": "stream",
     "text": [
      "\r",
      "42it [01:33,  2.12s/it]"
     ]
    },
    {
     "name": "stdout",
     "output_type": "stream",
     "text": [
      "constant-w/variance fit, converged in 108 iterations, train_loss=-953.2756695\n",
      "lambda=1.0000000, alpha=0.5305366, converged in 19 iterations, train_loss=-1441.0965585\n",
      "constant-w/variance fit, converged in 100 iterations, train_loss=-756.7631618\n"
     ]
    },
    {
     "name": "stderr",
     "output_type": "stream",
     "text": [
      "\r",
      "43it [01:35,  2.11s/it]"
     ]
    },
    {
     "name": "stdout",
     "output_type": "stream",
     "text": [
      "constant-w/variance fit, converged in 100 iterations, train_loss=-756.7631618\n",
      "lambda=1.0000000, alpha=0.5240150, converged in 20 iterations, train_loss=-1224.2905963\n",
      "constant-w/variance fit, converged in 119 iterations, train_loss=-730.7376675\n"
     ]
    },
    {
     "name": "stderr",
     "output_type": "stream",
     "text": [
      "\r",
      "44it [01:37,  2.13s/it]"
     ]
    },
    {
     "name": "stdout",
     "output_type": "stream",
     "text": [
      "constant-w/variance fit, converged in 119 iterations, train_loss=-730.7376675\n",
      "lambda=1.0000000, alpha=0.5262793, converged in 20 iterations, train_loss=-1196.8978221\n",
      "constant-w/variance fit, converged in 114 iterations, train_loss=-742.4587811\n"
     ]
    },
    {
     "name": "stderr",
     "output_type": "stream",
     "text": [
      "\r",
      "45it [01:39,  2.14s/it]"
     ]
    },
    {
     "name": "stdout",
     "output_type": "stream",
     "text": [
      "constant-w/variance fit, converged in 114 iterations, train_loss=-742.4587811\n",
      "lambda=1.0000000, alpha=0.5241011, converged in 20 iterations, train_loss=-1206.7669172\n",
      "constant-w/variance fit, converged in 109 iterations, train_loss=-723.5979164\n"
     ]
    },
    {
     "name": "stderr",
     "output_type": "stream",
     "text": [
      "\r",
      "46it [01:41,  2.14s/it]"
     ]
    },
    {
     "name": "stdout",
     "output_type": "stream",
     "text": [
      "constant-w/variance fit, converged in 109 iterations, train_loss=-723.5979164\n",
      "lambda=1.0000000, alpha=0.5252380, converged in 20 iterations, train_loss=-1185.2570053\n",
      "constant-w/variance fit, converged in 101 iterations, train_loss=-755.2879471\n"
     ]
    },
    {
     "name": "stderr",
     "output_type": "stream",
     "text": [
      "\r",
      "47it [01:43,  2.11s/it]"
     ]
    },
    {
     "name": "stdout",
     "output_type": "stream",
     "text": [
      "constant-w/variance fit, converged in 101 iterations, train_loss=-755.2879471\n",
      "lambda=1.0000000, alpha=0.5251004, converged in 20 iterations, train_loss=-1220.2260731\n",
      "constant-w/variance fit, converged in 113 iterations, train_loss=-755.3766822\n"
     ]
    },
    {
     "name": "stderr",
     "output_type": "stream",
     "text": [
      "\r",
      "48it [01:46,  2.12s/it]"
     ]
    },
    {
     "name": "stdout",
     "output_type": "stream",
     "text": [
      "constant-w/variance fit, converged in 113 iterations, train_loss=-755.3766822\n",
      "lambda=1.0000000, alpha=0.5260368, converged in 20 iterations, train_loss=-1220.6094967\n",
      "constant-w/variance fit, converged in 102 iterations, train_loss=-831.6121767\n"
     ]
    },
    {
     "name": "stderr",
     "output_type": "stream",
     "text": [
      "\r",
      "49it [01:48,  2.20s/it]"
     ]
    },
    {
     "name": "stdout",
     "output_type": "stream",
     "text": [
      "constant-w/variance fit, converged in 102 iterations, train_loss=-831.6121767\n",
      "lambda=1.0000000, alpha=0.5270347, converged in 19 iterations, train_loss=-1305.7488714\n",
      "constant-w/variance fit, converged in 104 iterations, train_loss=-766.5694713\n"
     ]
    },
    {
     "name": "stderr",
     "output_type": "stream",
     "text": [
      "\r",
      "50it [01:50,  2.19s/it]"
     ]
    },
    {
     "name": "stdout",
     "output_type": "stream",
     "text": [
      "constant-w/variance fit, converged in 104 iterations, train_loss=-766.5694713\n",
      "lambda=1.0000000, alpha=0.5240545, converged in 20 iterations, train_loss=-1233.5383498\n",
      "constant-w/variance fit, converged in 101 iterations, train_loss=-754.1586137\n"
     ]
    },
    {
     "name": "stderr",
     "output_type": "stream",
     "text": [
      "\r",
      "51it [01:52,  2.17s/it]"
     ]
    },
    {
     "name": "stdout",
     "output_type": "stream",
     "text": [
      "constant-w/variance fit, converged in 101 iterations, train_loss=-754.1586137\n",
      "lambda=1.0000000, alpha=0.5242889, converged in 20 iterations, train_loss=-1219.4844277\n",
      "constant-w/variance fit, converged in 106 iterations, train_loss=-787.1975034\n"
     ]
    },
    {
     "name": "stderr",
     "output_type": "stream",
     "text": [
      "\r",
      "52it [01:54,  2.15s/it]"
     ]
    },
    {
     "name": "stdout",
     "output_type": "stream",
     "text": [
      "constant-w/variance fit, converged in 106 iterations, train_loss=-787.1975034\n",
      "lambda=1.0000000, alpha=0.5235838, converged in 20 iterations, train_loss=-1256.9750078\n",
      "constant-w/variance fit, converged in 101 iterations, train_loss=-763.2251528\n"
     ]
    },
    {
     "name": "stderr",
     "output_type": "stream",
     "text": [
      "\r",
      "53it [01:56,  2.13s/it]"
     ]
    },
    {
     "name": "stdout",
     "output_type": "stream",
     "text": [
      "constant-w/variance fit, converged in 101 iterations, train_loss=-763.2251528\n",
      "lambda=1.0000000, alpha=0.5289017, converged in 20 iterations, train_loss=-1233.2351767\n",
      "constant-w/variance fit, converged in 103 iterations, train_loss=-817.1814512\n"
     ]
    },
    {
     "name": "stderr",
     "output_type": "stream",
     "text": [
      "\r",
      "54it [01:59,  2.14s/it]"
     ]
    },
    {
     "name": "stdout",
     "output_type": "stream",
     "text": [
      "constant-w/variance fit, converged in 103 iterations, train_loss=-817.1814512\n",
      "lambda=1.0000000, alpha=0.5205902, converged in 20 iterations, train_loss=-1289.2833125\n",
      "constant-w/variance fit, converged in 122 iterations, train_loss=-835.8769222\n"
     ]
    },
    {
     "name": "stderr",
     "output_type": "stream",
     "text": [
      "\r",
      "55it [02:01,  2.15s/it]"
     ]
    },
    {
     "name": "stdout",
     "output_type": "stream",
     "text": [
      "constant-w/variance fit, converged in 122 iterations, train_loss=-835.8769222\n",
      "lambda=1.0000000, alpha=0.5161335, converged in 20 iterations, train_loss=-1308.3111539\n",
      "constant-w/variance fit, converged in 99 iterations, train_loss=-760.2274209\n"
     ]
    },
    {
     "name": "stderr",
     "output_type": "stream",
     "text": [
      "\r",
      "56it [02:03,  2.12s/it]"
     ]
    },
    {
     "name": "stdout",
     "output_type": "stream",
     "text": [
      "constant-w/variance fit, converged in 99 iterations, train_loss=-760.2274209\n",
      "lambda=1.0000000, alpha=0.5229409, converged in 20 iterations, train_loss=-1226.3416751\n",
      "constant-w/variance fit, converged in 115 iterations, train_loss=-740.9442820\n"
     ]
    },
    {
     "name": "stderr",
     "output_type": "stream",
     "text": [
      "\r",
      "57it [02:05,  2.17s/it]"
     ]
    },
    {
     "name": "stdout",
     "output_type": "stream",
     "text": [
      "constant-w/variance fit, converged in 115 iterations, train_loss=-740.9442820\n",
      "lambda=1.0000000, alpha=0.5278907, converged in 20 iterations, train_loss=-1209.7215819\n",
      "constant-w/variance fit, converged in 113 iterations, train_loss=-742.9606165\n"
     ]
    },
    {
     "name": "stderr",
     "output_type": "stream",
     "text": [
      "\r",
      "58it [02:07,  2.15s/it]"
     ]
    },
    {
     "name": "stdout",
     "output_type": "stream",
     "text": [
      "constant-w/variance fit, converged in 113 iterations, train_loss=-742.9606165\n",
      "lambda=1.0000000, alpha=0.5257043, converged in 20 iterations, train_loss=-1215.0835579\n",
      "constant-w/variance fit, converged in 106 iterations, train_loss=-799.8297548\n"
     ]
    },
    {
     "name": "stderr",
     "output_type": "stream",
     "text": [
      "\r",
      "59it [02:09,  2.13s/it]"
     ]
    },
    {
     "name": "stdout",
     "output_type": "stream",
     "text": [
      "constant-w/variance fit, converged in 106 iterations, train_loss=-799.8297548\n",
      "lambda=1.0000000, alpha=0.5260025, converged in 19 iterations, train_loss=-1268.5180465\n",
      "constant-w/variance fit, converged in 107 iterations, train_loss=-805.5237815\n"
     ]
    },
    {
     "name": "stderr",
     "output_type": "stream",
     "text": [
      "\r",
      "60it [02:11,  2.12s/it]"
     ]
    },
    {
     "name": "stdout",
     "output_type": "stream",
     "text": [
      "constant-w/variance fit, converged in 107 iterations, train_loss=-805.5237815\n",
      "lambda=1.0000000, alpha=0.5202047, converged in 20 iterations, train_loss=-1272.8298630\n",
      "constant-w/variance fit, converged in 100 iterations, train_loss=-755.5276270\n"
     ]
    },
    {
     "name": "stderr",
     "output_type": "stream",
     "text": [
      "\r",
      "61it [02:13,  2.09s/it]"
     ]
    },
    {
     "name": "stdout",
     "output_type": "stream",
     "text": [
      "constant-w/variance fit, converged in 100 iterations, train_loss=-755.5276270\n",
      "lambda=1.0000000, alpha=0.5226601, converged in 20 iterations, train_loss=-1219.8917829\n",
      "constant-w/variance fit, converged in 118 iterations, train_loss=-743.4428351\n"
     ]
    },
    {
     "name": "stderr",
     "output_type": "stream",
     "text": [
      "\r",
      "62it [02:16,  2.10s/it]"
     ]
    },
    {
     "name": "stdout",
     "output_type": "stream",
     "text": [
      "constant-w/variance fit, converged in 118 iterations, train_loss=-743.4428351\n",
      "lambda=1.0000000, alpha=0.5253424, converged in 20 iterations, train_loss=-1209.4948357\n",
      "constant-w/variance fit, converged in 107 iterations, train_loss=-867.7759428\n"
     ]
    },
    {
     "name": "stderr",
     "output_type": "stream",
     "text": [
      "\r",
      "63it [02:18,  2.09s/it]"
     ]
    },
    {
     "name": "stdout",
     "output_type": "stream",
     "text": [
      "constant-w/variance fit, converged in 107 iterations, train_loss=-867.7759428\n",
      "lambda=1.0000000, alpha=0.5250364, converged in 20 iterations, train_loss=-1349.5231836\n",
      "constant-w/variance fit, converged in 111 iterations, train_loss=-747.4254281\n"
     ]
    },
    {
     "name": "stderr",
     "output_type": "stream",
     "text": [
      "\r",
      "64it [02:20,  2.10s/it]"
     ]
    },
    {
     "name": "stdout",
     "output_type": "stream",
     "text": [
      "constant-w/variance fit, converged in 111 iterations, train_loss=-747.4254281\n",
      "lambda=1.0000000, alpha=0.5384480, converged in 19 iterations, train_loss=-1220.4663448\n",
      "constant-w/variance fit, converged in 114 iterations, train_loss=-788.0989289\n"
     ]
    },
    {
     "name": "stderr",
     "output_type": "stream",
     "text": [
      "\r",
      "65it [02:22,  2.10s/it]"
     ]
    },
    {
     "name": "stdout",
     "output_type": "stream",
     "text": [
      "constant-w/variance fit, converged in 114 iterations, train_loss=-788.0989289\n",
      "lambda=1.0000000, alpha=0.5237571, converged in 20 iterations, train_loss=-1251.2122518\n",
      "constant-w/variance fit, converged in 100 iterations, train_loss=-782.3831123\n"
     ]
    },
    {
     "name": "stderr",
     "output_type": "stream",
     "text": [
      "\r",
      "66it [02:24,  2.07s/it]"
     ]
    },
    {
     "name": "stdout",
     "output_type": "stream",
     "text": [
      "constant-w/variance fit, converged in 100 iterations, train_loss=-782.3831123\n",
      "lambda=1.0000000, alpha=0.5206651, converged in 20 iterations, train_loss=-1246.0691073\n",
      "constant-w/variance fit, converged in 112 iterations, train_loss=-743.7891854\n"
     ]
    },
    {
     "name": "stderr",
     "output_type": "stream",
     "text": [
      "\r",
      "67it [02:26,  2.08s/it]"
     ]
    },
    {
     "name": "stdout",
     "output_type": "stream",
     "text": [
      "constant-w/variance fit, converged in 112 iterations, train_loss=-743.7891854\n",
      "lambda=1.0000000, alpha=0.5234989, converged in 20 iterations, train_loss=-1208.4617414\n",
      "constant-w/variance fit, converged in 113 iterations, train_loss=-742.1664265\n"
     ]
    },
    {
     "name": "stderr",
     "output_type": "stream",
     "text": [
      "\r",
      "68it [02:28,  2.14s/it]"
     ]
    },
    {
     "name": "stdout",
     "output_type": "stream",
     "text": [
      "constant-w/variance fit, converged in 113 iterations, train_loss=-742.1664265\n",
      "lambda=1.0000000, alpha=0.5216194, converged in 20 iterations, train_loss=-1203.1423325\n",
      "constant-w/variance fit, converged in 113 iterations, train_loss=-741.8074647\n"
     ]
    },
    {
     "name": "stderr",
     "output_type": "stream",
     "text": [
      "\r",
      "69it [02:31,  2.19s/it]"
     ]
    },
    {
     "name": "stdout",
     "output_type": "stream",
     "text": [
      "constant-w/variance fit, converged in 113 iterations, train_loss=-741.8074647\n",
      "lambda=1.0000000, alpha=0.5262312, converged in 20 iterations, train_loss=-1206.8892087\n",
      "constant-w/variance fit, converged in 105 iterations, train_loss=-755.9658869\n"
     ]
    },
    {
     "name": "stderr",
     "output_type": "stream",
     "text": [
      "\r",
      "70it [02:33,  2.21s/it]"
     ]
    },
    {
     "name": "stdout",
     "output_type": "stream",
     "text": [
      "constant-w/variance fit, converged in 105 iterations, train_loss=-755.9658869\n",
      "lambda=1.0000000, alpha=0.5276341, converged in 20 iterations, train_loss=-1225.1906105\n",
      "constant-w/variance fit, converged in 103 iterations, train_loss=-782.8715850\n"
     ]
    },
    {
     "name": "stderr",
     "output_type": "stream",
     "text": [
      "\r",
      "71it [02:35,  2.20s/it]"
     ]
    },
    {
     "name": "stdout",
     "output_type": "stream",
     "text": [
      "constant-w/variance fit, converged in 103 iterations, train_loss=-782.8715850\n",
      "lambda=1.0000000, alpha=0.5266170, converged in 20 iterations, train_loss=-1253.3614052\n",
      "constant-w/variance fit, converged in 100 iterations, train_loss=-753.2968284\n"
     ]
    },
    {
     "name": "stderr",
     "output_type": "stream",
     "text": [
      "\r",
      "72it [02:37,  2.18s/it]"
     ]
    },
    {
     "name": "stdout",
     "output_type": "stream",
     "text": [
      "constant-w/variance fit, converged in 100 iterations, train_loss=-753.2968284\n",
      "lambda=1.0000000, alpha=0.5226595, converged in 20 iterations, train_loss=-1218.7909809\n",
      "constant-w/variance fit, converged in 114 iterations, train_loss=-738.9182908\n"
     ]
    },
    {
     "name": "stderr",
     "output_type": "stream",
     "text": [
      "\r",
      "73it [02:39,  2.20s/it]"
     ]
    },
    {
     "name": "stdout",
     "output_type": "stream",
     "text": [
      "constant-w/variance fit, converged in 114 iterations, train_loss=-738.9182908\n",
      "lambda=1.0000000, alpha=0.5244998, converged in 20 iterations, train_loss=-1204.2403780\n",
      "constant-w/variance fit, converged in 103 iterations, train_loss=-780.6432847\n"
     ]
    },
    {
     "name": "stderr",
     "output_type": "stream",
     "text": [
      "\r",
      "74it [02:42,  2.18s/it]"
     ]
    },
    {
     "name": "stdout",
     "output_type": "stream",
     "text": [
      "constant-w/variance fit, converged in 103 iterations, train_loss=-780.6432847\n",
      "lambda=1.0000000, alpha=0.5277592, converged in 20 iterations, train_loss=-1253.6435722\n",
      "constant-w/variance fit, converged in 199 iterations, train_loss=-1006.9087061\n"
     ]
    },
    {
     "name": "stderr",
     "output_type": "stream",
     "text": [
      "\r",
      "75it [02:44,  2.34s/it]"
     ]
    },
    {
     "name": "stdout",
     "output_type": "stream",
     "text": [
      "constant-w/variance fit, converged in 199 iterations, train_loss=-1006.9087061\n",
      "lambda=1.0000000, alpha=0.5312417, converged in 18 iterations, train_loss=-1454.8901007\n",
      "constant-w/variance fit, converged in 102 iterations, train_loss=-787.1036376\n"
     ]
    },
    {
     "name": "stderr",
     "output_type": "stream",
     "text": [
      "\r",
      "76it [02:46,  2.24s/it]"
     ]
    },
    {
     "name": "stdout",
     "output_type": "stream",
     "text": [
      "constant-w/variance fit, converged in 102 iterations, train_loss=-787.1036376\n",
      "lambda=1.0000000, alpha=0.5270700, converged in 19 iterations, train_loss=-1258.9171451\n",
      "constant-w/variance fit, converged in 98 iterations, train_loss=-784.4405952\n"
     ]
    },
    {
     "name": "stderr",
     "output_type": "stream",
     "text": [
      "\r",
      "77it [02:48,  2.17s/it]"
     ]
    },
    {
     "name": "stdout",
     "output_type": "stream",
     "text": [
      "constant-w/variance fit, converged in 98 iterations, train_loss=-784.4405952\n",
      "lambda=1.0000000, alpha=0.5270857, converged in 19 iterations, train_loss=-1254.8262483\n",
      "constant-w/variance fit, converged in 108 iterations, train_loss=-753.6988217\n"
     ]
    },
    {
     "name": "stderr",
     "output_type": "stream",
     "text": [
      "\r",
      "78it [02:50,  2.14s/it]"
     ]
    },
    {
     "name": "stdout",
     "output_type": "stream",
     "text": [
      "constant-w/variance fit, converged in 108 iterations, train_loss=-753.6988217\n",
      "lambda=1.0000000, alpha=0.5277044, converged in 20 iterations, train_loss=-1222.2494581\n",
      "constant-w/variance fit, converged in 102 iterations, train_loss=-774.9419057\n"
     ]
    },
    {
     "name": "stderr",
     "output_type": "stream",
     "text": [
      "\r",
      "79it [02:52,  2.10s/it]"
     ]
    },
    {
     "name": "stdout",
     "output_type": "stream",
     "text": [
      "constant-w/variance fit, converged in 102 iterations, train_loss=-774.9419057\n",
      "lambda=1.0000000, alpha=0.5235787, converged in 20 iterations, train_loss=-1242.0192419\n",
      "constant-w/variance fit, converged in 102 iterations, train_loss=-777.8031682\n"
     ]
    },
    {
     "name": "stderr",
     "output_type": "stream",
     "text": [
      "\r",
      "80it [02:54,  2.10s/it]"
     ]
    },
    {
     "name": "stdout",
     "output_type": "stream",
     "text": [
      "constant-w/variance fit, converged in 102 iterations, train_loss=-777.8031682\n",
      "lambda=1.0000000, alpha=0.5269762, converged in 20 iterations, train_loss=-1247.1282242\n",
      "constant-w/variance fit, converged in 104 iterations, train_loss=-727.6197671\n"
     ]
    },
    {
     "name": "stderr",
     "output_type": "stream",
     "text": [
      "\r",
      "81it [02:56,  2.08s/it]"
     ]
    },
    {
     "name": "stdout",
     "output_type": "stream",
     "text": [
      "constant-w/variance fit, converged in 104 iterations, train_loss=-727.6197671\n",
      "lambda=1.0000000, alpha=0.5230499, converged in 20 iterations, train_loss=-1183.9681012\n",
      "constant-w/variance fit, converged in 116 iterations, train_loss=-747.9404821\n"
     ]
    },
    {
     "name": "stderr",
     "output_type": "stream",
     "text": [
      "\r",
      "82it [02:59,  2.11s/it]"
     ]
    },
    {
     "name": "stdout",
     "output_type": "stream",
     "text": [
      "constant-w/variance fit, converged in 116 iterations, train_loss=-747.9404821\n",
      "lambda=1.0000000, alpha=0.5265298, converged in 20 iterations, train_loss=-1215.2835771\n",
      "constant-w/variance fit, converged in 100 iterations, train_loss=-761.2653807\n"
     ]
    },
    {
     "name": "stderr",
     "output_type": "stream",
     "text": [
      "\r",
      "83it [03:01,  2.09s/it]"
     ]
    },
    {
     "name": "stdout",
     "output_type": "stream",
     "text": [
      "constant-w/variance fit, converged in 100 iterations, train_loss=-761.2653807\n",
      "lambda=1.0000000, alpha=0.5225524, converged in 20 iterations, train_loss=-1219.8037726\n",
      "constant-w/variance fit, converged in 113 iterations, train_loss=-805.3689500\n"
     ]
    },
    {
     "name": "stderr",
     "output_type": "stream",
     "text": [
      "\r",
      "84it [03:03,  2.11s/it]"
     ]
    },
    {
     "name": "stdout",
     "output_type": "stream",
     "text": [
      "constant-w/variance fit, converged in 113 iterations, train_loss=-805.3689500\n",
      "lambda=1.0000000, alpha=0.5255494, converged in 19 iterations, train_loss=-1277.6374179\n",
      "constant-w/variance fit, converged in 101 iterations, train_loss=-819.6442402\n"
     ]
    },
    {
     "name": "stderr",
     "output_type": "stream",
     "text": [
      "\r",
      "85it [03:05,  2.08s/it]"
     ]
    },
    {
     "name": "stdout",
     "output_type": "stream",
     "text": [
      "constant-w/variance fit, converged in 101 iterations, train_loss=-819.6442402\n",
      "lambda=1.0000000, alpha=0.5301557, converged in 20 iterations, train_loss=-1298.3459600\n",
      "constant-w/variance fit, converged in 113 iterations, train_loss=-840.3027695\n"
     ]
    },
    {
     "name": "stderr",
     "output_type": "stream",
     "text": [
      "\r",
      "86it [03:07,  2.08s/it]"
     ]
    },
    {
     "name": "stdout",
     "output_type": "stream",
     "text": [
      "constant-w/variance fit, converged in 113 iterations, train_loss=-840.3027695\n",
      "lambda=1.0000000, alpha=0.5279469, converged in 19 iterations, train_loss=-1318.3943862\n",
      "constant-w/variance fit, converged in 102 iterations, train_loss=-780.0140124\n"
     ]
    },
    {
     "name": "stderr",
     "output_type": "stream",
     "text": [
      "\r",
      "87it [03:09,  2.07s/it]"
     ]
    },
    {
     "name": "stdout",
     "output_type": "stream",
     "text": [
      "constant-w/variance fit, converged in 102 iterations, train_loss=-780.0140124\n",
      "lambda=1.0000000, alpha=0.5240963, converged in 20 iterations, train_loss=-1249.7572089\n",
      "constant-w/variance fit, converged in 103 iterations, train_loss=-769.3101852\n"
     ]
    },
    {
     "name": "stderr",
     "output_type": "stream",
     "text": [
      "\r",
      "88it [03:11,  2.08s/it]"
     ]
    },
    {
     "name": "stdout",
     "output_type": "stream",
     "text": [
      "constant-w/variance fit, converged in 103 iterations, train_loss=-769.3101852\n",
      "lambda=1.0000000, alpha=0.5265656, converged in 20 iterations, train_loss=-1240.4843007\n",
      "constant-w/variance fit, converged in 116 iterations, train_loss=-843.0825775\n"
     ]
    },
    {
     "name": "stderr",
     "output_type": "stream",
     "text": [
      "\r",
      "89it [03:13,  2.09s/it]"
     ]
    },
    {
     "name": "stdout",
     "output_type": "stream",
     "text": [
      "constant-w/variance fit, converged in 116 iterations, train_loss=-843.0825775\n",
      "lambda=1.0000000, alpha=0.5207620, converged in 19 iterations, train_loss=-1312.9049692\n",
      "constant-w/variance fit, converged in 114 iterations, train_loss=-739.0634837\n"
     ]
    },
    {
     "name": "stderr",
     "output_type": "stream",
     "text": [
      "\r",
      "90it [03:15,  2.08s/it]"
     ]
    },
    {
     "name": "stdout",
     "output_type": "stream",
     "text": [
      "constant-w/variance fit, converged in 114 iterations, train_loss=-739.0634837\n",
      "lambda=1.0000000, alpha=0.5256185, converged in 20 iterations, train_loss=-1211.1266860\n",
      "constant-w/variance fit, converged in 104 iterations, train_loss=-804.7466068\n"
     ]
    },
    {
     "name": "stderr",
     "output_type": "stream",
     "text": [
      "\r",
      "91it [03:17,  2.05s/it]"
     ]
    },
    {
     "name": "stdout",
     "output_type": "stream",
     "text": [
      "constant-w/variance fit, converged in 104 iterations, train_loss=-804.7466068\n",
      "lambda=1.0000000, alpha=0.5300351, converged in 19 iterations, train_loss=-1277.5277622\n",
      "constant-w/variance fit, converged in 104 iterations, train_loss=-776.1906015\n"
     ]
    },
    {
     "name": "stderr",
     "output_type": "stream",
     "text": [
      "\r",
      "92it [03:19,  2.07s/it]"
     ]
    },
    {
     "name": "stdout",
     "output_type": "stream",
     "text": [
      "constant-w/variance fit, converged in 104 iterations, train_loss=-776.1906015\n",
      "lambda=1.0000000, alpha=0.5252253, converged in 19 iterations, train_loss=-1249.6254669\n",
      "constant-w/variance fit, converged in 111 iterations, train_loss=-803.0800876\n"
     ]
    },
    {
     "name": "stderr",
     "output_type": "stream",
     "text": [
      "\r",
      "93it [03:21,  2.06s/it]"
     ]
    },
    {
     "name": "stdout",
     "output_type": "stream",
     "text": [
      "constant-w/variance fit, converged in 111 iterations, train_loss=-803.0800876\n",
      "lambda=1.0000000, alpha=0.5252145, converged in 19 iterations, train_loss=-1274.8308737\n",
      "constant-w/variance fit, converged in 113 iterations, train_loss=-804.0982803\n"
     ]
    },
    {
     "name": "stderr",
     "output_type": "stream",
     "text": [
      "\r",
      "94it [03:23,  2.07s/it]"
     ]
    },
    {
     "name": "stdout",
     "output_type": "stream",
     "text": [
      "constant-w/variance fit, converged in 113 iterations, train_loss=-804.0982803\n",
      "lambda=1.0000000, alpha=0.5241094, converged in 19 iterations, train_loss=-1274.1190746\n",
      "constant-w/variance fit, converged in 101 iterations, train_loss=-791.9129433\n"
     ]
    },
    {
     "name": "stderr",
     "output_type": "stream",
     "text": [
      "\r",
      "95it [03:26,  2.23s/it]"
     ]
    },
    {
     "name": "stdout",
     "output_type": "stream",
     "text": [
      "constant-w/variance fit, converged in 101 iterations, train_loss=-791.9129433\n",
      "lambda=1.0000000, alpha=0.5232669, converged in 20 iterations, train_loss=-1262.2495958\n",
      "constant-w/variance fit, converged in 106 iterations, train_loss=-833.6658562\n"
     ]
    },
    {
     "name": "stderr",
     "output_type": "stream",
     "text": [
      "\r",
      "96it [03:28,  2.20s/it]"
     ]
    },
    {
     "name": "stdout",
     "output_type": "stream",
     "text": [
      "constant-w/variance fit, converged in 106 iterations, train_loss=-833.6658562\n",
      "lambda=1.0000000, alpha=0.5158791, converged in 20 iterations, train_loss=-1295.6508855\n",
      "constant-w/variance fit, converged in 111 iterations, train_loss=-774.1510187\n"
     ]
    },
    {
     "name": "stderr",
     "output_type": "stream",
     "text": [
      "\r",
      "97it [03:30,  2.16s/it]"
     ]
    },
    {
     "name": "stdout",
     "output_type": "stream",
     "text": [
      "constant-w/variance fit, converged in 111 iterations, train_loss=-774.1510187\n",
      "lambda=1.0000000, alpha=0.5363341, converged in 19 iterations, train_loss=-1249.6352937\n",
      "constant-w/variance fit, converged in 111 iterations, train_loss=-800.5851485\n"
     ]
    },
    {
     "name": "stderr",
     "output_type": "stream",
     "text": [
      "\r",
      "98it [03:32,  2.14s/it]"
     ]
    },
    {
     "name": "stdout",
     "output_type": "stream",
     "text": [
      "constant-w/variance fit, converged in 111 iterations, train_loss=-800.5851485\n",
      "lambda=1.0000000, alpha=0.5222987, converged in 19 iterations, train_loss=-1272.1145734\n",
      "constant-w/variance fit, converged in 120 iterations, train_loss=-1027.9281292\n"
     ]
    },
    {
     "name": "stderr",
     "output_type": "stream",
     "text": [
      "\r",
      "99it [03:35,  2.15s/it]"
     ]
    },
    {
     "name": "stdout",
     "output_type": "stream",
     "text": [
      "constant-w/variance fit, converged in 120 iterations, train_loss=-1027.9281292\n",
      "lambda=1.0000000, alpha=0.5338194, converged in 19 iterations, train_loss=-1472.1473593\n",
      "constant-w/variance fit, converged in 115 iterations, train_loss=-745.6528253\n"
     ]
    },
    {
     "name": "stderr",
     "output_type": "stream",
     "text": [
      "\r",
      "100it [03:37,  2.14s/it]"
     ]
    },
    {
     "name": "stdout",
     "output_type": "stream",
     "text": [
      "constant-w/variance fit, converged in 115 iterations, train_loss=-745.6528253\n",
      "lambda=1.0000000, alpha=0.5278276, converged in 20 iterations, train_loss=-1219.3675960\n",
      "constant-w/variance fit, converged in 101 iterations, train_loss=-756.2825015\n"
     ]
    },
    {
     "name": "stderr",
     "output_type": "stream",
     "text": [
      "\r",
      "101it [03:39,  2.11s/it]"
     ]
    },
    {
     "name": "stdout",
     "output_type": "stream",
     "text": [
      "constant-w/variance fit, converged in 101 iterations, train_loss=-756.2825015\n",
      "lambda=1.0000000, alpha=0.5292239, converged in 20 iterations, train_loss=-1227.7477415\n",
      "constant-w/variance fit, converged in 105 iterations, train_loss=-782.0208811\n"
     ]
    },
    {
     "name": "stderr",
     "output_type": "stream",
     "text": [
      "\r",
      "102it [03:41,  2.10s/it]"
     ]
    },
    {
     "name": "stdout",
     "output_type": "stream",
     "text": [
      "constant-w/variance fit, converged in 105 iterations, train_loss=-782.0208811\n",
      "lambda=1.0000000, alpha=0.5271005, converged in 19 iterations, train_loss=-1254.4501455\n",
      "constant-w/variance fit, converged in 100 iterations, train_loss=-757.0338037\n"
     ]
    },
    {
     "name": "stderr",
     "output_type": "stream",
     "text": [
      "\r",
      "103it [03:43,  2.08s/it]"
     ]
    },
    {
     "name": "stdout",
     "output_type": "stream",
     "text": [
      "constant-w/variance fit, converged in 100 iterations, train_loss=-757.0338037\n",
      "lambda=1.0000000, alpha=0.5215623, converged in 20 iterations, train_loss=-1220.2180058\n",
      "constant-w/variance fit, converged in 106 iterations, train_loss=-800.3962166\n"
     ]
    },
    {
     "name": "stderr",
     "output_type": "stream",
     "text": [
      "\r",
      "104it [03:45,  2.07s/it]"
     ]
    },
    {
     "name": "stdout",
     "output_type": "stream",
     "text": [
      "constant-w/variance fit, converged in 106 iterations, train_loss=-800.3962166\n",
      "lambda=1.0000000, alpha=0.5271270, converged in 19 iterations, train_loss=-1274.3585431\n",
      "constant-w/variance fit, converged in 103 iterations, train_loss=-766.1970135\n"
     ]
    },
    {
     "name": "stderr",
     "output_type": "stream",
     "text": [
      "\r",
      "105it [03:47,  2.08s/it]"
     ]
    },
    {
     "name": "stdout",
     "output_type": "stream",
     "text": [
      "constant-w/variance fit, converged in 103 iterations, train_loss=-766.1970135\n",
      "lambda=1.0000000, alpha=0.5221635, converged in 20 iterations, train_loss=-1230.8246995\n",
      "constant-w/variance fit, converged in 115 iterations, train_loss=-840.5223482\n"
     ]
    },
    {
     "name": "stderr",
     "output_type": "stream",
     "text": [
      "\r",
      "106it [03:49,  2.08s/it]"
     ]
    },
    {
     "name": "stdout",
     "output_type": "stream",
     "text": [
      "constant-w/variance fit, converged in 115 iterations, train_loss=-840.5223482\n",
      "lambda=1.0000000, alpha=0.5246471, converged in 19 iterations, train_loss=-1315.2480895\n",
      "constant-w/variance fit, converged in 99 iterations, train_loss=-758.8634095\n"
     ]
    },
    {
     "name": "stderr",
     "output_type": "stream",
     "text": [
      "\r",
      "107it [03:51,  2.06s/it]"
     ]
    },
    {
     "name": "stdout",
     "output_type": "stream",
     "text": [
      "constant-w/variance fit, converged in 99 iterations, train_loss=-758.8634095\n",
      "lambda=1.0000000, alpha=0.5269058, converged in 20 iterations, train_loss=-1229.3648641\n",
      "constant-w/variance fit, converged in 117 iterations, train_loss=-742.5916187\n"
     ]
    },
    {
     "name": "stderr",
     "output_type": "stream",
     "text": [
      "\r",
      "108it [03:53,  2.07s/it]"
     ]
    },
    {
     "name": "stdout",
     "output_type": "stream",
     "text": [
      "constant-w/variance fit, converged in 117 iterations, train_loss=-742.5916187\n",
      "lambda=1.0000000, alpha=0.5292794, converged in 19 iterations, train_loss=-1219.1413487\n",
      "constant-w/variance fit, converged in 111 iterations, train_loss=-1035.7825784\n"
     ]
    },
    {
     "name": "stderr",
     "output_type": "stream",
     "text": [
      "\r",
      "109it [03:55,  2.09s/it]"
     ]
    },
    {
     "name": "stdout",
     "output_type": "stream",
     "text": [
      "constant-w/variance fit, converged in 111 iterations, train_loss=-1035.7825784\n",
      "lambda=1.0000000, alpha=0.5287280, converged in 18 iterations, train_loss=-1470.9085955\n",
      "constant-w/variance fit, converged in 118 iterations, train_loss=-732.3727975\n"
     ]
    },
    {
     "name": "stderr",
     "output_type": "stream",
     "text": [
      "\r",
      "110it [03:57,  2.10s/it]"
     ]
    },
    {
     "name": "stdout",
     "output_type": "stream",
     "text": [
      "constant-w/variance fit, converged in 118 iterations, train_loss=-732.3727975\n",
      "lambda=1.0000000, alpha=0.5244167, converged in 20 iterations, train_loss=-1201.7792080\n",
      "constant-w/variance fit, converged in 104 iterations, train_loss=-761.7423872\n"
     ]
    },
    {
     "name": "stderr",
     "output_type": "stream",
     "text": [
      "\r",
      "111it [03:59,  2.09s/it]"
     ]
    },
    {
     "name": "stdout",
     "output_type": "stream",
     "text": [
      "constant-w/variance fit, converged in 104 iterations, train_loss=-761.7423872\n",
      "lambda=1.0000000, alpha=0.5275826, converged in 20 iterations, train_loss=-1231.0891145\n",
      "constant-w/variance fit, converged in 100 iterations, train_loss=-781.7117533\n"
     ]
    },
    {
     "name": "stderr",
     "output_type": "stream",
     "text": [
      "\r",
      "112it [04:01,  2.07s/it]"
     ]
    },
    {
     "name": "stdout",
     "output_type": "stream",
     "text": [
      "constant-w/variance fit, converged in 100 iterations, train_loss=-781.7117533\n",
      "lambda=1.0000000, alpha=0.5353458, converged in 20 iterations, train_loss=-1259.3308890\n",
      "constant-w/variance fit, converged in 109 iterations, train_loss=-893.1957611\n"
     ]
    },
    {
     "name": "stderr",
     "output_type": "stream",
     "text": [
      "\r",
      "113it [04:04,  2.07s/it]"
     ]
    },
    {
     "name": "stdout",
     "output_type": "stream",
     "text": [
      "constant-w/variance fit, converged in 109 iterations, train_loss=-893.1957611\n",
      "lambda=1.0000000, alpha=0.5117818, converged in 20 iterations, train_loss=-1339.6216532\n",
      "constant-w/variance fit, converged in 103 iterations, train_loss=-749.7537073\n"
     ]
    },
    {
     "name": "stderr",
     "output_type": "stream",
     "text": [
      "\r",
      "114it [04:06,  2.06s/it]"
     ]
    },
    {
     "name": "stdout",
     "output_type": "stream",
     "text": [
      "constant-w/variance fit, converged in 103 iterations, train_loss=-749.7537073\n",
      "lambda=1.0000000, alpha=0.5278035, converged in 20 iterations, train_loss=-1214.5461118\n",
      "constant-w/variance fit, converged in 111 iterations, train_loss=-812.3426947\n"
     ]
    },
    {
     "name": "stderr",
     "output_type": "stream",
     "text": [
      "\r",
      "115it [04:08,  2.07s/it]"
     ]
    },
    {
     "name": "stdout",
     "output_type": "stream",
     "text": [
      "constant-w/variance fit, converged in 111 iterations, train_loss=-812.3426947\n",
      "lambda=1.0000000, alpha=0.5179077, converged in 20 iterations, train_loss=-1263.9407765\n",
      "constant-w/variance fit, converged in 110 iterations, train_loss=-752.3935093\n"
     ]
    },
    {
     "name": "stderr",
     "output_type": "stream",
     "text": [
      "\r",
      "116it [04:10,  2.08s/it]"
     ]
    },
    {
     "name": "stdout",
     "output_type": "stream",
     "text": [
      "constant-w/variance fit, converged in 110 iterations, train_loss=-752.3935093\n",
      "lambda=1.0000000, alpha=0.5308673, converged in 20 iterations, train_loss=-1223.1175011\n",
      "constant-w/variance fit, converged in 109 iterations, train_loss=-836.1615568\n"
     ]
    },
    {
     "name": "stderr",
     "output_type": "stream",
     "text": [
      "\r",
      "117it [04:12,  2.08s/it]"
     ]
    },
    {
     "name": "stdout",
     "output_type": "stream",
     "text": [
      "constant-w/variance fit, converged in 109 iterations, train_loss=-836.1615568\n",
      "lambda=1.0000000, alpha=0.5244593, converged in 19 iterations, train_loss=-1314.6043866\n",
      "constant-w/variance fit, converged in 106 iterations, train_loss=-743.2090636\n"
     ]
    },
    {
     "name": "stderr",
     "output_type": "stream",
     "text": [
      "\r",
      "118it [04:14,  2.07s/it]"
     ]
    },
    {
     "name": "stdout",
     "output_type": "stream",
     "text": [
      "constant-w/variance fit, converged in 106 iterations, train_loss=-743.2090636\n",
      "lambda=1.0000000, alpha=0.5298047, converged in 20 iterations, train_loss=-1205.1538656\n",
      "constant-w/variance fit, converged in 102 iterations, train_loss=-778.7836688\n"
     ]
    },
    {
     "name": "stderr",
     "output_type": "stream",
     "text": [
      "\r",
      "119it [04:16,  2.07s/it]"
     ]
    },
    {
     "name": "stdout",
     "output_type": "stream",
     "text": [
      "constant-w/variance fit, converged in 102 iterations, train_loss=-778.7836688\n",
      "lambda=1.0000000, alpha=0.5257073, converged in 20 iterations, train_loss=-1246.5097231\n",
      "constant-w/variance fit, converged in 114 iterations, train_loss=-768.8008332\n"
     ]
    },
    {
     "name": "stderr",
     "output_type": "stream",
     "text": [
      "\r",
      "120it [04:18,  2.07s/it]"
     ]
    },
    {
     "name": "stdout",
     "output_type": "stream",
     "text": [
      "constant-w/variance fit, converged in 114 iterations, train_loss=-768.8008332\n",
      "lambda=1.0000000, alpha=0.5344984, converged in 19 iterations, train_loss=-1239.9871148\n",
      "constant-w/variance fit, converged in 112 iterations, train_loss=-761.4160959\n"
     ]
    },
    {
     "name": "stderr",
     "output_type": "stream",
     "text": [
      "\r",
      "121it [04:20,  2.09s/it]"
     ]
    },
    {
     "name": "stdout",
     "output_type": "stream",
     "text": [
      "constant-w/variance fit, converged in 112 iterations, train_loss=-761.4160959\n",
      "lambda=1.0000000, alpha=0.5273953, converged in 20 iterations, train_loss=-1225.9779259\n",
      "constant-w/variance fit, converged in 106 iterations, train_loss=-811.8801660\n"
     ]
    },
    {
     "name": "stderr",
     "output_type": "stream",
     "text": [
      "\r",
      "122it [04:22,  2.07s/it]"
     ]
    },
    {
     "name": "stdout",
     "output_type": "stream",
     "text": [
      "constant-w/variance fit, converged in 106 iterations, train_loss=-811.8801660\n",
      "lambda=1.0000000, alpha=0.5261625, converged in 19 iterations, train_loss=-1284.0677232\n",
      "constant-w/variance fit, converged in 102 iterations, train_loss=-782.6239159\n"
     ]
    },
    {
     "name": "stderr",
     "output_type": "stream",
     "text": [
      "\r",
      "123it [04:24,  2.07s/it]"
     ]
    },
    {
     "name": "stdout",
     "output_type": "stream",
     "text": [
      "constant-w/variance fit, converged in 102 iterations, train_loss=-782.6239159\n",
      "lambda=1.0000000, alpha=0.5245313, converged in 20 iterations, train_loss=-1253.4117957\n",
      "constant-w/variance fit, converged in 107 iterations, train_loss=-907.1183485\n"
     ]
    },
    {
     "name": "stderr",
     "output_type": "stream",
     "text": [
      "\r",
      "124it [04:26,  2.06s/it]"
     ]
    },
    {
     "name": "stdout",
     "output_type": "stream",
     "text": [
      "constant-w/variance fit, converged in 107 iterations, train_loss=-907.1183485\n",
      "lambda=1.0000000, alpha=0.5227249, converged in 19 iterations, train_loss=-1363.6518688\n",
      "constant-w/variance fit, converged in 122 iterations, train_loss=-778.9182760\n"
     ]
    },
    {
     "name": "stderr",
     "output_type": "stream",
     "text": [
      "\r",
      "125it [04:28,  2.09s/it]"
     ]
    },
    {
     "name": "stdout",
     "output_type": "stream",
     "text": [
      "constant-w/variance fit, converged in 122 iterations, train_loss=-778.9182760\n",
      "lambda=1.0000000, alpha=0.5320903, converged in 20 iterations, train_loss=-1251.7378513\n",
      "constant-w/variance fit, converged in 102 iterations, train_loss=-751.3860876\n"
     ]
    },
    {
     "name": "stderr",
     "output_type": "stream",
     "text": [
      "\r",
      "126it [04:31,  2.08s/it]"
     ]
    },
    {
     "name": "stdout",
     "output_type": "stream",
     "text": [
      "constant-w/variance fit, converged in 102 iterations, train_loss=-751.3860876\n",
      "lambda=1.0000000, alpha=0.5337104, converged in 20 iterations, train_loss=-1225.0902828\n",
      "constant-w/variance fit, converged in 102 iterations, train_loss=-934.9216183\n"
     ]
    },
    {
     "name": "stderr",
     "output_type": "stream",
     "text": [
      "\r",
      "127it [04:33,  2.07s/it]"
     ]
    },
    {
     "name": "stdout",
     "output_type": "stream",
     "text": [
      "constant-w/variance fit, converged in 102 iterations, train_loss=-934.9216183\n",
      "lambda=1.0000000, alpha=0.5193341, converged in 19 iterations, train_loss=-1395.3737455\n",
      "constant-w/variance fit, converged in 102 iterations, train_loss=-854.6981382\n"
     ]
    },
    {
     "name": "stderr",
     "output_type": "stream",
     "text": [
      "128it [04:35,  2.15s/it]"
     ]
    },
    {
     "name": "stdout",
     "output_type": "stream",
     "text": [
      "constant-w/variance fit, converged in 102 iterations, train_loss=-854.6981382\n",
      "lambda=1.0000000, alpha=0.5230035, converged in 20 iterations, train_loss=-1326.8876722\n"
     ]
    },
    {
     "name": "stderr",
     "output_type": "stream",
     "text": [
      "\n"
     ]
    },
    {
     "data": {
      "text/plain": [
       "<matplotlib.axes._subplots.AxesSubplot at 0x7fe2780a0610>"
      ]
     },
     "execution_count": 191,
     "metadata": {},
     "output_type": "execute_result"
    },
    {
     "data": {
      "image/png": "[encoded data removed]",
      "text/plain": [
       "<Figure size 432x288 with 1 Axes>"
      ]
     },
     "metadata": {
      "needs_background": "light"
     },
     "output_type": "display_data"
    }
   ],
   "source": [
    "loo_results = leave_node_out(genotypes[:, :100], coord, grid, edges)\n",
    "loo_results = pd.DataFrame(loo_results).T.rename(\n",
    "    columns = {0:'feems', 1:'ibd', 2:'random'}\n",
    ")\n",
    "loo_results100 = loo_results.apply(lambda x: x.explode())"
   ]
  },
  {
   "cell_type": "code",
   "execution_count": 195,
   "id": "5dd7621d",
   "metadata": {},
   "outputs": [
    {
     "data": {
      "text/plain": [
       "<matplotlib.axes._subplots.AxesSubplot at 0x7fe277ec4b20>"
      ]
     },
     "execution_count": 195,
     "metadata": {},
     "output_type": "execute_result"
    },
    {
     "data": {
      "image/png": "[encoded data removed]",
      "text/plain": [
       "<Figure size 432x288 with 1 Axes>"
      ]
     },
     "metadata": {
      "needs_background": "light"
     },
     "output_type": "display_data"
    }
   ],
   "source": [
    "(loo_results100.reset_index().drop(columns='index')).fillna(10).boxplot()"
   ]
  },
  {
   "cell_type": "code",
   "execution_count": 198,
   "id": "f1fb9d75",
   "metadata": {},
   "outputs": [
    {
     "name": "stderr",
     "output_type": "stream",
     "text": [
      "\r",
      "0it [00:00, ?it/s]"
     ]
    },
    {
     "name": "stdout",
     "output_type": "stream",
     "text": [
      "constant-w/variance fit, converged in 111 iterations, train_loss=-4873.9766850\n"
     ]
    },
    {
     "name": "stderr",
     "output_type": "stream",
     "text": [
      "\r",
      "1it [00:02,  2.01s/it]"
     ]
    },
    {
     "name": "stdout",
     "output_type": "stream",
     "text": [
      "constant-w/variance fit, converged in 111 iterations, train_loss=-4873.9766850\n",
      "lambda=1.0000000, alpha=0.4657140, converged in 17 iterations, train_loss=-6396.5640297\n",
      "constant-w/variance fit, converged in 123 iterations, train_loss=-4855.0683248\n"
     ]
    },
    {
     "name": "stderr",
     "output_type": "stream",
     "text": [
      "\r",
      "2it [00:04,  2.07s/it]"
     ]
    },
    {
     "name": "stdout",
     "output_type": "stream",
     "text": [
      "constant-w/variance fit, converged in 123 iterations, train_loss=-4855.0683248\n",
      "lambda=1.0000000, alpha=0.4610569, converged in 15 iterations, train_loss=-6391.4490384\n",
      "constant-w/variance fit, converged in 113 iterations, train_loss=-4686.6135328\n"
     ]
    },
    {
     "name": "stderr",
     "output_type": "stream",
     "text": [
      "\r",
      "3it [00:06,  2.06s/it]"
     ]
    },
    {
     "name": "stdout",
     "output_type": "stream",
     "text": [
      "constant-w/variance fit, converged in 113 iterations, train_loss=-4686.6135328\n",
      "lambda=1.0000000, alpha=0.4658615, converged in 15 iterations, train_loss=-6218.6459880\n",
      "constant-w/variance fit, converged in 109 iterations, train_loss=-4597.0305196\n"
     ]
    },
    {
     "name": "stderr",
     "output_type": "stream",
     "text": [
      "\r",
      "4it [00:08,  2.05s/it]"
     ]
    },
    {
     "name": "stdout",
     "output_type": "stream",
     "text": [
      "constant-w/variance fit, converged in 109 iterations, train_loss=-4597.0305196\n",
      "lambda=1.0000000, alpha=0.4682450, converged in 14 iterations, train_loss=-6107.3559591\n",
      "constant-w/variance fit, converged in 106 iterations, train_loss=-4715.5649231\n"
     ]
    },
    {
     "name": "stderr",
     "output_type": "stream",
     "text": [
      "\r",
      "5it [00:10,  2.03s/it]"
     ]
    },
    {
     "name": "stdout",
     "output_type": "stream",
     "text": [
      "constant-w/variance fit, converged in 106 iterations, train_loss=-4715.5649231\n",
      "lambda=1.0000000, alpha=0.4631201, converged in 15 iterations, train_loss=-6251.1728495\n",
      "constant-w/variance fit, converged in 116 iterations, train_loss=-4748.3501554\n"
     ]
    },
    {
     "name": "stderr",
     "output_type": "stream",
     "text": [
      "\r",
      "6it [00:12,  2.03s/it]"
     ]
    },
    {
     "name": "stdout",
     "output_type": "stream",
     "text": [
      "constant-w/variance fit, converged in 116 iterations, train_loss=-4748.3501554\n",
      "lambda=1.0000000, alpha=0.4646458, converged in 14 iterations, train_loss=-6285.4482806\n",
      "constant-w/variance fit, converged in 117 iterations, train_loss=-4900.9088628\n"
     ]
    },
    {
     "name": "stderr",
     "output_type": "stream",
     "text": [
      "\r",
      "7it [00:14,  2.05s/it]"
     ]
    },
    {
     "name": "stdout",
     "output_type": "stream",
     "text": [
      "constant-w/variance fit, converged in 117 iterations, train_loss=-4900.9088628\n",
      "lambda=1.0000000, alpha=0.4601492, converged in 16 iterations, train_loss=-6465.1166143\n",
      "constant-w/variance fit, converged in 105 iterations, train_loss=-4646.1408385\n"
     ]
    },
    {
     "name": "stderr",
     "output_type": "stream",
     "text": [
      "\r",
      "8it [00:16,  2.05s/it]"
     ]
    },
    {
     "name": "stdout",
     "output_type": "stream",
     "text": [
      "constant-w/variance fit, converged in 105 iterations, train_loss=-4646.1408385\n",
      "lambda=1.0000000, alpha=0.4684276, converged in 15 iterations, train_loss=-6193.4980383\n",
      "constant-w/variance fit, converged in 115 iterations, train_loss=-4911.4983069\n"
     ]
    },
    {
     "name": "stderr",
     "output_type": "stream",
     "text": [
      "\r",
      "9it [00:18,  2.08s/it]"
     ]
    },
    {
     "name": "stdout",
     "output_type": "stream",
     "text": [
      "constant-w/variance fit, converged in 115 iterations, train_loss=-4911.4983069\n",
      "lambda=1.0000000, alpha=0.4606400, converged in 15 iterations, train_loss=-6472.6659926\n",
      "constant-w/variance fit, converged in 118 iterations, train_loss=-4738.6954397\n"
     ]
    },
    {
     "name": "stderr",
     "output_type": "stream",
     "text": [
      "\r",
      "10it [00:20,  2.15s/it]"
     ]
    },
    {
     "name": "stdout",
     "output_type": "stream",
     "text": [
      "constant-w/variance fit, converged in 118 iterations, train_loss=-4738.6954397\n",
      "lambda=1.0000000, alpha=0.4636222, converged in 15 iterations, train_loss=-6283.2108585\n",
      "constant-w/variance fit, converged in 120 iterations, train_loss=-4852.5843503\n"
     ]
    },
    {
     "name": "stderr",
     "output_type": "stream",
     "text": [
      "\r",
      "11it [00:23,  2.16s/it]"
     ]
    },
    {
     "name": "stdout",
     "output_type": "stream",
     "text": [
      "constant-w/variance fit, converged in 120 iterations, train_loss=-4852.5843503\n",
      "lambda=1.0000000, alpha=0.4625128, converged in 15 iterations, train_loss=-6407.8245480\n",
      "constant-w/variance fit, converged in 112 iterations, train_loss=-4725.1829045\n"
     ]
    },
    {
     "name": "stderr",
     "output_type": "stream",
     "text": [
      "\r",
      "12it [00:25,  2.15s/it]"
     ]
    },
    {
     "name": "stdout",
     "output_type": "stream",
     "text": [
      "constant-w/variance fit, converged in 112 iterations, train_loss=-4725.1829045\n",
      "lambda=1.0000000, alpha=0.4654790, converged in 15 iterations, train_loss=-6268.3770060\n",
      "constant-w/variance fit, converged in 107 iterations, train_loss=-4708.6180156\n"
     ]
    },
    {
     "name": "stderr",
     "output_type": "stream",
     "text": [
      "\r",
      "13it [00:27,  2.12s/it]"
     ]
    },
    {
     "name": "stdout",
     "output_type": "stream",
     "text": [
      "constant-w/variance fit, converged in 107 iterations, train_loss=-4708.6180156\n",
      "lambda=1.0000000, alpha=0.4638167, converged in 14 iterations, train_loss=-6229.3542124\n",
      "constant-w/variance fit, converged in 122 iterations, train_loss=-4825.7179333\n"
     ]
    },
    {
     "name": "stderr",
     "output_type": "stream",
     "text": [
      "\r",
      "14it [00:29,  2.18s/it]"
     ]
    },
    {
     "name": "stdout",
     "output_type": "stream",
     "text": [
      "constant-w/variance fit, converged in 122 iterations, train_loss=-4825.7179333\n",
      "lambda=1.0000000, alpha=0.4636541, converged in 14 iterations, train_loss=-6362.2906030\n",
      "constant-w/variance fit, converged in 121 iterations, train_loss=-4830.5961562\n"
     ]
    },
    {
     "name": "stderr",
     "output_type": "stream",
     "text": [
      "\r",
      "15it [00:31,  2.23s/it]"
     ]
    },
    {
     "name": "stdout",
     "output_type": "stream",
     "text": [
      "constant-w/variance fit, converged in 121 iterations, train_loss=-4830.5961562\n",
      "lambda=1.0000000, alpha=0.4637251, converged in 15 iterations, train_loss=-6381.7172164\n",
      "constant-w/variance fit, converged in 114 iterations, train_loss=-4860.4047501\n"
     ]
    },
    {
     "name": "stderr",
     "output_type": "stream",
     "text": [
      "\r",
      "16it [00:34,  2.21s/it]"
     ]
    },
    {
     "name": "stdout",
     "output_type": "stream",
     "text": [
      "constant-w/variance fit, converged in 114 iterations, train_loss=-4860.4047501\n",
      "lambda=1.0000000, alpha=0.4668007, converged in 15 iterations, train_loss=-6423.8306497\n",
      "constant-w/variance fit, converged in 117 iterations, train_loss=-4779.6767438\n"
     ]
    },
    {
     "name": "stderr",
     "output_type": "stream",
     "text": [
      "\r",
      "17it [00:36,  2.21s/it]"
     ]
    },
    {
     "name": "stdout",
     "output_type": "stream",
     "text": [
      "constant-w/variance fit, converged in 117 iterations, train_loss=-4779.6767438\n",
      "lambda=1.0000000, alpha=0.4654148, converged in 17 iterations, train_loss=-6339.4331514\n",
      "constant-w/variance fit, converged in 115 iterations, train_loss=-4671.8531576\n"
     ]
    },
    {
     "name": "stderr",
     "output_type": "stream",
     "text": [
      "\r",
      "18it [00:38,  2.20s/it]"
     ]
    },
    {
     "name": "stdout",
     "output_type": "stream",
     "text": [
      "constant-w/variance fit, converged in 115 iterations, train_loss=-4671.8531576\n",
      "lambda=1.0000000, alpha=0.4655013, converged in 15 iterations, train_loss=-6222.5968794\n",
      "constant-w/variance fit, converged in 122 iterations, train_loss=-4675.1879008\n"
     ]
    },
    {
     "name": "stderr",
     "output_type": "stream",
     "text": [
      "\r",
      "19it [00:40,  2.19s/it]"
     ]
    },
    {
     "name": "stdout",
     "output_type": "stream",
     "text": [
      "constant-w/variance fit, converged in 122 iterations, train_loss=-4675.1879008\n",
      "lambda=1.0000000, alpha=0.4638569, converged in 14 iterations, train_loss=-6223.9073281\n",
      "constant-w/variance fit, converged in 118 iterations, train_loss=-4750.4313173\n"
     ]
    },
    {
     "name": "stderr",
     "output_type": "stream",
     "text": [
      "\r",
      "20it [00:42,  2.17s/it]"
     ]
    },
    {
     "name": "stdout",
     "output_type": "stream",
     "text": [
      "constant-w/variance fit, converged in 118 iterations, train_loss=-4750.4313173\n",
      "lambda=1.0000000, alpha=0.4650908, converged in 14 iterations, train_loss=-6312.5600378\n",
      "constant-w/variance fit, converged in 120 iterations, train_loss=-4639.5861651\n"
     ]
    },
    {
     "name": "stderr",
     "output_type": "stream",
     "text": [
      "\r",
      "21it [00:44,  2.15s/it]"
     ]
    },
    {
     "name": "stdout",
     "output_type": "stream",
     "text": [
      "constant-w/variance fit, converged in 120 iterations, train_loss=-4639.5861651\n",
      "lambda=1.0000000, alpha=0.4644142, converged in 16 iterations, train_loss=-6184.1147144\n",
      "constant-w/variance fit, converged in 116 iterations, train_loss=-4763.5188467\n"
     ]
    },
    {
     "name": "stderr",
     "output_type": "stream",
     "text": [
      "\r",
      "22it [00:46,  2.13s/it]"
     ]
    },
    {
     "name": "stdout",
     "output_type": "stream",
     "text": [
      "constant-w/variance fit, converged in 116 iterations, train_loss=-4763.5188467\n",
      "lambda=1.0000000, alpha=0.4645784, converged in 15 iterations, train_loss=-6319.6194003\n",
      "constant-w/variance fit, converged in 116 iterations, train_loss=-4629.0371529\n"
     ]
    },
    {
     "name": "stderr",
     "output_type": "stream",
     "text": [
      "\r",
      "23it [00:48,  2.11s/it]"
     ]
    },
    {
     "name": "stdout",
     "output_type": "stream",
     "text": [
      "constant-w/variance fit, converged in 116 iterations, train_loss=-4629.0371529\n",
      "lambda=1.0000000, alpha=0.4643616, converged in 15 iterations, train_loss=-6170.6940842\n",
      "constant-w/variance fit, converged in 114 iterations, train_loss=-4675.6316369\n"
     ]
    },
    {
     "name": "stderr",
     "output_type": "stream",
     "text": [
      "\r",
      "24it [00:51,  2.11s/it]"
     ]
    },
    {
     "name": "stdout",
     "output_type": "stream",
     "text": [
      "constant-w/variance fit, converged in 114 iterations, train_loss=-4675.6316369\n",
      "lambda=1.0000000, alpha=0.4652779, converged in 15 iterations, train_loss=-6224.2108152\n",
      "constant-w/variance fit, converged in 117 iterations, train_loss=-4697.3563425\n"
     ]
    },
    {
     "name": "stderr",
     "output_type": "stream",
     "text": [
      "\r",
      "25it [00:53,  2.18s/it]"
     ]
    },
    {
     "name": "stdout",
     "output_type": "stream",
     "text": [
      "constant-w/variance fit, converged in 117 iterations, train_loss=-4697.3563425\n",
      "lambda=1.0000000, alpha=0.4657734, converged in 15 iterations, train_loss=-6244.1445048\n",
      "constant-w/variance fit, converged in 118 iterations, train_loss=-4638.8680268\n"
     ]
    },
    {
     "name": "stderr",
     "output_type": "stream",
     "text": [
      "\r",
      "26it [00:55,  2.19s/it]"
     ]
    },
    {
     "name": "stdout",
     "output_type": "stream",
     "text": [
      "constant-w/variance fit, converged in 118 iterations, train_loss=-4638.8680268\n",
      "lambda=1.0000000, alpha=0.4640325, converged in 15 iterations, train_loss=-6182.4913847\n",
      "constant-w/variance fit, converged in 114 iterations, train_loss=-4619.3364585\n"
     ]
    },
    {
     "name": "stderr",
     "output_type": "stream",
     "text": [
      "\r",
      "27it [00:57,  2.17s/it]"
     ]
    },
    {
     "name": "stdout",
     "output_type": "stream",
     "text": [
      "constant-w/variance fit, converged in 114 iterations, train_loss=-4619.3364585\n",
      "lambda=1.0000000, alpha=0.4650400, converged in 15 iterations, train_loss=-6170.0392134\n",
      "constant-w/variance fit, converged in 120 iterations, train_loss=-4781.7124403\n"
     ]
    },
    {
     "name": "stderr",
     "output_type": "stream",
     "text": [
      "\r",
      "28it [00:59,  2.19s/it]"
     ]
    },
    {
     "name": "stdout",
     "output_type": "stream",
     "text": [
      "constant-w/variance fit, converged in 120 iterations, train_loss=-4781.7124403\n",
      "lambda=1.0000000, alpha=0.4634786, converged in 15 iterations, train_loss=-6341.1401763\n",
      "constant-w/variance fit, converged in 119 iterations, train_loss=-4912.9571476\n"
     ]
    },
    {
     "name": "stderr",
     "output_type": "stream",
     "text": [
      "\r",
      "29it [01:02,  2.19s/it]"
     ]
    },
    {
     "name": "stdout",
     "output_type": "stream",
     "text": [
      "constant-w/variance fit, converged in 119 iterations, train_loss=-4912.9571476\n",
      "lambda=1.0000000, alpha=0.4668844, converged in 15 iterations, train_loss=-6467.9338242\n",
      "constant-w/variance fit, converged in 116 iterations, train_loss=-4804.1707717\n"
     ]
    },
    {
     "name": "stderr",
     "output_type": "stream",
     "text": [
      "\r",
      "30it [01:04,  2.17s/it]"
     ]
    },
    {
     "name": "stdout",
     "output_type": "stream",
     "text": [
      "constant-w/variance fit, converged in 116 iterations, train_loss=-4804.1707717\n",
      "lambda=1.0000000, alpha=0.4641756, converged in 15 iterations, train_loss=-6354.2077849\n",
      "constant-w/variance fit, converged in 119 iterations, train_loss=-4697.7986511\n"
     ]
    },
    {
     "name": "stderr",
     "output_type": "stream",
     "text": [
      "\r",
      "31it [01:06,  2.16s/it]"
     ]
    },
    {
     "name": "stdout",
     "output_type": "stream",
     "text": [
      "constant-w/variance fit, converged in 119 iterations, train_loss=-4697.7986511\n",
      "lambda=1.0000000, alpha=0.4637009, converged in 15 iterations, train_loss=-6241.3406723\n",
      "constant-w/variance fit, converged in 115 iterations, train_loss=-4973.7421839\n"
     ]
    },
    {
     "name": "stderr",
     "output_type": "stream",
     "text": [
      "\r",
      "32it [01:08,  2.15s/it]"
     ]
    },
    {
     "name": "stdout",
     "output_type": "stream",
     "text": [
      "constant-w/variance fit, converged in 115 iterations, train_loss=-4973.7421839\n",
      "lambda=1.0000000, alpha=0.4607365, converged in 16 iterations, train_loss=-6506.6828499\n",
      "constant-w/variance fit, converged in 110 iterations, train_loss=-4757.2626701\n"
     ]
    },
    {
     "name": "stderr",
     "output_type": "stream",
     "text": [
      "\r",
      "33it [01:10,  2.13s/it]"
     ]
    },
    {
     "name": "stdout",
     "output_type": "stream",
     "text": [
      "constant-w/variance fit, converged in 110 iterations, train_loss=-4757.2626701\n",
      "lambda=1.0000000, alpha=0.4686985, converged in 17 iterations, train_loss=-6321.9762362\n",
      "constant-w/variance fit, converged in 117 iterations, train_loss=-4706.5660486\n"
     ]
    },
    {
     "name": "stderr",
     "output_type": "stream",
     "text": [
      "\r",
      "34it [01:12,  2.12s/it]"
     ]
    },
    {
     "name": "stdout",
     "output_type": "stream",
     "text": [
      "constant-w/variance fit, converged in 117 iterations, train_loss=-4706.5660486\n",
      "lambda=1.0000000, alpha=0.4628394, converged in 14 iterations, train_loss=-6249.7495230\n",
      "constant-w/variance fit, converged in 109 iterations, train_loss=-4560.7357420\n"
     ]
    },
    {
     "name": "stderr",
     "output_type": "stream",
     "text": [
      "\r",
      "35it [01:14,  2.10s/it]"
     ]
    },
    {
     "name": "stdout",
     "output_type": "stream",
     "text": [
      "constant-w/variance fit, converged in 109 iterations, train_loss=-4560.7357420\n",
      "lambda=1.0000000, alpha=0.4654274, converged in 14 iterations, train_loss=-6101.5036096\n",
      "constant-w/variance fit, converged in 118 iterations, train_loss=-4684.5232232\n"
     ]
    },
    {
     "name": "stderr",
     "output_type": "stream",
     "text": [
      "\r",
      "36it [01:16,  2.10s/it]"
     ]
    },
    {
     "name": "stdout",
     "output_type": "stream",
     "text": [
      "constant-w/variance fit, converged in 118 iterations, train_loss=-4684.5232232\n",
      "lambda=1.0000000, alpha=0.4646930, converged in 14 iterations, train_loss=-6235.6281240\n",
      "constant-w/variance fit, converged in 118 iterations, train_loss=-4695.1809445\n"
     ]
    },
    {
     "name": "stderr",
     "output_type": "stream",
     "text": [
      "\r",
      "37it [01:19,  2.12s/it]"
     ]
    },
    {
     "name": "stdout",
     "output_type": "stream",
     "text": [
      "constant-w/variance fit, converged in 118 iterations, train_loss=-4695.1809445\n",
      "lambda=1.0000000, alpha=0.4635051, converged in 15 iterations, train_loss=-6237.4375455\n",
      "constant-w/variance fit, converged in 121 iterations, train_loss=-4656.7461610\n"
     ]
    },
    {
     "name": "stderr",
     "output_type": "stream",
     "text": [
      "\r",
      "38it [01:21,  2.12s/it]"
     ]
    },
    {
     "name": "stdout",
     "output_type": "stream",
     "text": [
      "constant-w/variance fit, converged in 121 iterations, train_loss=-4656.7461610\n",
      "lambda=1.0000000, alpha=0.4621184, converged in 14 iterations, train_loss=-6195.1125641\n",
      "constant-w/variance fit, converged in 116 iterations, train_loss=-4663.7327839\n"
     ]
    },
    {
     "name": "stderr",
     "output_type": "stream",
     "text": [
      "\r",
      "39it [01:23,  2.11s/it]"
     ]
    },
    {
     "name": "stdout",
     "output_type": "stream",
     "text": [
      "constant-w/variance fit, converged in 116 iterations, train_loss=-4663.7327839\n",
      "lambda=1.0000000, alpha=0.4647081, converged in 15 iterations, train_loss=-6217.8396182\n",
      "constant-w/variance fit, converged in 116 iterations, train_loss=-4889.1266817\n"
     ]
    },
    {
     "name": "stderr",
     "output_type": "stream",
     "text": [
      "\r",
      "40it [01:25,  2.11s/it]"
     ]
    },
    {
     "name": "stdout",
     "output_type": "stream",
     "text": [
      "constant-w/variance fit, converged in 116 iterations, train_loss=-4889.1266817\n",
      "lambda=1.0000000, alpha=0.4654372, converged in 15 iterations, train_loss=-6450.6516567\n",
      "constant-w/variance fit, converged in 121 iterations, train_loss=-4601.3950443\n"
     ]
    },
    {
     "name": "stderr",
     "output_type": "stream",
     "text": [
      "\r",
      "41it [01:27,  2.12s/it]"
     ]
    },
    {
     "name": "stdout",
     "output_type": "stream",
     "text": [
      "constant-w/variance fit, converged in 121 iterations, train_loss=-4601.3950443\n",
      "lambda=1.0000000, alpha=0.4647896, converged in 15 iterations, train_loss=-6158.6986157\n",
      "constant-w/variance fit, converged in 115 iterations, train_loss=-4895.9387840\n"
     ]
    },
    {
     "name": "stderr",
     "output_type": "stream",
     "text": [
      "\r",
      "42it [01:29,  2.12s/it]"
     ]
    },
    {
     "name": "stdout",
     "output_type": "stream",
     "text": [
      "constant-w/variance fit, converged in 115 iterations, train_loss=-4895.9387840\n",
      "lambda=1.0000000, alpha=0.4641002, converged in 15 iterations, train_loss=-6452.6333562\n",
      "constant-w/variance fit, converged in 118 iterations, train_loss=-4605.2316278\n"
     ]
    },
    {
     "name": "stderr",
     "output_type": "stream",
     "text": [
      "\r",
      "43it [01:31,  2.12s/it]"
     ]
    },
    {
     "name": "stdout",
     "output_type": "stream",
     "text": [
      "constant-w/variance fit, converged in 118 iterations, train_loss=-4605.2316278\n",
      "lambda=1.0000000, alpha=0.4623606, converged in 15 iterations, train_loss=-6154.7901359\n",
      "constant-w/variance fit, converged in 118 iterations, train_loss=-4793.0644751\n"
     ]
    },
    {
     "name": "stderr",
     "output_type": "stream",
     "text": [
      "\r",
      "44it [01:34,  2.18s/it]"
     ]
    },
    {
     "name": "stdout",
     "output_type": "stream",
     "text": [
      "constant-w/variance fit, converged in 118 iterations, train_loss=-4793.0644751\n",
      "lambda=1.0000000, alpha=0.4646427, converged in 15 iterations, train_loss=-6349.0604032\n",
      "constant-w/variance fit, converged in 116 iterations, train_loss=-4617.3490431\n"
     ]
    },
    {
     "name": "stderr",
     "output_type": "stream",
     "text": [
      "\r",
      "45it [01:36,  2.21s/it]"
     ]
    },
    {
     "name": "stdout",
     "output_type": "stream",
     "text": [
      "constant-w/variance fit, converged in 116 iterations, train_loss=-4617.3490431\n",
      "lambda=1.0000000, alpha=0.4639790, converged in 15 iterations, train_loss=-6166.3099758\n",
      "constant-w/variance fit, converged in 118 iterations, train_loss=-4752.7063765\n"
     ]
    },
    {
     "name": "stderr",
     "output_type": "stream",
     "text": [
      "\r",
      "46it [01:38,  2.23s/it]"
     ]
    },
    {
     "name": "stdout",
     "output_type": "stream",
     "text": [
      "constant-w/variance fit, converged in 118 iterations, train_loss=-4752.7063765\n",
      "lambda=1.0000000, alpha=0.4650052, converged in 15 iterations, train_loss=-6307.2209465\n",
      "constant-w/variance fit, converged in 107 iterations, train_loss=-4552.4635601\n"
     ]
    },
    {
     "name": "stderr",
     "output_type": "stream",
     "text": [
      "\r",
      "47it [01:40,  2.21s/it]"
     ]
    },
    {
     "name": "stdout",
     "output_type": "stream",
     "text": [
      "constant-w/variance fit, converged in 107 iterations, train_loss=-4552.4635601\n",
      "lambda=1.0000000, alpha=0.4638980, converged in 14 iterations, train_loss=-6087.8113517\n",
      "constant-w/variance fit, converged in 119 iterations, train_loss=-4854.5421726\n"
     ]
    },
    {
     "name": "stderr",
     "output_type": "stream",
     "text": [
      "\r",
      "48it [01:43,  2.24s/it]"
     ]
    },
    {
     "name": "stdout",
     "output_type": "stream",
     "text": [
      "constant-w/variance fit, converged in 119 iterations, train_loss=-4854.5421726\n",
      "lambda=1.0000000, alpha=0.4660116, converged in 16 iterations, train_loss=-6400.3640826\n",
      "constant-w/variance fit, converged in 108 iterations, train_loss=-5285.4905999\n"
     ]
    },
    {
     "name": "stderr",
     "output_type": "stream",
     "text": [
      "\r",
      "49it [01:45,  2.20s/it]"
     ]
    },
    {
     "name": "stdout",
     "output_type": "stream",
     "text": [
      "constant-w/variance fit, converged in 108 iterations, train_loss=-5285.4905999\n",
      "lambda=1.0000000, alpha=0.4657659, converged in 14 iterations, train_loss=-6764.4954655\n",
      "constant-w/variance fit, converged in 114 iterations, train_loss=-4797.4768052\n"
     ]
    },
    {
     "name": "stderr",
     "output_type": "stream",
     "text": [
      "\r",
      "50it [01:47,  2.17s/it]"
     ]
    },
    {
     "name": "stdout",
     "output_type": "stream",
     "text": [
      "constant-w/variance fit, converged in 114 iterations, train_loss=-4797.4768052\n",
      "lambda=1.0000000, alpha=0.4629970, converged in 14 iterations, train_loss=-6353.6858120\n",
      "constant-w/variance fit, converged in 119 iterations, train_loss=-4806.1557139\n"
     ]
    },
    {
     "name": "stderr",
     "output_type": "stream",
     "text": [
      "\r",
      "51it [01:49,  2.16s/it]"
     ]
    },
    {
     "name": "stdout",
     "output_type": "stream",
     "text": [
      "constant-w/variance fit, converged in 119 iterations, train_loss=-4806.1557139\n",
      "lambda=1.0000000, alpha=0.4630571, converged in 15 iterations, train_loss=-6364.4958964\n",
      "constant-w/variance fit, converged in 117 iterations, train_loss=-4802.1818192\n"
     ]
    },
    {
     "name": "stderr",
     "output_type": "stream",
     "text": [
      "\r",
      "52it [01:51,  2.16s/it]"
     ]
    },
    {
     "name": "stdout",
     "output_type": "stream",
     "text": [
      "constant-w/variance fit, converged in 117 iterations, train_loss=-4802.1818192\n",
      "lambda=1.0000000, alpha=0.4640042, converged in 15 iterations, train_loss=-6358.1366209\n",
      "constant-w/variance fit, converged in 118 iterations, train_loss=-4743.8018359\n"
     ]
    },
    {
     "name": "stderr",
     "output_type": "stream",
     "text": [
      "\r",
      "53it [01:53,  2.18s/it]"
     ]
    },
    {
     "name": "stdout",
     "output_type": "stream",
     "text": [
      "constant-w/variance fit, converged in 118 iterations, train_loss=-4743.8018359\n",
      "lambda=1.0000000, alpha=0.4657928, converged in 15 iterations, train_loss=-6304.7561698\n",
      "constant-w/variance fit, converged in 121 iterations, train_loss=-4612.4984593\n"
     ]
    },
    {
     "name": "stderr",
     "output_type": "stream",
     "text": [
      "\r",
      "54it [01:56,  2.18s/it]"
     ]
    },
    {
     "name": "stdout",
     "output_type": "stream",
     "text": [
      "constant-w/variance fit, converged in 121 iterations, train_loss=-4612.4984593\n",
      "lambda=1.0000000, alpha=0.4629158, converged in 15 iterations, train_loss=-6172.9750699\n",
      "constant-w/variance fit, converged in 112 iterations, train_loss=-5145.6950434\n"
     ]
    },
    {
     "name": "stderr",
     "output_type": "stream",
     "text": [
      "\r",
      "55it [01:58,  2.14s/it]"
     ]
    },
    {
     "name": "stdout",
     "output_type": "stream",
     "text": [
      "constant-w/variance fit, converged in 112 iterations, train_loss=-5145.6950434\n",
      "lambda=1.0000000, alpha=0.4633733, converged in 15 iterations, train_loss=-6672.4587605\n",
      "constant-w/variance fit, converged in 115 iterations, train_loss=-4677.8431614\n"
     ]
    },
    {
     "name": "stderr",
     "output_type": "stream",
     "text": [
      "\r",
      "56it [02:00,  2.13s/it]"
     ]
    },
    {
     "name": "stdout",
     "output_type": "stream",
     "text": [
      "constant-w/variance fit, converged in 115 iterations, train_loss=-4677.8431614\n",
      "lambda=1.0000000, alpha=0.4648451, converged in 15 iterations, train_loss=-6244.5562313\n",
      "constant-w/variance fit, converged in 119 iterations, train_loss=-4785.2981833\n"
     ]
    },
    {
     "name": "stderr",
     "output_type": "stream",
     "text": [
      "\r",
      "57it [02:02,  2.14s/it]"
     ]
    },
    {
     "name": "stdout",
     "output_type": "stream",
     "text": [
      "constant-w/variance fit, converged in 119 iterations, train_loss=-4785.2981833\n",
      "lambda=1.0000000, alpha=0.4659773, converged in 15 iterations, train_loss=-6349.9834217\n",
      "constant-w/variance fit, converged in 116 iterations, train_loss=-4837.9507609\n"
     ]
    },
    {
     "name": "stderr",
     "output_type": "stream",
     "text": [
      "\r",
      "58it [02:04,  2.13s/it]"
     ]
    },
    {
     "name": "stdout",
     "output_type": "stream",
     "text": [
      "constant-w/variance fit, converged in 116 iterations, train_loss=-4837.9507609\n",
      "lambda=1.0000000, alpha=0.4641263, converged in 15 iterations, train_loss=-6389.7383519\n"
     ]
    },
    {
     "name": "stderr",
     "output_type": "stream",
     "text": [
      "\r",
      "59it [02:06,  2.24s/it]"
     ]
    },
    {
     "name": "stdout",
     "output_type": "stream",
     "text": [
      "constant-w/variance fit, converged in 120 iterations, train_loss=-4675.7497451\n"
     ]
    },
    {
     "name": "stderr",
     "output_type": "stream",
     "text": [
      "\r",
      "60it [02:08,  2.19s/it]"
     ]
    },
    {
     "name": "stdout",
     "output_type": "stream",
     "text": [
      "constant-w/variance fit, converged in 120 iterations, train_loss=-4675.7497451\n",
      "lambda=1.0000000, alpha=0.4626037, converged in 15 iterations, train_loss=-6226.6053944\n",
      "constant-w/variance fit, converged in 118 iterations, train_loss=-4661.4387771\n"
     ]
    },
    {
     "name": "stderr",
     "output_type": "stream",
     "text": [
      "\r",
      "61it [02:11,  2.16s/it]"
     ]
    },
    {
     "name": "stdout",
     "output_type": "stream",
     "text": [
      "constant-w/variance fit, converged in 118 iterations, train_loss=-4661.4387771\n",
      "lambda=1.0000000, alpha=0.4625127, converged in 15 iterations, train_loss=-6206.8210158\n",
      "constant-w/variance fit, converged in 107 iterations, train_loss=-4591.4631940\n"
     ]
    },
    {
     "name": "stderr",
     "output_type": "stream",
     "text": [
      "\r",
      "62it [02:13,  2.11s/it]"
     ]
    },
    {
     "name": "stdout",
     "output_type": "stream",
     "text": [
      "constant-w/variance fit, converged in 107 iterations, train_loss=-4591.4631940\n",
      "lambda=1.0000000, alpha=0.4634631, converged in 15 iterations, train_loss=-6132.8038439\n",
      "constant-w/variance fit, converged in 116 iterations, train_loss=-4714.3375321\n"
     ]
    },
    {
     "name": "stderr",
     "output_type": "stream",
     "text": [
      "\r",
      "63it [02:15,  2.12s/it]"
     ]
    },
    {
     "name": "stdout",
     "output_type": "stream",
     "text": [
      "constant-w/variance fit, converged in 116 iterations, train_loss=-4714.3375321\n",
      "lambda=1.0000000, alpha=0.4627214, converged in 14 iterations, train_loss=-6249.3088852\n",
      "constant-w/variance fit, converged in 111 iterations, train_loss=-4827.1834340\n"
     ]
    },
    {
     "name": "stderr",
     "output_type": "stream",
     "text": [
      "\r",
      "64it [02:17,  2.10s/it]"
     ]
    },
    {
     "name": "stdout",
     "output_type": "stream",
     "text": [
      "constant-w/variance fit, converged in 111 iterations, train_loss=-4827.1834340\n",
      "lambda=1.0000000, alpha=0.4665346, converged in 16 iterations, train_loss=-6385.0859432\n",
      "constant-w/variance fit, converged in 110 iterations, train_loss=-4802.6427519\n"
     ]
    },
    {
     "name": "stderr",
     "output_type": "stream",
     "text": [
      "\r",
      "65it [02:19,  2.11s/it]"
     ]
    },
    {
     "name": "stdout",
     "output_type": "stream",
     "text": [
      "constant-w/variance fit, converged in 110 iterations, train_loss=-4802.6427519\n",
      "lambda=1.0000000, alpha=0.4666271, converged in 16 iterations, train_loss=-6354.6734451\n",
      "constant-w/variance fit, converged in 119 iterations, train_loss=-4753.9749829\n"
     ]
    },
    {
     "name": "stderr",
     "output_type": "stream",
     "text": [
      "\r",
      "66it [02:21,  2.14s/it]"
     ]
    },
    {
     "name": "stdout",
     "output_type": "stream",
     "text": [
      "constant-w/variance fit, converged in 119 iterations, train_loss=-4753.9749829\n",
      "lambda=1.0000000, alpha=0.4622553, converged in 14 iterations, train_loss=-6289.2382855\n",
      "constant-w/variance fit, converged in 120 iterations, train_loss=-4660.2050213\n"
     ]
    },
    {
     "name": "stderr",
     "output_type": "stream",
     "text": [
      "\r",
      "67it [02:23,  2.12s/it]"
     ]
    },
    {
     "name": "stdout",
     "output_type": "stream",
     "text": [
      "constant-w/variance fit, converged in 120 iterations, train_loss=-4660.2050213\n",
      "lambda=1.0000000, alpha=0.4637317, converged in 15 iterations, train_loss=-6200.9536777\n",
      "constant-w/variance fit, converged in 120 iterations, train_loss=-4607.6288227\n"
     ]
    },
    {
     "name": "stderr",
     "output_type": "stream",
     "text": [
      "\r",
      "68it [02:25,  2.10s/it]"
     ]
    },
    {
     "name": "stdout",
     "output_type": "stream",
     "text": [
      "constant-w/variance fit, converged in 120 iterations, train_loss=-4607.6288227\n",
      "lambda=1.0000000, alpha=0.4626227, converged in 15 iterations, train_loss=-6145.0716844\n",
      "constant-w/variance fit, converged in 116 iterations, train_loss=-4617.5296594\n"
     ]
    },
    {
     "name": "stderr",
     "output_type": "stream",
     "text": [
      "\r",
      "69it [02:28,  2.19s/it]"
     ]
    },
    {
     "name": "stdout",
     "output_type": "stream",
     "text": [
      "constant-w/variance fit, converged in 116 iterations, train_loss=-4617.5296594\n",
      "lambda=1.0000000, alpha=0.4641297, converged in 15 iterations, train_loss=-6163.4531759\n",
      "constant-w/variance fit, converged in 104 iterations, train_loss=-4584.2745231\n"
     ]
    },
    {
     "name": "stderr",
     "output_type": "stream",
     "text": [
      "\r",
      "70it [02:30,  2.26s/it]"
     ]
    },
    {
     "name": "stdout",
     "output_type": "stream",
     "text": [
      "constant-w/variance fit, converged in 104 iterations, train_loss=-4584.2745231\n",
      "lambda=1.0000000, alpha=0.4640220, converged in 15 iterations, train_loss=-6126.3773031\n",
      "constant-w/variance fit, converged in 123 iterations, train_loss=-4772.3910406\n"
     ]
    },
    {
     "name": "stderr",
     "output_type": "stream",
     "text": [
      "\r",
      "71it [02:32,  2.30s/it]"
     ]
    },
    {
     "name": "stdout",
     "output_type": "stream",
     "text": [
      "constant-w/variance fit, converged in 123 iterations, train_loss=-4772.3910406\n",
      "lambda=1.0000000, alpha=0.4646245, converged in 15 iterations, train_loss=-6332.7364052\n",
      "constant-w/variance fit, converged in 116 iterations, train_loss=-4623.9618667\n"
     ]
    },
    {
     "name": "stderr",
     "output_type": "stream",
     "text": [
      "\r",
      "72it [02:35,  2.27s/it]"
     ]
    },
    {
     "name": "stdout",
     "output_type": "stream",
     "text": [
      "constant-w/variance fit, converged in 116 iterations, train_loss=-4623.9618667\n",
      "lambda=1.0000000, alpha=0.4643238, converged in 15 iterations, train_loss=-6177.5651510\n",
      "constant-w/variance fit, converged in 106 iterations, train_loss=-4548.2740132\n"
     ]
    },
    {
     "name": "stderr",
     "output_type": "stream",
     "text": [
      "\r",
      "73it [02:37,  2.22s/it]"
     ]
    },
    {
     "name": "stdout",
     "output_type": "stream",
     "text": [
      "constant-w/variance fit, converged in 106 iterations, train_loss=-4548.2740132\n",
      "lambda=1.0000000, alpha=0.4653821, converged in 15 iterations, train_loss=-6099.4864151\n",
      "constant-w/variance fit, converged in 119 iterations, train_loss=-4821.4077916\n"
     ]
    },
    {
     "name": "stderr",
     "output_type": "stream",
     "text": [
      "\r",
      "74it [02:39,  2.20s/it]"
     ]
    },
    {
     "name": "stdout",
     "output_type": "stream",
     "text": [
      "constant-w/variance fit, converged in 119 iterations, train_loss=-4821.4077916\n",
      "lambda=1.0000000, alpha=0.4661444, converged in 15 iterations, train_loss=-6387.1099122\n",
      "constant-w/variance fit, converged in 245 iterations, train_loss=-4962.3891957\n"
     ]
    },
    {
     "name": "stderr",
     "output_type": "stream",
     "text": [
      "\r",
      "75it [02:42,  2.43s/it]"
     ]
    },
    {
     "name": "stdout",
     "output_type": "stream",
     "text": [
      "constant-w/variance fit, converged in 245 iterations, train_loss=-4962.3891957\n",
      "lambda=1.0000000, alpha=0.4646734, converged in 15 iterations, train_loss=-6513.9830159\n",
      "constant-w/variance fit, converged in 108 iterations, train_loss=-4594.4658759\n"
     ]
    },
    {
     "name": "stderr",
     "output_type": "stream",
     "text": [
      "\r",
      "76it [02:44,  2.33s/it]"
     ]
    },
    {
     "name": "stdout",
     "output_type": "stream",
     "text": [
      "constant-w/variance fit, converged in 108 iterations, train_loss=-4594.4658759\n",
      "lambda=1.0000000, alpha=0.4659531, converged in 15 iterations, train_loss=-6158.1788146\n",
      "constant-w/variance fit, converged in 118 iterations, train_loss=-4592.7741888\n"
     ]
    },
    {
     "name": "stderr",
     "output_type": "stream",
     "text": [
      "\r",
      "77it [02:46,  2.27s/it]"
     ]
    },
    {
     "name": "stdout",
     "output_type": "stream",
     "text": [
      "constant-w/variance fit, converged in 118 iterations, train_loss=-4592.7741888\n",
      "lambda=1.0000000, alpha=0.4633601, converged in 15 iterations, train_loss=-6131.9814745\n",
      "constant-w/variance fit, converged in 115 iterations, train_loss=-4622.9357403\n"
     ]
    },
    {
     "name": "stderr",
     "output_type": "stream",
     "text": [
      "\r",
      "78it [02:48,  2.21s/it]"
     ]
    },
    {
     "name": "stdout",
     "output_type": "stream",
     "text": [
      "constant-w/variance fit, converged in 115 iterations, train_loss=-4622.9357403\n",
      "lambda=1.0000000, alpha=0.4650764, converged in 15 iterations, train_loss=-6172.8363185\n"
     ]
    },
    {
     "name": "stderr",
     "output_type": "stream",
     "text": [
      "\r",
      "79it [02:51,  2.31s/it]"
     ]
    },
    {
     "name": "stdout",
     "output_type": "stream",
     "text": [
      "constant-w/variance fit, converged in 114 iterations, train_loss=-4686.8052978\n"
     ]
    },
    {
     "name": "stderr",
     "output_type": "stream",
     "text": [
      "\r",
      "80it [02:53,  2.26s/it]"
     ]
    },
    {
     "name": "stdout",
     "output_type": "stream",
     "text": [
      "constant-w/variance fit, converged in 114 iterations, train_loss=-4686.8052978\n",
      "lambda=1.0000000, alpha=0.4674152, converged in 16 iterations, train_loss=-6264.4909085\n",
      "constant-w/variance fit, converged in 122 iterations, train_loss=-4665.8181477\n"
     ]
    },
    {
     "name": "stderr",
     "output_type": "stream",
     "text": [
      "\r",
      "81it [02:55,  2.23s/it]"
     ]
    },
    {
     "name": "stdout",
     "output_type": "stream",
     "text": [
      "constant-w/variance fit, converged in 122 iterations, train_loss=-4665.8181477\n",
      "lambda=1.0000000, alpha=0.4635500, converged in 15 iterations, train_loss=-6214.7608888\n",
      "constant-w/variance fit, converged in 116 iterations, train_loss=-4673.7393341\n"
     ]
    },
    {
     "name": "stderr",
     "output_type": "stream",
     "text": [
      "\r",
      "82it [02:57,  2.19s/it]"
     ]
    },
    {
     "name": "stdout",
     "output_type": "stream",
     "text": [
      "constant-w/variance fit, converged in 116 iterations, train_loss=-4673.7393341\n",
      "lambda=1.0000000, alpha=0.4646913, converged in 15 iterations, train_loss=-6233.3598583\n",
      "constant-w/variance fit, converged in 122 iterations, train_loss=-4755.4592068\n"
     ]
    },
    {
     "name": "stderr",
     "output_type": "stream",
     "text": [
      "\r",
      "83it [02:59,  2.18s/it]"
     ]
    },
    {
     "name": "stdout",
     "output_type": "stream",
     "text": [
      "constant-w/variance fit, converged in 122 iterations, train_loss=-4755.4592068\n",
      "lambda=1.0000000, alpha=0.4625253, converged in 15 iterations, train_loss=-6303.3797500\n",
      "constant-w/variance fit, converged in 116 iterations, train_loss=-4649.9235530\n"
     ]
    },
    {
     "name": "stderr",
     "output_type": "stream",
     "text": [
      "\r",
      "84it [03:01,  2.15s/it]"
     ]
    },
    {
     "name": "stdout",
     "output_type": "stream",
     "text": [
      "constant-w/variance fit, converged in 116 iterations, train_loss=-4649.9235530\n",
      "lambda=1.0000000, alpha=0.4644288, converged in 16 iterations, train_loss=-6195.0927637\n",
      "constant-w/variance fit, converged in 118 iterations, train_loss=-4653.4182807\n"
     ]
    },
    {
     "name": "stderr",
     "output_type": "stream",
     "text": [
      "\r",
      "85it [03:03,  2.15s/it]"
     ]
    },
    {
     "name": "stdout",
     "output_type": "stream",
     "text": [
      "constant-w/variance fit, converged in 118 iterations, train_loss=-4653.4182807\n",
      "lambda=1.0000000, alpha=0.4636546, converged in 15 iterations, train_loss=-6199.5414896\n",
      "constant-w/variance fit, converged in 118 iterations, train_loss=-4633.4446798\n"
     ]
    },
    {
     "name": "stderr",
     "output_type": "stream",
     "text": [
      "\r",
      "86it [03:06,  2.14s/it]"
     ]
    },
    {
     "name": "stdout",
     "output_type": "stream",
     "text": [
      "constant-w/variance fit, converged in 118 iterations, train_loss=-4633.4446798\n",
      "lambda=1.0000000, alpha=0.4643646, converged in 15 iterations, train_loss=-6180.3267404\n",
      "constant-w/variance fit, converged in 117 iterations, train_loss=-4673.2407124\n"
     ]
    },
    {
     "name": "stderr",
     "output_type": "stream",
     "text": [
      "\r",
      "87it [03:08,  2.12s/it]"
     ]
    },
    {
     "name": "stdout",
     "output_type": "stream",
     "text": [
      "constant-w/variance fit, converged in 117 iterations, train_loss=-4673.2407124\n",
      "lambda=1.0000000, alpha=0.4640216, converged in 15 iterations, train_loss=-6228.7873246\n"
     ]
    },
    {
     "name": "stderr",
     "output_type": "stream",
     "text": [
      "\r",
      "88it [03:10,  2.27s/it]"
     ]
    },
    {
     "name": "stdout",
     "output_type": "stream",
     "text": [
      "constant-w/variance fit, converged in 117 iterations, train_loss=-4761.4819815\n"
     ]
    },
    {
     "name": "stderr",
     "output_type": "stream",
     "text": [
      "\r",
      "89it [03:12,  2.22s/it]"
     ]
    },
    {
     "name": "stdout",
     "output_type": "stream",
     "text": [
      "constant-w/variance fit, converged in 117 iterations, train_loss=-4761.4819815\n",
      "lambda=1.0000000, alpha=0.4622859, converged in 15 iterations, train_loss=-6315.9079485\n",
      "constant-w/variance fit, converged in 111 iterations, train_loss=-4536.1981530\n"
     ]
    },
    {
     "name": "stderr",
     "output_type": "stream",
     "text": [
      "\r",
      "90it [03:14,  2.18s/it]"
     ]
    },
    {
     "name": "stdout",
     "output_type": "stream",
     "text": [
      "constant-w/variance fit, converged in 111 iterations, train_loss=-4536.1981530\n",
      "lambda=1.0000000, alpha=0.4645064, converged in 15 iterations, train_loss=-6095.1742859\n"
     ]
    },
    {
     "name": "stderr",
     "output_type": "stream",
     "text": [
      "\r",
      "91it [03:17,  2.34s/it]"
     ]
    },
    {
     "name": "stdout",
     "output_type": "stream",
     "text": [
      "constant-w/variance fit, converged in 115 iterations, train_loss=-4783.9167140\n"
     ]
    },
    {
     "name": "stderr",
     "output_type": "stream",
     "text": [
      "\r",
      "92it [03:19,  2.32s/it]"
     ]
    },
    {
     "name": "stdout",
     "output_type": "stream",
     "text": [
      "constant-w/variance fit, converged in 115 iterations, train_loss=-4783.9167140\n",
      "lambda=1.0000000, alpha=0.4632830, converged in 15 iterations, train_loss=-6338.0139941\n",
      "constant-w/variance fit, converged in 119 iterations, train_loss=-4741.5379947\n"
     ]
    },
    {
     "name": "stderr",
     "output_type": "stream",
     "text": [
      "\r",
      "93it [03:22,  2.30s/it]"
     ]
    },
    {
     "name": "stdout",
     "output_type": "stream",
     "text": [
      "constant-w/variance fit, converged in 119 iterations, train_loss=-4741.5379947\n",
      "lambda=1.0000000, alpha=0.4632888, converged in 15 iterations, train_loss=-6299.2527509\n"
     ]
    },
    {
     "name": "stderr",
     "output_type": "stream",
     "text": [
      "\r",
      "94it [03:24,  2.39s/it]"
     ]
    },
    {
     "name": "stdout",
     "output_type": "stream",
     "text": [
      "constant-w/variance fit, converged in 192 iterations, train_loss=-4947.0119809\n"
     ]
    },
    {
     "name": "stderr",
     "output_type": "stream",
     "text": [
      "\r",
      "95it [03:27,  2.48s/it]"
     ]
    },
    {
     "name": "stdout",
     "output_type": "stream",
     "text": [
      "constant-w/variance fit, converged in 192 iterations, train_loss=-4947.0119809\n",
      "lambda=1.0000000, alpha=0.4625957, converged in 15 iterations, train_loss=-6482.0135823\n",
      "constant-w/variance fit, converged in 142 iterations, train_loss=-5144.2563735\n"
     ]
    },
    {
     "name": "stderr",
     "output_type": "stream",
     "text": [
      "\r",
      "96it [03:30,  2.52s/it]"
     ]
    },
    {
     "name": "stdout",
     "output_type": "stream",
     "text": [
      "constant-w/variance fit, converged in 142 iterations, train_loss=-5144.2563735\n",
      "lambda=1.0000000, alpha=0.4560741, converged in 16 iterations, train_loss=-6647.2855584\n",
      "constant-w/variance fit, converged in 114 iterations, train_loss=-4728.4322338\n"
     ]
    },
    {
     "name": "stderr",
     "output_type": "stream",
     "text": [
      "\r",
      "97it [03:32,  2.40s/it]"
     ]
    },
    {
     "name": "stdout",
     "output_type": "stream",
     "text": [
      "constant-w/variance fit, converged in 114 iterations, train_loss=-4728.4322338\n",
      "lambda=1.0000000, alpha=0.4703261, converged in 16 iterations, train_loss=-6281.3038945\n",
      "constant-w/variance fit, converged in 117 iterations, train_loss=-4772.1170600\n"
     ]
    },
    {
     "name": "stderr",
     "output_type": "stream",
     "text": [
      "\r",
      "98it [03:34,  2.32s/it]"
     ]
    },
    {
     "name": "stdout",
     "output_type": "stream",
     "text": [
      "constant-w/variance fit, converged in 117 iterations, train_loss=-4772.1170600\n",
      "lambda=1.0000000, alpha=0.4614968, converged in 15 iterations, train_loss=-6326.0241208\n",
      "constant-w/variance fit, converged in 114 iterations, train_loss=-4897.9656500\n"
     ]
    },
    {
     "name": "stderr",
     "output_type": "stream",
     "text": [
      "\r",
      "99it [03:36,  2.23s/it]"
     ]
    },
    {
     "name": "stdout",
     "output_type": "stream",
     "text": [
      "constant-w/variance fit, converged in 114 iterations, train_loss=-4897.9656500\n",
      "lambda=1.0000000, alpha=0.4648027, converged in 15 iterations, train_loss=-6447.8213755\n",
      "constant-w/variance fit, converged in 115 iterations, train_loss=-4690.1772918\n"
     ]
    },
    {
     "name": "stderr",
     "output_type": "stream",
     "text": [
      "\r",
      "100it [03:38,  2.20s/it]"
     ]
    },
    {
     "name": "stdout",
     "output_type": "stream",
     "text": [
      "constant-w/variance fit, converged in 115 iterations, train_loss=-4690.1772918\n",
      "lambda=1.0000000, alpha=0.4643577, converged in 16 iterations, train_loss=-6249.7579635\n",
      "constant-w/variance fit, converged in 113 iterations, train_loss=-4894.8224936\n"
     ]
    },
    {
     "name": "stderr",
     "output_type": "stream",
     "text": [
      "\r",
      "101it [03:40,  2.18s/it]"
     ]
    },
    {
     "name": "stdout",
     "output_type": "stream",
     "text": [
      "constant-w/variance fit, converged in 113 iterations, train_loss=-4894.8224936\n",
      "lambda=1.0000000, alpha=0.4652259, converged in 14 iterations, train_loss=-6473.8972311\n",
      "constant-w/variance fit, converged in 115 iterations, train_loss=-4643.8549542\n"
     ]
    },
    {
     "name": "stderr",
     "output_type": "stream",
     "text": [
      "\r",
      "102it [03:42,  2.15s/it]"
     ]
    },
    {
     "name": "stdout",
     "output_type": "stream",
     "text": [
      "constant-w/variance fit, converged in 115 iterations, train_loss=-4643.8549542\n",
      "lambda=1.0000000, alpha=0.4669556, converged in 14 iterations, train_loss=-6196.7203484\n",
      "constant-w/variance fit, converged in 120 iterations, train_loss=-4665.5365008\n"
     ]
    },
    {
     "name": "stderr",
     "output_type": "stream",
     "text": [
      "\r",
      "103it [03:44,  2.16s/it]"
     ]
    },
    {
     "name": "stdout",
     "output_type": "stream",
     "text": [
      "constant-w/variance fit, converged in 120 iterations, train_loss=-4665.5365008\n",
      "lambda=1.0000000, alpha=0.4655395, converged in 15 iterations, train_loss=-6216.6952031\n",
      "constant-w/variance fit, converged in 116 iterations, train_loss=-4644.7824525\n"
     ]
    },
    {
     "name": "stderr",
     "output_type": "stream",
     "text": [
      "\r",
      "104it [03:47,  2.23s/it]"
     ]
    },
    {
     "name": "stdout",
     "output_type": "stream",
     "text": [
      "constant-w/variance fit, converged in 116 iterations, train_loss=-4644.7824525\n",
      "lambda=1.0000000, alpha=0.4650182, converged in 15 iterations, train_loss=-6195.5507260\n",
      "constant-w/variance fit, converged in 117 iterations, train_loss=-4809.2812108\n"
     ]
    },
    {
     "name": "stderr",
     "output_type": "stream",
     "text": [
      "\r",
      "105it [03:49,  2.22s/it]"
     ]
    },
    {
     "name": "stdout",
     "output_type": "stream",
     "text": [
      "constant-w/variance fit, converged in 117 iterations, train_loss=-4809.2812108\n",
      "lambda=1.0000000, alpha=0.4650698, converged in 15 iterations, train_loss=-6368.5854377\n",
      "constant-w/variance fit, converged in 114 iterations, train_loss=-4661.4600854\n"
     ]
    },
    {
     "name": "stderr",
     "output_type": "stream",
     "text": [
      "\r",
      "106it [03:51,  2.20s/it]"
     ]
    },
    {
     "name": "stdout",
     "output_type": "stream",
     "text": [
      "constant-w/variance fit, converged in 114 iterations, train_loss=-4661.4600854\n",
      "lambda=1.0000000, alpha=0.4662363, converged in 15 iterations, train_loss=-6221.4322684\n",
      "constant-w/variance fit, converged in 118 iterations, train_loss=-4829.6141627\n"
     ]
    },
    {
     "name": "stderr",
     "output_type": "stream",
     "text": [
      "\r",
      "107it [03:53,  2.19s/it]"
     ]
    },
    {
     "name": "stdout",
     "output_type": "stream",
     "text": [
      "constant-w/variance fit, converged in 118 iterations, train_loss=-4829.6141627\n",
      "lambda=1.0000000, alpha=0.4643413, converged in 15 iterations, train_loss=-6390.7771027\n",
      "constant-w/variance fit, converged in 114 iterations, train_loss=-4803.1558087\n"
     ]
    },
    {
     "name": "stderr",
     "output_type": "stream",
     "text": [
      "\r",
      "108it [03:55,  2.18s/it]"
     ]
    },
    {
     "name": "stdout",
     "output_type": "stream",
     "text": [
      "constant-w/variance fit, converged in 114 iterations, train_loss=-4803.1558087\n",
      "lambda=1.0000000, alpha=0.4655917, converged in 16 iterations, train_loss=-6357.7959751\n"
     ]
    },
    {
     "name": "stderr",
     "output_type": "stream",
     "text": [
      "\r",
      "109it [03:58,  2.29s/it]"
     ]
    },
    {
     "name": "stdout",
     "output_type": "stream",
     "text": [
      "constant-w/variance fit, converged in 117 iterations, train_loss=-4654.1331315\n"
     ]
    },
    {
     "name": "stderr",
     "output_type": "stream",
     "text": [
      "\r",
      "110it [04:00,  2.26s/it]"
     ]
    },
    {
     "name": "stdout",
     "output_type": "stream",
     "text": [
      "constant-w/variance fit, converged in 117 iterations, train_loss=-4654.1331315\n",
      "lambda=1.0000000, alpha=0.4646755, converged in 15 iterations, train_loss=-6199.1523440\n",
      "constant-w/variance fit, converged in 118 iterations, train_loss=-4657.3667367\n"
     ]
    },
    {
     "name": "stderr",
     "output_type": "stream",
     "text": [
      "\r",
      "111it [04:02,  2.22s/it]"
     ]
    },
    {
     "name": "stdout",
     "output_type": "stream",
     "text": [
      "constant-w/variance fit, converged in 118 iterations, train_loss=-4657.3667367\n",
      "lambda=1.0000000, alpha=0.4641382, converged in 15 iterations, train_loss=-6201.9286683\n",
      "constant-w/variance fit, converged in 116 iterations, train_loss=-4934.3741535\n"
     ]
    },
    {
     "name": "stderr",
     "output_type": "stream",
     "text": [
      "\r",
      "112it [04:04,  2.18s/it]"
     ]
    },
    {
     "name": "stdout",
     "output_type": "stream",
     "text": [
      "constant-w/variance fit, converged in 116 iterations, train_loss=-4934.3741535\n",
      "lambda=1.0000000, alpha=0.4669790, converged in 14 iterations, train_loss=-6477.6176802\n",
      "constant-w/variance fit, converged in 106 iterations, train_loss=-4785.6760858\n"
     ]
    },
    {
     "name": "stderr",
     "output_type": "stream",
     "text": [
      "\r",
      "113it [04:06,  2.14s/it]"
     ]
    },
    {
     "name": "stdout",
     "output_type": "stream",
     "text": [
      "constant-w/variance fit, converged in 106 iterations, train_loss=-4785.6760858\n",
      "lambda=1.0000000, alpha=0.4672104, converged in 14 iterations, train_loss=-6317.8451019\n",
      "constant-w/variance fit, converged in 118 iterations, train_loss=-4788.2947874\n"
     ]
    },
    {
     "name": "stderr",
     "output_type": "stream",
     "text": [
      "\r",
      "114it [04:09,  2.14s/it]"
     ]
    },
    {
     "name": "stdout",
     "output_type": "stream",
     "text": [
      "constant-w/variance fit, converged in 118 iterations, train_loss=-4788.2947874\n",
      "lambda=1.0000000, alpha=0.4640372, converged in 15 iterations, train_loss=-6318.4411383\n",
      "constant-w/variance fit, converged in 126 iterations, train_loss=-4803.5096211\n"
     ]
    },
    {
     "name": "stderr",
     "output_type": "stream",
     "text": [
      "\r",
      "115it [04:11,  2.17s/it]"
     ]
    },
    {
     "name": "stdout",
     "output_type": "stream",
     "text": [
      "constant-w/variance fit, converged in 126 iterations, train_loss=-4803.5096211\n",
      "lambda=1.0000000, alpha=0.4631608, converged in 15 iterations, train_loss=-6336.4424482\n",
      "constant-w/variance fit, converged in 113 iterations, train_loss=-4600.0626121\n"
     ]
    },
    {
     "name": "stderr",
     "output_type": "stream",
     "text": [
      "\r",
      "116it [04:13,  2.14s/it]"
     ]
    },
    {
     "name": "stdout",
     "output_type": "stream",
     "text": [
      "constant-w/variance fit, converged in 113 iterations, train_loss=-4600.0626121\n",
      "lambda=1.0000000, alpha=0.4661622, converged in 15 iterations, train_loss=-6120.4575920\n",
      "constant-w/variance fit, converged in 106 iterations, train_loss=-4678.6348181\n"
     ]
    },
    {
     "name": "stderr",
     "output_type": "stream",
     "text": [
      "\r",
      "117it [04:15,  2.12s/it]"
     ]
    },
    {
     "name": "stdout",
     "output_type": "stream",
     "text": [
      "constant-w/variance fit, converged in 106 iterations, train_loss=-4678.6348181\n",
      "lambda=1.0000000, alpha=0.4669919, converged in 15 iterations, train_loss=-6220.9580297\n",
      "constant-w/variance fit, converged in 117 iterations, train_loss=-4829.4903513\n"
     ]
    },
    {
     "name": "stderr",
     "output_type": "stream",
     "text": [
      "\r",
      "118it [04:17,  2.12s/it]"
     ]
    },
    {
     "name": "stdout",
     "output_type": "stream",
     "text": [
      "constant-w/variance fit, converged in 117 iterations, train_loss=-4829.4903513\n",
      "lambda=1.0000000, alpha=0.4627235, converged in 15 iterations, train_loss=-6395.7266835\n",
      "constant-w/variance fit, converged in 115 iterations, train_loss=-4730.1186380\n"
     ]
    },
    {
     "name": "stderr",
     "output_type": "stream",
     "text": [
      "\r",
      "119it [04:19,  2.14s/it]"
     ]
    },
    {
     "name": "stdout",
     "output_type": "stream",
     "text": [
      "constant-w/variance fit, converged in 115 iterations, train_loss=-4730.1186380\n",
      "lambda=1.0000000, alpha=0.4651024, converged in 15 iterations, train_loss=-6279.7353119\n",
      "constant-w/variance fit, converged in 116 iterations, train_loss=-5026.7136950\n"
     ]
    },
    {
     "name": "stderr",
     "output_type": "stream",
     "text": [
      "\r",
      "120it [04:21,  2.13s/it]"
     ]
    },
    {
     "name": "stdout",
     "output_type": "stream",
     "text": [
      "constant-w/variance fit, converged in 116 iterations, train_loss=-5026.7136950\n",
      "lambda=1.0000000, alpha=0.4667201, converged in 15 iterations, train_loss=-6592.4176140\n",
      "constant-w/variance fit, converged in 118 iterations, train_loss=-4873.4122404\n"
     ]
    },
    {
     "name": "stderr",
     "output_type": "stream",
     "text": [
      "\r",
      "121it [04:24,  2.13s/it]"
     ]
    },
    {
     "name": "stdout",
     "output_type": "stream",
     "text": [
      "constant-w/variance fit, converged in 118 iterations, train_loss=-4873.4122404\n",
      "lambda=1.0000000, alpha=0.4647622, converged in 15 iterations, train_loss=-6432.8229096\n",
      "constant-w/variance fit, converged in 115 iterations, train_loss=-4898.9841227\n"
     ]
    },
    {
     "name": "stderr",
     "output_type": "stream",
     "text": [
      "\r",
      "122it [04:26,  2.12s/it]"
     ]
    },
    {
     "name": "stdout",
     "output_type": "stream",
     "text": [
      "constant-w/variance fit, converged in 115 iterations, train_loss=-4898.9841227\n",
      "lambda=1.0000000, alpha=0.4641409, converged in 15 iterations, train_loss=-6461.7896197\n",
      "constant-w/variance fit, converged in 110 iterations, train_loss=-4638.0701927\n"
     ]
    },
    {
     "name": "stderr",
     "output_type": "stream",
     "text": [
      "\r",
      "123it [04:28,  2.10s/it]"
     ]
    },
    {
     "name": "stdout",
     "output_type": "stream",
     "text": [
      "constant-w/variance fit, converged in 110 iterations, train_loss=-4638.0701927\n",
      "lambda=1.0000000, alpha=0.4675776, converged in 14 iterations, train_loss=-6181.1019171\n",
      "constant-w/variance fit, converged in 122 iterations, train_loss=-4909.4421470\n"
     ]
    },
    {
     "name": "stderr",
     "output_type": "stream",
     "text": [
      "\r",
      "124it [04:30,  2.12s/it]"
     ]
    },
    {
     "name": "stdout",
     "output_type": "stream",
     "text": [
      "constant-w/variance fit, converged in 122 iterations, train_loss=-4909.4421470\n",
      "lambda=1.0000000, alpha=0.4624276, converged in 14 iterations, train_loss=-6457.8593970\n",
      "constant-w/variance fit, converged in 116 iterations, train_loss=-4753.0028280\n"
     ]
    },
    {
     "name": "stderr",
     "output_type": "stream",
     "text": [
      "\r",
      "125it [04:32,  2.11s/it]"
     ]
    },
    {
     "name": "stdout",
     "output_type": "stream",
     "text": [
      "constant-w/variance fit, converged in 116 iterations, train_loss=-4753.0028280\n",
      "lambda=1.0000000, alpha=0.4651969, converged in 15 iterations, train_loss=-6289.2603037\n",
      "constant-w/variance fit, converged in 109 iterations, train_loss=-4721.2081371\n"
     ]
    },
    {
     "name": "stderr",
     "output_type": "stream",
     "text": [
      "\r",
      "126it [04:34,  2.09s/it]"
     ]
    },
    {
     "name": "stdout",
     "output_type": "stream",
     "text": [
      "constant-w/variance fit, converged in 109 iterations, train_loss=-4721.2081371\n",
      "lambda=1.0000000, alpha=0.4646872, converged in 15 iterations, train_loss=-6258.5164051\n",
      "constant-w/variance fit, converged in 121 iterations, train_loss=-4800.3408282\n"
     ]
    },
    {
     "name": "stderr",
     "output_type": "stream",
     "text": [
      "\r",
      "127it [04:36,  2.11s/it]"
     ]
    },
    {
     "name": "stdout",
     "output_type": "stream",
     "text": [
      "constant-w/variance fit, converged in 121 iterations, train_loss=-4800.3408282\n",
      "lambda=1.0000000, alpha=0.4640361, converged in 14 iterations, train_loss=-6322.0378900\n",
      "constant-w/variance fit, converged in 112 iterations, train_loss=-4851.1946130\n"
     ]
    },
    {
     "name": "stderr",
     "output_type": "stream",
     "text": [
      "128it [04:38,  2.18s/it]"
     ]
    },
    {
     "name": "stdout",
     "output_type": "stream",
     "text": [
      "constant-w/variance fit, converged in 112 iterations, train_loss=-4851.1946130\n",
      "lambda=1.0000000, alpha=0.4665558, converged in 17 iterations, train_loss=-6374.8223598\n"
     ]
    },
    {
     "name": "stderr",
     "output_type": "stream",
     "text": [
      "\n"
     ]
    }
   ],
   "source": [
    "loo_results = leave_node_out(genotypes[:, :500], coord, grid, edges)\n",
    "loo_results = pd.DataFrame(loo_results).T.rename(\n",
    "    columns = {0:'feems', 1:'ibd', 2:'random'}\n",
    ")\n",
    "loo_results500 = loo_results.apply(lambda x: x.explode())"
   ]
  },
  {
   "cell_type": "code",
   "execution_count": 199,
   "id": "fe9fe38c",
   "metadata": {},
   "outputs": [
    {
     "data": {
      "text/plain": [
       "<matplotlib.axes._subplots.AxesSubplot at 0x7fe277a1eb50>"
      ]
     },
     "execution_count": 199,
     "metadata": {},
     "output_type": "execute_result"
    },
    {
     "data": {
      "image/png": "[encoded data removed]",
      "text/plain": [
       "<Figure size 432x288 with 1 Axes>"
      ]
     },
     "metadata": {
      "needs_background": "light"
     },
     "output_type": "display_data"
    }
   ],
   "source": [
    "(loo_results500.reset_index().drop(columns='index')).fillna(10).boxplot()"
   ]
  },
  {
   "cell_type": "code",
   "execution_count": 200,
   "id": "c8640108",
   "metadata": {},
   "outputs": [
    {
     "name": "stderr",
     "output_type": "stream",
     "text": [
      "1it [00:02,  2.64s/it]"
     ]
    },
    {
     "name": "stdout",
     "output_type": "stream",
     "text": [
      "constant-w/variance fit, converged in 113 iterations, train_loss=-10624.9422333\n"
     ]
    },
    {
     "name": "stderr",
     "output_type": "stream",
     "text": [
      "\r",
      "2it [00:04,  2.36s/it]"
     ]
    },
    {
     "name": "stdout",
     "output_type": "stream",
     "text": [
      "constant-w/variance fit, converged in 113 iterations, train_loss=-10624.9422333\n",
      "lambda=1.0000000, alpha=0.4551505, converged in 16 iterations, train_loss=-13744.5373931\n",
      "constant-w/variance fit, converged in 112 iterations, train_loss=-10561.8683525\n"
     ]
    },
    {
     "name": "stderr",
     "output_type": "stream",
     "text": [
      "\r",
      "3it [00:06,  2.26s/it]"
     ]
    },
    {
     "name": "stdout",
     "output_type": "stream",
     "text": [
      "constant-w/variance fit, converged in 112 iterations, train_loss=-10561.8683525\n",
      "lambda=1.0000000, alpha=0.4581113, converged in 17 iterations, train_loss=-13700.7948048\n"
     ]
    },
    {
     "name": "stderr",
     "output_type": "stream",
     "text": [
      "5it [00:12,  2.47s/it]"
     ]
    },
    {
     "name": "stdout",
     "output_type": "stream",
     "text": [
      "constant-w/variance fit, converged in 112 iterations, train_loss=-10495.6273223\n"
     ]
    },
    {
     "name": "stderr",
     "output_type": "stream",
     "text": [
      "\r",
      "6it [00:14,  2.41s/it]"
     ]
    },
    {
     "name": "stdout",
     "output_type": "stream",
     "text": [
      "constant-w/variance fit, converged in 112 iterations, train_loss=-10495.6273223\n",
      "lambda=1.0000000, alpha=0.4570981, converged in 15 iterations, train_loss=-13632.2851865\n",
      "constant-w/variance fit, converged in 111 iterations, train_loss=-10605.0249759\n"
     ]
    },
    {
     "name": "stderr",
     "output_type": "stream",
     "text": [
      "\r",
      "7it [00:16,  2.39s/it]"
     ]
    },
    {
     "name": "stdout",
     "output_type": "stream",
     "text": [
      "constant-w/variance fit, converged in 111 iterations, train_loss=-10605.0249759\n",
      "lambda=1.0000000, alpha=0.4550217, converged in 15 iterations, train_loss=-13783.8117811\n"
     ]
    },
    {
     "name": "stderr",
     "output_type": "stream",
     "text": [
      "\r",
      "8it [00:19,  2.50s/it]"
     ]
    },
    {
     "name": "stdout",
     "output_type": "stream",
     "text": [
      "constant-w/variance fit, converged in 107 iterations, train_loss=-10848.0901135\n"
     ]
    },
    {
     "name": "stderr",
     "output_type": "stream",
     "text": [
      "\r",
      "9it [00:21,  2.48s/it]"
     ]
    },
    {
     "name": "stdout",
     "output_type": "stream",
     "text": [
      "constant-w/variance fit, converged in 107 iterations, train_loss=-10848.0901135\n",
      "lambda=1.0000000, alpha=0.4541993, converged in 15 iterations, train_loss=-14065.4734543\n"
     ]
    },
    {
     "name": "stderr",
     "output_type": "stream",
     "text": [
      "\r",
      "10it [00:24,  2.50s/it]"
     ]
    },
    {
     "name": "stdout",
     "output_type": "stream",
     "text": [
      "constant-w/variance fit, converged in 115 iterations, train_loss=-10485.7176090\n"
     ]
    },
    {
     "name": "stderr",
     "output_type": "stream",
     "text": [
      "\r",
      "11it [00:26,  2.38s/it]"
     ]
    },
    {
     "name": "stdout",
     "output_type": "stream",
     "text": [
      "constant-w/variance fit, converged in 115 iterations, train_loss=-10485.7176090\n",
      "lambda=1.0000000, alpha=0.4552648, converged in 15 iterations, train_loss=-13647.2754186\n"
     ]
    },
    {
     "name": "stderr",
     "output_type": "stream",
     "text": [
      "13it [00:31,  2.48s/it]"
     ]
    },
    {
     "name": "stdout",
     "output_type": "stream",
     "text": [
      "constant-w/variance fit, converged in 109 iterations, train_loss=-10425.9322170\n"
     ]
    },
    {
     "name": "stderr",
     "output_type": "stream",
     "text": [
      "\r",
      "14it [00:33,  2.35s/it]"
     ]
    },
    {
     "name": "stdout",
     "output_type": "stream",
     "text": [
      "constant-w/variance fit, converged in 109 iterations, train_loss=-10425.9322170\n",
      "lambda=1.0000000, alpha=0.4571453, converged in 17 iterations, train_loss=-13572.0580674\n",
      "constant-w/variance fit, converged in 111 iterations, train_loss=-10700.9126614\n"
     ]
    },
    {
     "name": "stderr",
     "output_type": "stream",
     "text": [
      "\r",
      "15it [00:35,  2.25s/it]"
     ]
    },
    {
     "name": "stdout",
     "output_type": "stream",
     "text": [
      "constant-w/variance fit, converged in 111 iterations, train_loss=-10700.9126614\n",
      "lambda=1.0000000, alpha=0.4549803, converged in 17 iterations, train_loss=-13851.2403594\n",
      "constant-w/variance fit, converged in 112 iterations, train_loss=-10987.4059115\n"
     ]
    },
    {
     "name": "stderr",
     "output_type": "stream",
     "text": [
      "\r",
      "16it [00:37,  2.18s/it]"
     ]
    },
    {
     "name": "stdout",
     "output_type": "stream",
     "text": [
      "constant-w/variance fit, converged in 112 iterations, train_loss=-10987.4059115\n",
      "lambda=1.0000000, alpha=0.4524117, converged in 17 iterations, train_loss=-14109.6483735\n",
      "constant-w/variance fit, converged in 108 iterations, train_loss=-10399.7990908\n"
     ]
    },
    {
     "name": "stderr",
     "output_type": "stream",
     "text": [
      "\r",
      "17it [00:39,  2.13s/it]"
     ]
    },
    {
     "name": "stdout",
     "output_type": "stream",
     "text": [
      "constant-w/variance fit, converged in 108 iterations, train_loss=-10399.7990908\n",
      "lambda=1.0000000, alpha=0.4584295, converged in 19 iterations, train_loss=-13601.4609144\n",
      "constant-w/variance fit, converged in 111 iterations, train_loss=-10854.3190860\n"
     ]
    },
    {
     "name": "stderr",
     "output_type": "stream",
     "text": [
      "\r",
      "18it [00:41,  2.12s/it]"
     ]
    },
    {
     "name": "stdout",
     "output_type": "stream",
     "text": [
      "constant-w/variance fit, converged in 111 iterations, train_loss=-10854.3190860\n",
      "lambda=1.0000000, alpha=0.4582722, converged in 16 iterations, train_loss=-13988.9045310\n",
      "constant-w/variance fit, converged in 110 iterations, train_loss=-10356.5857967\n"
     ]
    },
    {
     "name": "stderr",
     "output_type": "stream",
     "text": [
      "\r",
      "19it [00:43,  2.10s/it]"
     ]
    },
    {
     "name": "stdout",
     "output_type": "stream",
     "text": [
      "constant-w/variance fit, converged in 110 iterations, train_loss=-10356.5857967\n",
      "lambda=1.0000000, alpha=0.4564629, converged in 15 iterations, train_loss=-13522.0407738\n",
      "constant-w/variance fit, converged in 108 iterations, train_loss=-10392.3998221\n"
     ]
    },
    {
     "name": "stderr",
     "output_type": "stream",
     "text": [
      "\r",
      "20it [00:46,  2.11s/it]"
     ]
    },
    {
     "name": "stdout",
     "output_type": "stream",
     "text": [
      "constant-w/variance fit, converged in 108 iterations, train_loss=-10392.3998221\n",
      "lambda=1.0000000, alpha=0.4572336, converged in 15 iterations, train_loss=-13570.4493956\n",
      "constant-w/variance fit, converged in 110 iterations, train_loss=-10332.1268666\n"
     ]
    },
    {
     "name": "stderr",
     "output_type": "stream",
     "text": [
      "\r",
      "21it [00:48,  2.11s/it]"
     ]
    },
    {
     "name": "stdout",
     "output_type": "stream",
     "text": [
      "constant-w/variance fit, converged in 110 iterations, train_loss=-10332.1268666\n",
      "lambda=1.0000000, alpha=0.4580843, converged in 16 iterations, train_loss=-13502.3863788\n",
      "constant-w/variance fit, converged in 112 iterations, train_loss=-10448.8893644\n"
     ]
    },
    {
     "name": "stderr",
     "output_type": "stream",
     "text": [
      "\r",
      "22it [00:50,  2.14s/it]"
     ]
    },
    {
     "name": "stdout",
     "output_type": "stream",
     "text": [
      "constant-w/variance fit, converged in 112 iterations, train_loss=-10448.8893644\n",
      "lambda=1.0000000, alpha=0.4575710, converged in 15 iterations, train_loss=-13613.7942933\n",
      "constant-w/variance fit, converged in 108 iterations, train_loss=-10172.8954749\n"
     ]
    },
    {
     "name": "stderr",
     "output_type": "stream",
     "text": [
      "\r",
      "23it [00:52,  2.15s/it]"
     ]
    },
    {
     "name": "stdout",
     "output_type": "stream",
     "text": [
      "constant-w/variance fit, converged in 108 iterations, train_loss=-10172.8954749\n",
      "lambda=1.0000000, alpha=0.4566800, converged in 15 iterations, train_loss=-13307.4607725\n",
      "constant-w/variance fit, converged in 109 iterations, train_loss=-10226.8271545\n"
     ]
    },
    {
     "name": "stderr",
     "output_type": "stream",
     "text": [
      "\r",
      "24it [00:54,  2.17s/it]"
     ]
    },
    {
     "name": "stdout",
     "output_type": "stream",
     "text": [
      "constant-w/variance fit, converged in 109 iterations, train_loss=-10226.8271545\n",
      "lambda=1.0000000, alpha=0.4576166, converged in 15 iterations, train_loss=-13364.2918193\n",
      "constant-w/variance fit, converged in 112 iterations, train_loss=-10162.9554812\n"
     ]
    },
    {
     "name": "stderr",
     "output_type": "stream",
     "text": [
      "\r",
      "25it [00:56,  2.14s/it]"
     ]
    },
    {
     "name": "stdout",
     "output_type": "stream",
     "text": [
      "constant-w/variance fit, converged in 112 iterations, train_loss=-10162.9554812\n",
      "lambda=1.0000000, alpha=0.4573537, converged in 15 iterations, train_loss=-13292.1265819\n",
      "constant-w/variance fit, converged in 110 iterations, train_loss=-10157.5996725\n"
     ]
    },
    {
     "name": "stderr",
     "output_type": "stream",
     "text": [
      "\r",
      "26it [00:59,  2.14s/it]"
     ]
    },
    {
     "name": "stdout",
     "output_type": "stream",
     "text": [
      "constant-w/variance fit, converged in 110 iterations, train_loss=-10157.5996725\n",
      "lambda=1.0000000, alpha=0.4564553, converged in 15 iterations, train_loss=-13296.5696126\n",
      "constant-w/variance fit, converged in 113 iterations, train_loss=-10269.0305410\n"
     ]
    },
    {
     "name": "stderr",
     "output_type": "stream",
     "text": [
      "\r",
      "27it [01:01,  2.24s/it]"
     ]
    },
    {
     "name": "stdout",
     "output_type": "stream",
     "text": [
      "constant-w/variance fit, converged in 113 iterations, train_loss=-10269.0305410\n",
      "lambda=1.0000000, alpha=0.4572234, converged in 15 iterations, train_loss=-13427.1639577\n",
      "constant-w/variance fit, converged in 113 iterations, train_loss=-10244.2520599\n"
     ]
    },
    {
     "name": "stderr",
     "output_type": "stream",
     "text": [
      "\r",
      "28it [01:03,  2.30s/it]"
     ]
    },
    {
     "name": "stdout",
     "output_type": "stream",
     "text": [
      "constant-w/variance fit, converged in 113 iterations, train_loss=-10244.2520599\n",
      "lambda=1.0000000, alpha=0.4557881, converged in 15 iterations, train_loss=-13400.9189774\n",
      "constant-w/variance fit, converged in 111 iterations, train_loss=-10403.8194182\n"
     ]
    },
    {
     "name": "stderr",
     "output_type": "stream",
     "text": [
      "\r",
      "29it [01:06,  2.33s/it]"
     ]
    },
    {
     "name": "stdout",
     "output_type": "stream",
     "text": [
      "constant-w/variance fit, converged in 111 iterations, train_loss=-10403.8194182\n",
      "lambda=1.0000000, alpha=0.4568353, converged in 15 iterations, train_loss=-13574.0414835\n",
      "constant-w/variance fit, converged in 108 iterations, train_loss=-10528.7099118\n"
     ]
    },
    {
     "name": "stderr",
     "output_type": "stream",
     "text": [
      "\r",
      "30it [01:08,  2.24s/it]"
     ]
    },
    {
     "name": "stdout",
     "output_type": "stream",
     "text": [
      "constant-w/variance fit, converged in 108 iterations, train_loss=-10528.7099118\n",
      "lambda=1.0000000, alpha=0.4564517, converged in 15 iterations, train_loss=-13702.2726977\n",
      "constant-w/variance fit, converged in 114 iterations, train_loss=-10396.6004648\n"
     ]
    },
    {
     "name": "stderr",
     "output_type": "stream",
     "text": [
      "\r",
      "31it [01:10,  2.20s/it]"
     ]
    },
    {
     "name": "stdout",
     "output_type": "stream",
     "text": [
      "constant-w/variance fit, converged in 114 iterations, train_loss=-10396.6004648\n",
      "lambda=1.0000000, alpha=0.4571341, converged in 17 iterations, train_loss=-13532.9070303\n",
      "constant-w/variance fit, converged in 107 iterations, train_loss=-10613.5645453\n"
     ]
    },
    {
     "name": "stderr",
     "output_type": "stream",
     "text": [
      "\r",
      "32it [01:12,  2.14s/it]"
     ]
    },
    {
     "name": "stdout",
     "output_type": "stream",
     "text": [
      "constant-w/variance fit, converged in 107 iterations, train_loss=-10613.5645453\n",
      "lambda=1.0000000, alpha=0.4570366, converged in 18 iterations, train_loss=-13788.7050419\n"
     ]
    },
    {
     "name": "stderr",
     "output_type": "stream",
     "text": [
      "\r",
      "33it [01:14,  2.23s/it]"
     ]
    },
    {
     "name": "stdout",
     "output_type": "stream",
     "text": [
      "constant-w/variance fit, converged in 109 iterations, train_loss=-10209.9259422\n"
     ]
    },
    {
     "name": "stderr",
     "output_type": "stream",
     "text": [
      "\r",
      "34it [01:17,  2.18s/it]"
     ]
    },
    {
     "name": "stdout",
     "output_type": "stream",
     "text": [
      "constant-w/variance fit, converged in 109 iterations, train_loss=-10209.9259422\n",
      "lambda=1.0000000, alpha=0.4552545, converged in 16 iterations, train_loss=-13333.8974222\n",
      "constant-w/variance fit, converged in 109 iterations, train_loss=-10350.6834369\n"
     ]
    },
    {
     "name": "stderr",
     "output_type": "stream",
     "text": [
      "\r",
      "35it [01:18,  2.12s/it]"
     ]
    },
    {
     "name": "stdout",
     "output_type": "stream",
     "text": [
      "constant-w/variance fit, converged in 109 iterations, train_loss=-10350.6834369\n",
      "lambda=1.0000000, alpha=0.4570284, converged in 16 iterations, train_loss=-13508.3845126\n",
      "constant-w/variance fit, converged in 107 iterations, train_loss=-10369.3241546\n"
     ]
    },
    {
     "name": "stderr",
     "output_type": "stream",
     "text": [
      "\r",
      "36it [01:21,  2.20s/it]"
     ]
    },
    {
     "name": "stdout",
     "output_type": "stream",
     "text": [
      "constant-w/variance fit, converged in 107 iterations, train_loss=-10369.3241546\n",
      "lambda=1.0000000, alpha=0.4574829, converged in 15 iterations, train_loss=-13538.8674693\n",
      "constant-w/variance fit, converged in 109 iterations, train_loss=-10493.8786451\n"
     ]
    },
    {
     "name": "stderr",
     "output_type": "stream",
     "text": [
      "\r",
      "37it [01:23,  2.18s/it]"
     ]
    },
    {
     "name": "stdout",
     "output_type": "stream",
     "text": [
      "constant-w/variance fit, converged in 109 iterations, train_loss=-10493.8786451\n",
      "lambda=1.0000000, alpha=0.4566111, converged in 15 iterations, train_loss=-13653.6707408\n",
      "constant-w/variance fit, converged in 112 iterations, train_loss=-10571.6750027\n"
     ]
    },
    {
     "name": "stderr",
     "output_type": "stream",
     "text": [
      "\r",
      "38it [01:25,  2.16s/it]"
     ]
    },
    {
     "name": "stdout",
     "output_type": "stream",
     "text": [
      "constant-w/variance fit, converged in 112 iterations, train_loss=-10571.6750027\n",
      "lambda=1.0000000, alpha=0.4563069, converged in 15 iterations, train_loss=-13727.9930661\n",
      "constant-w/variance fit, converged in 114 iterations, train_loss=-10370.4541590\n"
     ]
    },
    {
     "name": "stderr",
     "output_type": "stream",
     "text": [
      "\r",
      "39it [01:27,  2.18s/it]"
     ]
    },
    {
     "name": "stdout",
     "output_type": "stream",
     "text": [
      "constant-w/variance fit, converged in 114 iterations, train_loss=-10370.4541590\n",
      "lambda=1.0000000, alpha=0.4563288, converged in 15 iterations, train_loss=-13539.9021971\n",
      "constant-w/variance fit, converged in 106 iterations, train_loss=-10566.8590641\n"
     ]
    },
    {
     "name": "stderr",
     "output_type": "stream",
     "text": [
      "\r",
      "40it [01:30,  2.17s/it]"
     ]
    },
    {
     "name": "stdout",
     "output_type": "stream",
     "text": [
      "constant-w/variance fit, converged in 106 iterations, train_loss=-10566.8590641\n",
      "lambda=1.0000000, alpha=0.4568401, converged in 15 iterations, train_loss=-13741.7845440\n",
      "constant-w/variance fit, converged in 112 iterations, train_loss=-10252.4184064\n"
     ]
    },
    {
     "name": "stderr",
     "output_type": "stream",
     "text": [
      "\r",
      "41it [01:32,  2.16s/it]"
     ]
    },
    {
     "name": "stdout",
     "output_type": "stream",
     "text": [
      "constant-w/variance fit, converged in 112 iterations, train_loss=-10252.4184064\n",
      "lambda=1.0000000, alpha=0.4565067, converged in 15 iterations, train_loss=-13419.5033180\n",
      "constant-w/variance fit, converged in 111 iterations, train_loss=-10526.2793135\n"
     ]
    },
    {
     "name": "stderr",
     "output_type": "stream",
     "text": [
      "\r",
      "42it [01:34,  2.19s/it]"
     ]
    },
    {
     "name": "stdout",
     "output_type": "stream",
     "text": [
      "constant-w/variance fit, converged in 111 iterations, train_loss=-10526.2793135\n",
      "lambda=1.0000000, alpha=0.4558078, converged in 15 iterations, train_loss=-13707.6678275\n",
      "constant-w/variance fit, converged in 108 iterations, train_loss=-10194.6060897\n"
     ]
    },
    {
     "name": "stderr",
     "output_type": "stream",
     "text": [
      "\r",
      "43it [01:36,  2.16s/it]"
     ]
    },
    {
     "name": "stdout",
     "output_type": "stream",
     "text": [
      "constant-w/variance fit, converged in 108 iterations, train_loss=-10194.6060897\n",
      "lambda=1.0000000, alpha=0.4552758, converged in 16 iterations, train_loss=-13357.4479833\n",
      "constant-w/variance fit, converged in 114 iterations, train_loss=-10487.9881165\n"
     ]
    },
    {
     "name": "stderr",
     "output_type": "stream",
     "text": [
      "\r",
      "44it [01:38,  2.15s/it]"
     ]
    },
    {
     "name": "stdout",
     "output_type": "stream",
     "text": [
      "constant-w/variance fit, converged in 114 iterations, train_loss=-10487.9881165\n",
      "lambda=1.0000000, alpha=0.4568961, converged in 15 iterations, train_loss=-13662.5038480\n",
      "constant-w/variance fit, converged in 107 iterations, train_loss=-10166.1367406\n"
     ]
    },
    {
     "name": "stderr",
     "output_type": "stream",
     "text": [
      "\r",
      "45it [01:40,  2.11s/it]"
     ]
    },
    {
     "name": "stdout",
     "output_type": "stream",
     "text": [
      "constant-w/variance fit, converged in 107 iterations, train_loss=-10166.1367406\n",
      "lambda=1.0000000, alpha=0.4565412, converged in 15 iterations, train_loss=-13326.2160371\n",
      "constant-w/variance fit, converged in 109 iterations, train_loss=-10443.9557799\n"
     ]
    },
    {
     "name": "stderr",
     "output_type": "stream",
     "text": [
      "\r",
      "46it [01:42,  2.11s/it]"
     ]
    },
    {
     "name": "stdout",
     "output_type": "stream",
     "text": [
      "constant-w/variance fit, converged in 109 iterations, train_loss=-10443.9557799\n",
      "lambda=1.0000000, alpha=0.4569151, converged in 15 iterations, train_loss=-13612.2030419\n"
     ]
    },
    {
     "name": "stderr",
     "output_type": "stream",
     "text": [
      "\r",
      "47it [01:45,  2.22s/it]"
     ]
    },
    {
     "name": "stdout",
     "output_type": "stream",
     "text": [
      "constant-w/variance fit, converged in 111 iterations, train_loss=-10541.4453843\n"
     ]
    },
    {
     "name": "stderr",
     "output_type": "stream",
     "text": [
      "\r",
      "48it [01:47,  2.16s/it]"
     ]
    },
    {
     "name": "stdout",
     "output_type": "stream",
     "text": [
      "constant-w/variance fit, converged in 111 iterations, train_loss=-10541.4453843\n",
      "lambda=1.0000000, alpha=0.4573975, converged in 18 iterations, train_loss=-13698.9363262\n",
      "constant-w/variance fit, converged in 110 iterations, train_loss=-10925.1862459\n"
     ]
    },
    {
     "name": "stderr",
     "output_type": "stream",
     "text": [
      "\r",
      "49it [01:49,  2.14s/it]"
     ]
    },
    {
     "name": "stdout",
     "output_type": "stream",
     "text": [
      "constant-w/variance fit, converged in 110 iterations, train_loss=-10925.1862459\n",
      "lambda=1.0000000, alpha=0.4576507, converged in 16 iterations, train_loss=-14089.5965207\n",
      "constant-w/variance fit, converged in 111 iterations, train_loss=-10510.0691013\n"
     ]
    },
    {
     "name": "stderr",
     "output_type": "stream",
     "text": [
      "\r",
      "50it [01:51,  2.19s/it]"
     ]
    },
    {
     "name": "stdout",
     "output_type": "stream",
     "text": [
      "constant-w/variance fit, converged in 111 iterations, train_loss=-10510.0691013\n",
      "lambda=1.0000000, alpha=0.4551193, converged in 15 iterations, train_loss=-13680.4550197\n",
      "constant-w/variance fit, converged in 108 iterations, train_loss=-10491.8746936\n"
     ]
    },
    {
     "name": "stderr",
     "output_type": "stream",
     "text": [
      "\r",
      "51it [01:53,  2.20s/it]"
     ]
    },
    {
     "name": "stdout",
     "output_type": "stream",
     "text": [
      "constant-w/variance fit, converged in 108 iterations, train_loss=-10491.8746936\n",
      "lambda=1.0000000, alpha=0.4559207, converged in 15 iterations, train_loss=-13655.8168238\n",
      "constant-w/variance fit, converged in 109 iterations, train_loss=-10581.3568895\n"
     ]
    },
    {
     "name": "stderr",
     "output_type": "stream",
     "text": [
      "\r",
      "52it [01:55,  2.16s/it]"
     ]
    },
    {
     "name": "stdout",
     "output_type": "stream",
     "text": [
      "constant-w/variance fit, converged in 109 iterations, train_loss=-10581.3568895\n",
      "lambda=1.0000000, alpha=0.4556429, converged in 15 iterations, train_loss=-13732.1992022\n",
      "constant-w/variance fit, converged in 111 iterations, train_loss=-10387.4613056\n"
     ]
    },
    {
     "name": "stderr",
     "output_type": "stream",
     "text": [
      "\r",
      "53it [01:58,  2.16s/it]"
     ]
    },
    {
     "name": "stdout",
     "output_type": "stream",
     "text": [
      "constant-w/variance fit, converged in 111 iterations, train_loss=-10387.4613056\n",
      "lambda=1.0000000, alpha=0.4573917, converged in 15 iterations, train_loss=-13562.4280624\n",
      "constant-w/variance fit, converged in 107 iterations, train_loss=-10369.2332268\n"
     ]
    },
    {
     "name": "stderr",
     "output_type": "stream",
     "text": [
      "\r",
      "54it [02:00,  2.13s/it]"
     ]
    },
    {
     "name": "stdout",
     "output_type": "stream",
     "text": [
      "constant-w/variance fit, converged in 107 iterations, train_loss=-10369.2332268\n",
      "lambda=1.0000000, alpha=0.4561417, converged in 16 iterations, train_loss=-13549.2257352\n",
      "constant-w/variance fit, converged in 109 iterations, train_loss=-10902.2870128\n"
     ]
    },
    {
     "name": "stderr",
     "output_type": "stream",
     "text": [
      "\r",
      "55it [02:02,  2.09s/it]"
     ]
    },
    {
     "name": "stdout",
     "output_type": "stream",
     "text": [
      "constant-w/variance fit, converged in 109 iterations, train_loss=-10902.2870128\n",
      "lambda=1.0000000, alpha=0.4554445, converged in 15 iterations, train_loss=-14028.8127264\n",
      "constant-w/variance fit, converged in 113 iterations, train_loss=-10393.3766817\n"
     ]
    },
    {
     "name": "stderr",
     "output_type": "stream",
     "text": [
      "\r",
      "56it [02:04,  2.07s/it]"
     ]
    },
    {
     "name": "stdout",
     "output_type": "stream",
     "text": [
      "constant-w/variance fit, converged in 113 iterations, train_loss=-10393.3766817\n",
      "lambda=1.0000000, alpha=0.4567607, converged in 16 iterations, train_loss=-13578.0749170\n",
      "constant-w/variance fit, converged in 110 iterations, train_loss=-10394.6558849\n",
      "constant-w/variance fit, converged in 110 iterations, train_loss=-10394.6558849\n"
     ]
    },
    {
     "name": "stderr",
     "output_type": "stream",
     "text": [
      "\r",
      "57it [02:06,  2.12s/it]"
     ]
    },
    {
     "name": "stdout",
     "output_type": "stream",
     "text": [
      "lambda=1.0000000, alpha=0.4577268, converged in 15 iterations, train_loss=-13570.6159661\n",
      "constant-w/variance fit, converged in 110 iterations, train_loss=-10362.9880403\n"
     ]
    },
    {
     "name": "stderr",
     "output_type": "stream",
     "text": [
      "\r",
      "58it [02:08,  2.15s/it]"
     ]
    },
    {
     "name": "stdout",
     "output_type": "stream",
     "text": [
      "constant-w/variance fit, converged in 110 iterations, train_loss=-10362.9880403\n",
      "lambda=1.0000000, alpha=0.4569599, converged in 15 iterations, train_loss=-13534.8135255\n",
      "constant-w/variance fit, converged in 108 iterations, train_loss=-10629.7317518\n"
     ]
    },
    {
     "name": "stderr",
     "output_type": "stream",
     "text": [
      "\r",
      "59it [02:10,  2.13s/it]"
     ]
    },
    {
     "name": "stdout",
     "output_type": "stream",
     "text": [
      "constant-w/variance fit, converged in 108 iterations, train_loss=-10629.7317518\n",
      "lambda=1.0000000, alpha=0.4558062, converged in 15 iterations, train_loss=-13788.2741571\n",
      "constant-w/variance fit, converged in 108 iterations, train_loss=-10374.2104053\n"
     ]
    },
    {
     "name": "stderr",
     "output_type": "stream",
     "text": [
      "\r",
      "60it [02:12,  2.13s/it]"
     ]
    },
    {
     "name": "stdout",
     "output_type": "stream",
     "text": [
      "constant-w/variance fit, converged in 108 iterations, train_loss=-10374.2104053\n",
      "lambda=1.0000000, alpha=0.4558940, converged in 15 iterations, train_loss=-13538.0012934\n",
      "constant-w/variance fit, converged in 108 iterations, train_loss=-10397.8265195\n"
     ]
    },
    {
     "name": "stderr",
     "output_type": "stream",
     "text": [
      "\r",
      "61it [02:16,  2.45s/it]"
     ]
    },
    {
     "name": "stdout",
     "output_type": "stream",
     "text": [
      "constant-w/variance fit, converged in 108 iterations, train_loss=-10397.8265195\n",
      "lambda=1.0000000, alpha=0.4561837, converged in 15 iterations, train_loss=-13568.8303874\n",
      "constant-w/variance fit, converged in 109 iterations, train_loss=-10159.1340000\n"
     ]
    },
    {
     "name": "stderr",
     "output_type": "stream",
     "text": [
      "\r",
      "62it [02:18,  2.34s/it]"
     ]
    },
    {
     "name": "stdout",
     "output_type": "stream",
     "text": [
      "constant-w/variance fit, converged in 109 iterations, train_loss=-10159.1340000\n",
      "lambda=1.0000000, alpha=0.4557983, converged in 15 iterations, train_loss=-13307.9214939\n",
      "constant-w/variance fit, converged in 110 iterations, train_loss=-10266.3106922\n"
     ]
    },
    {
     "name": "stderr",
     "output_type": "stream",
     "text": [
      "\r",
      "63it [02:20,  2.27s/it]"
     ]
    },
    {
     "name": "stdout",
     "output_type": "stream",
     "text": [
      "constant-w/variance fit, converged in 110 iterations, train_loss=-10266.3106922\n",
      "lambda=1.0000000, alpha=0.4548008, converged in 15 iterations, train_loss=-13406.0391620\n",
      "constant-w/variance fit, converged in 109 iterations, train_loss=-10709.6709709\n"
     ]
    },
    {
     "name": "stderr",
     "output_type": "stream",
     "text": [
      "\r",
      "64it [02:22,  2.22s/it]"
     ]
    },
    {
     "name": "stdout",
     "output_type": "stream",
     "text": [
      "constant-w/variance fit, converged in 109 iterations, train_loss=-10709.6709709\n",
      "lambda=1.0000000, alpha=0.4559874, converged in 17 iterations, train_loss=-13874.3617913\n"
     ]
    },
    {
     "name": "stderr",
     "output_type": "stream",
     "text": [
      "\r",
      "65it [02:24,  2.29s/it]"
     ]
    },
    {
     "name": "stdout",
     "output_type": "stream",
     "text": [
      "constant-w/variance fit, converged in 111 iterations, train_loss=-10467.2893377\n"
     ]
    },
    {
     "name": "stderr",
     "output_type": "stream",
     "text": [
      "\r",
      "66it [02:26,  2.24s/it]"
     ]
    },
    {
     "name": "stdout",
     "output_type": "stream",
     "text": [
      "constant-w/variance fit, converged in 111 iterations, train_loss=-10467.2893377\n",
      "lambda=1.0000000, alpha=0.4547216, converged in 15 iterations, train_loss=-13590.8883935\n",
      "constant-w/variance fit, converged in 113 iterations, train_loss=-10339.2890838\n"
     ]
    },
    {
     "name": "stderr",
     "output_type": "stream",
     "text": [
      "\r",
      "67it [02:28,  2.19s/it]"
     ]
    },
    {
     "name": "stdout",
     "output_type": "stream",
     "text": [
      "constant-w/variance fit, converged in 113 iterations, train_loss=-10339.2890838\n",
      "lambda=1.0000000, alpha=0.4562185, converged in 15 iterations, train_loss=-13491.6073286\n",
      "constant-w/variance fit, converged in 115 iterations, train_loss=-10330.1961940\n"
     ]
    },
    {
     "name": "stderr",
     "output_type": "stream",
     "text": [
      "\r",
      "68it [02:31,  2.22s/it]"
     ]
    },
    {
     "name": "stdout",
     "output_type": "stream",
     "text": [
      "constant-w/variance fit, converged in 115 iterations, train_loss=-10330.1961940\n",
      "lambda=1.0000000, alpha=0.4552120, converged in 15 iterations, train_loss=-13488.6343470\n",
      "constant-w/variance fit, converged in 107 iterations, train_loss=-10135.4043002\n"
     ]
    },
    {
     "name": "stderr",
     "output_type": "stream",
     "text": [
      "\r",
      "69it [02:33,  2.20s/it]"
     ]
    },
    {
     "name": "stdout",
     "output_type": "stream",
     "text": [
      "constant-w/variance fit, converged in 107 iterations, train_loss=-10135.4043002\n",
      "lambda=1.0000000, alpha=0.4564380, converged in 15 iterations, train_loss=-13290.0444516\n",
      "constant-w/variance fit, converged in 110 iterations, train_loss=-10258.2204795\n"
     ]
    },
    {
     "name": "stderr",
     "output_type": "stream",
     "text": [
      "\r",
      "70it [02:35,  2.16s/it]"
     ]
    },
    {
     "name": "stdout",
     "output_type": "stream",
     "text": [
      "constant-w/variance fit, converged in 110 iterations, train_loss=-10258.2204795\n",
      "lambda=1.0000000, alpha=0.4562789, converged in 15 iterations, train_loss=-13418.6017848\n",
      "constant-w/variance fit, converged in 112 iterations, train_loss=-10409.1766965\n"
     ]
    },
    {
     "name": "stderr",
     "output_type": "stream",
     "text": [
      "\r",
      "71it [02:37,  2.14s/it]"
     ]
    },
    {
     "name": "stdout",
     "output_type": "stream",
     "text": [
      "constant-w/variance fit, converged in 112 iterations, train_loss=-10409.1766965\n",
      "lambda=1.0000000, alpha=0.4562526, converged in 15 iterations, train_loss=-13579.0686658\n",
      "constant-w/variance fit, converged in 108 iterations, train_loss=-10268.4644831\n"
     ]
    },
    {
     "name": "stderr",
     "output_type": "stream",
     "text": [
      "\r",
      "72it [02:39,  2.13s/it]"
     ]
    },
    {
     "name": "stdout",
     "output_type": "stream",
     "text": [
      "constant-w/variance fit, converged in 108 iterations, train_loss=-10268.4644831\n",
      "lambda=1.0000000, alpha=0.4567607, converged in 16 iterations, train_loss=-13437.2206984\n",
      "constant-w/variance fit, converged in 112 iterations, train_loss=-10299.2988428\n"
     ]
    },
    {
     "name": "stderr",
     "output_type": "stream",
     "text": [
      "\r",
      "73it [02:41,  2.14s/it]"
     ]
    },
    {
     "name": "stdout",
     "output_type": "stream",
     "text": [
      "constant-w/variance fit, converged in 112 iterations, train_loss=-10299.2988428\n",
      "lambda=1.0000000, alpha=0.4564493, converged in 15 iterations, train_loss=-13457.5064259\n",
      "constant-w/variance fit, converged in 110 iterations, train_loss=-10462.9611805\n"
     ]
    },
    {
     "name": "stderr",
     "output_type": "stream",
     "text": [
      "\r",
      "74it [02:44,  2.16s/it]"
     ]
    },
    {
     "name": "stdout",
     "output_type": "stream",
     "text": [
      "constant-w/variance fit, converged in 110 iterations, train_loss=-10462.9611805\n",
      "lambda=1.0000000, alpha=0.4564670, converged in 15 iterations, train_loss=-13631.7630634\n",
      "constant-w/variance fit, converged in 113 iterations, train_loss=-10622.4710486\n"
     ]
    },
    {
     "name": "stderr",
     "output_type": "stream",
     "text": [
      "\r",
      "75it [02:46,  2.16s/it]"
     ]
    },
    {
     "name": "stdout",
     "output_type": "stream",
     "text": [
      "constant-w/variance fit, converged in 113 iterations, train_loss=-10622.4710486\n",
      "lambda=1.0000000, alpha=0.4564360, converged in 15 iterations, train_loss=-13799.4201746\n",
      "constant-w/variance fit, converged in 109 iterations, train_loss=-10140.3977268\n"
     ]
    },
    {
     "name": "stderr",
     "output_type": "stream",
     "text": [
      "\r",
      "76it [02:48,  2.13s/it]"
     ]
    },
    {
     "name": "stdout",
     "output_type": "stream",
     "text": [
      "constant-w/variance fit, converged in 109 iterations, train_loss=-10140.3977268\n",
      "lambda=1.0000000, alpha=0.4564973, converged in 16 iterations, train_loss=-13307.2881706\n",
      "constant-w/variance fit, converged in 112 iterations, train_loss=-10255.6806811\n"
     ]
    },
    {
     "name": "stderr",
     "output_type": "stream",
     "text": [
      "\r",
      "77it [02:50,  2.10s/it]"
     ]
    },
    {
     "name": "stdout",
     "output_type": "stream",
     "text": [
      "constant-w/variance fit, converged in 112 iterations, train_loss=-10255.6806811\n",
      "lambda=1.0000000, alpha=0.4563368, converged in 15 iterations, train_loss=-13411.1339554\n",
      "constant-w/variance fit, converged in 108 iterations, train_loss=-10381.2377464\n"
     ]
    },
    {
     "name": "stderr",
     "output_type": "stream",
     "text": [
      "\r",
      "78it [02:52,  2.08s/it]"
     ]
    },
    {
     "name": "stdout",
     "output_type": "stream",
     "text": [
      "constant-w/variance fit, converged in 108 iterations, train_loss=-10381.2377464\n",
      "lambda=1.0000000, alpha=0.4573375, converged in 15 iterations, train_loss=-13541.5794563\n",
      "constant-w/variance fit, converged in 109 iterations, train_loss=-10613.4421368\n"
     ]
    },
    {
     "name": "stderr",
     "output_type": "stream",
     "text": [
      "\r",
      "79it [02:54,  2.07s/it]"
     ]
    },
    {
     "name": "stdout",
     "output_type": "stream",
     "text": [
      "constant-w/variance fit, converged in 109 iterations, train_loss=-10613.4421368\n",
      "lambda=1.0000000, alpha=0.4550567, converged in 15 iterations, train_loss=-13765.0223734\n",
      "constant-w/variance fit, converged in 109 iterations, train_loss=-10330.7806547\n"
     ]
    },
    {
     "name": "stderr",
     "output_type": "stream",
     "text": [
      "\r",
      "80it [02:56,  2.09s/it]"
     ]
    },
    {
     "name": "stdout",
     "output_type": "stream",
     "text": [
      "constant-w/variance fit, converged in 109 iterations, train_loss=-10330.7806547\n",
      "lambda=1.0000000, alpha=0.4576576, converged in 18 iterations, train_loss=-13506.7556060\n",
      "constant-w/variance fit, converged in 111 iterations, train_loss=-10341.0863668\n"
     ]
    },
    {
     "name": "stderr",
     "output_type": "stream",
     "text": [
      "\r",
      "81it [02:58,  2.12s/it]"
     ]
    },
    {
     "name": "stdout",
     "output_type": "stream",
     "text": [
      "constant-w/variance fit, converged in 111 iterations, train_loss=-10341.0863668\n",
      "lambda=1.0000000, alpha=0.4572970, converged in 18 iterations, train_loss=-13509.5236283\n",
      "constant-w/variance fit, converged in 111 iterations, train_loss=-10384.7322952\n"
     ]
    },
    {
     "name": "stderr",
     "output_type": "stream",
     "text": [
      "\r",
      "82it [03:00,  2.12s/it]"
     ]
    },
    {
     "name": "stdout",
     "output_type": "stream",
     "text": [
      "constant-w/variance fit, converged in 111 iterations, train_loss=-10384.7322952\n",
      "lambda=1.0000000, alpha=0.4565835, converged in 15 iterations, train_loss=-13548.4375514\n",
      "constant-w/variance fit, converged in 111 iterations, train_loss=-10369.2715507\n"
     ]
    },
    {
     "name": "stderr",
     "output_type": "stream",
     "text": [
      "\r",
      "83it [03:03,  2.16s/it]"
     ]
    },
    {
     "name": "stdout",
     "output_type": "stream",
     "text": [
      "constant-w/variance fit, converged in 111 iterations, train_loss=-10369.2715507\n",
      "lambda=1.0000000, alpha=0.4547513, converged in 15 iterations, train_loss=-13515.6456254\n",
      "constant-w/variance fit, converged in 108 iterations, train_loss=-10186.0519876\n"
     ]
    },
    {
     "name": "stderr",
     "output_type": "stream",
     "text": [
      "\r",
      "84it [03:05,  2.14s/it]"
     ]
    },
    {
     "name": "stdout",
     "output_type": "stream",
     "text": [
      "constant-w/variance fit, converged in 108 iterations, train_loss=-10186.0519876\n",
      "lambda=1.0000000, alpha=0.4559161, converged in 15 iterations, train_loss=-13321.0871097\n",
      "constant-w/variance fit, converged in 108 iterations, train_loss=-10369.6155193\n"
     ]
    },
    {
     "name": "stderr",
     "output_type": "stream",
     "text": [
      "\r",
      "85it [03:07,  2.11s/it]"
     ]
    },
    {
     "name": "stdout",
     "output_type": "stream",
     "text": [
      "constant-w/variance fit, converged in 108 iterations, train_loss=-10369.6155193\n",
      "lambda=1.0000000, alpha=0.4554962, converged in 15 iterations, train_loss=-13529.7111521\n",
      "constant-w/variance fit, converged in 113 iterations, train_loss=-10446.0904980\n"
     ]
    },
    {
     "name": "stderr",
     "output_type": "stream",
     "text": [
      "\r",
      "86it [03:09,  2.14s/it]"
     ]
    },
    {
     "name": "stdout",
     "output_type": "stream",
     "text": [
      "constant-w/variance fit, converged in 113 iterations, train_loss=-10446.0904980\n",
      "lambda=1.0000000, alpha=0.4565285, converged in 15 iterations, train_loss=-13623.2043481\n",
      "constant-w/variance fit, converged in 112 iterations, train_loss=-10479.6065821\n"
     ]
    },
    {
     "name": "stderr",
     "output_type": "stream",
     "text": [
      "\r",
      "87it [03:11,  2.15s/it]"
     ]
    },
    {
     "name": "stdout",
     "output_type": "stream",
     "text": [
      "constant-w/variance fit, converged in 112 iterations, train_loss=-10479.6065821\n",
      "lambda=1.0000000, alpha=0.4562028, converged in 15 iterations, train_loss=-13658.2908329\n",
      "constant-w/variance fit, converged in 111 iterations, train_loss=-10663.1558934\n"
     ]
    },
    {
     "name": "stderr",
     "output_type": "stream",
     "text": [
      "\r",
      "88it [03:13,  2.18s/it]"
     ]
    },
    {
     "name": "stdout",
     "output_type": "stream",
     "text": [
      "constant-w/variance fit, converged in 111 iterations, train_loss=-10663.1558934\n",
      "lambda=1.0000000, alpha=0.4554171, converged in 15 iterations, train_loss=-13831.5686915\n",
      "constant-w/variance fit, converged in 106 iterations, train_loss=-10295.0601114\n"
     ]
    },
    {
     "name": "stderr",
     "output_type": "stream",
     "text": [
      "\r",
      "89it [03:15,  2.15s/it]"
     ]
    },
    {
     "name": "stdout",
     "output_type": "stream",
     "text": [
      "constant-w/variance fit, converged in 106 iterations, train_loss=-10295.0601114\n",
      "lambda=1.0000000, alpha=0.4550943, converged in 15 iterations, train_loss=-13457.4996369\n",
      "constant-w/variance fit, converged in 109 iterations, train_loss=-10183.9183114\n"
     ]
    },
    {
     "name": "stderr",
     "output_type": "stream",
     "text": [
      "\r",
      "90it [03:18,  2.16s/it]"
     ]
    },
    {
     "name": "stdout",
     "output_type": "stream",
     "text": [
      "constant-w/variance fit, converged in 109 iterations, train_loss=-10183.9183114\n",
      "lambda=1.0000000, alpha=0.4568051, converged in 16 iterations, train_loss=-13361.4989611\n",
      "constant-w/variance fit, converged in 114 iterations, train_loss=-10769.7434853\n"
     ]
    },
    {
     "name": "stderr",
     "output_type": "stream",
     "text": [
      "\r",
      "91it [03:20,  2.20s/it]"
     ]
    },
    {
     "name": "stdout",
     "output_type": "stream",
     "text": [
      "constant-w/variance fit, converged in 114 iterations, train_loss=-10769.7434853\n",
      "lambda=1.0000000, alpha=0.4567910, converged in 15 iterations, train_loss=-13927.7438823\n",
      "constant-w/variance fit, converged in 109 iterations, train_loss=-10397.9742662\n"
     ]
    },
    {
     "name": "stderr",
     "output_type": "stream",
     "text": [
      "\r",
      "92it [03:22,  2.17s/it]"
     ]
    },
    {
     "name": "stdout",
     "output_type": "stream",
     "text": [
      "constant-w/variance fit, converged in 109 iterations, train_loss=-10397.9742662\n",
      "lambda=1.0000000, alpha=0.4556242, converged in 15 iterations, train_loss=-13568.3702011\n",
      "constant-w/variance fit, converged in 111 iterations, train_loss=-10664.6809662\n"
     ]
    },
    {
     "name": "stderr",
     "output_type": "stream",
     "text": [
      "\r",
      "93it [03:24,  2.14s/it]"
     ]
    },
    {
     "name": "stdout",
     "output_type": "stream",
     "text": [
      "constant-w/variance fit, converged in 111 iterations, train_loss=-10664.6809662\n",
      "lambda=1.0000000, alpha=0.4569991, converged in 15 iterations, train_loss=-13813.5427628\n",
      "constant-w/variance fit, converged in 111 iterations, train_loss=-10641.5749142\n"
     ]
    },
    {
     "name": "stderr",
     "output_type": "stream",
     "text": [
      "\r",
      "94it [03:26,  2.14s/it]"
     ]
    },
    {
     "name": "stdout",
     "output_type": "stream",
     "text": [
      "constant-w/variance fit, converged in 111 iterations, train_loss=-10641.5749142\n",
      "lambda=1.0000000, alpha=0.4563570, converged in 16 iterations, train_loss=-13790.0030990\n",
      "constant-w/variance fit, converged in 111 iterations, train_loss=-10802.2586740\n"
     ]
    },
    {
     "name": "stderr",
     "output_type": "stream",
     "text": [
      "\r",
      "95it [03:28,  2.12s/it]"
     ]
    },
    {
     "name": "stdout",
     "output_type": "stream",
     "text": [
      "constant-w/variance fit, converged in 111 iterations, train_loss=-10802.2586740\n",
      "lambda=1.0000000, alpha=0.4553588, converged in 15 iterations, train_loss=-13926.4158721\n",
      "constant-w/variance fit, converged in 114 iterations, train_loss=-10894.0066632\n"
     ]
    },
    {
     "name": "stderr",
     "output_type": "stream",
     "text": [
      "\r",
      "96it [03:31,  2.19s/it]"
     ]
    },
    {
     "name": "stdout",
     "output_type": "stream",
     "text": [
      "constant-w/variance fit, converged in 114 iterations, train_loss=-10894.0066632\n",
      "lambda=1.0000000, alpha=0.4521404, converged in 17 iterations, train_loss=-14055.4260838\n"
     ]
    },
    {
     "name": "stderr",
     "output_type": "stream",
     "text": [
      "\r",
      "97it [03:33,  2.34s/it]"
     ]
    },
    {
     "name": "stdout",
     "output_type": "stream",
     "text": [
      "constant-w/variance fit, converged in 110 iterations, train_loss=-10375.1322311\n"
     ]
    },
    {
     "name": "stderr",
     "output_type": "stream",
     "text": [
      "\r",
      "98it [03:36,  2.29s/it]"
     ]
    },
    {
     "name": "stdout",
     "output_type": "stream",
     "text": [
      "constant-w/variance fit, converged in 110 iterations, train_loss=-10375.1322311\n",
      "lambda=1.0000000, alpha=0.4547204, converged in 15 iterations, train_loss=-13529.2450328\n",
      "constant-w/variance fit, converged in 109 iterations, train_loss=-10595.1390482\n"
     ]
    },
    {
     "name": "stderr",
     "output_type": "stream",
     "text": [
      "\r",
      "99it [03:38,  2.23s/it]"
     ]
    },
    {
     "name": "stdout",
     "output_type": "stream",
     "text": [
      "constant-w/variance fit, converged in 109 iterations, train_loss=-10595.1390482\n",
      "lambda=1.0000000, alpha=0.4561424, converged in 17 iterations, train_loss=-13737.1035203\n",
      "constant-w/variance fit, converged in 108 iterations, train_loss=-10259.8410722\n"
     ]
    },
    {
     "name": "stderr",
     "output_type": "stream",
     "text": [
      "\r",
      "100it [03:40,  2.18s/it]"
     ]
    },
    {
     "name": "stdout",
     "output_type": "stream",
     "text": [
      "constant-w/variance fit, converged in 108 iterations, train_loss=-10259.8410722\n",
      "lambda=1.0000000, alpha=0.4559339, converged in 18 iterations, train_loss=-13423.0169943\n",
      "constant-w/variance fit, converged in 111 iterations, train_loss=-10587.0118387\n"
     ]
    },
    {
     "name": "stderr",
     "output_type": "stream",
     "text": [
      "\r",
      "101it [03:42,  2.15s/it]"
     ]
    },
    {
     "name": "stdout",
     "output_type": "stream",
     "text": [
      "constant-w/variance fit, converged in 111 iterations, train_loss=-10587.0118387\n",
      "lambda=1.0000000, alpha=0.4566543, converged in 16 iterations, train_loss=-13749.9544089\n",
      "constant-w/variance fit, converged in 109 iterations, train_loss=-10320.0461180\n"
     ]
    },
    {
     "name": "stderr",
     "output_type": "stream",
     "text": [
      "\r",
      "102it [03:44,  2.13s/it]"
     ]
    },
    {
     "name": "stdout",
     "output_type": "stream",
     "text": [
      "constant-w/variance fit, converged in 109 iterations, train_loss=-10320.0461180\n",
      "lambda=1.0000000, alpha=0.4579483, converged in 15 iterations, train_loss=-13488.0977963\n",
      "constant-w/variance fit, converged in 107 iterations, train_loss=-10330.3943870\n"
     ]
    },
    {
     "name": "stderr",
     "output_type": "stream",
     "text": [
      "\r",
      "103it [03:46,  2.11s/it]"
     ]
    },
    {
     "name": "stdout",
     "output_type": "stream",
     "text": [
      "constant-w/variance fit, converged in 107 iterations, train_loss=-10330.3943870\n",
      "lambda=1.0000000, alpha=0.4580194, converged in 15 iterations, train_loss=-13492.6174706\n",
      "constant-w/variance fit, converged in 109 iterations, train_loss=-10260.9479522\n"
     ]
    },
    {
     "name": "stderr",
     "output_type": "stream",
     "text": [
      "\r",
      "104it [03:48,  2.10s/it]"
     ]
    },
    {
     "name": "stdout",
     "output_type": "stream",
     "text": [
      "constant-w/variance fit, converged in 109 iterations, train_loss=-10260.9479522\n",
      "lambda=1.0000000, alpha=0.4589503, converged in 16 iterations, train_loss=-13425.1534116\n",
      "constant-w/variance fit, converged in 107 iterations, train_loss=-10402.7041102\n"
     ]
    },
    {
     "name": "stderr",
     "output_type": "stream",
     "text": [
      "\r",
      "105it [03:50,  2.09s/it]"
     ]
    },
    {
     "name": "stdout",
     "output_type": "stream",
     "text": [
      "constant-w/variance fit, converged in 107 iterations, train_loss=-10402.7041102\n",
      "lambda=1.0000000, alpha=0.4573461, converged in 15 iterations, train_loss=-13586.2185634\n",
      "constant-w/variance fit, converged in 110 iterations, train_loss=-10378.5619124\n"
     ]
    },
    {
     "name": "stderr",
     "output_type": "stream",
     "text": [
      "\r",
      "106it [03:52,  2.09s/it]"
     ]
    },
    {
     "name": "stdout",
     "output_type": "stream",
     "text": [
      "constant-w/variance fit, converged in 110 iterations, train_loss=-10378.5619124\n",
      "lambda=1.0000000, alpha=0.4581796, converged in 15 iterations, train_loss=-13562.5234862\n",
      "constant-w/variance fit, converged in 113 iterations, train_loss=-10457.3147347\n"
     ]
    },
    {
     "name": "stderr",
     "output_type": "stream",
     "text": [
      "\r",
      "107it [03:54,  2.12s/it]"
     ]
    },
    {
     "name": "stdout",
     "output_type": "stream",
     "text": [
      "constant-w/variance fit, converged in 113 iterations, train_loss=-10457.3147347\n",
      "lambda=1.0000000, alpha=0.4576736, converged in 15 iterations, train_loss=-13644.2753225\n",
      "constant-w/variance fit, converged in 108 iterations, train_loss=-10822.3624438\n"
     ]
    },
    {
     "name": "stderr",
     "output_type": "stream",
     "text": [
      "\r",
      "108it [03:56,  2.10s/it]"
     ]
    },
    {
     "name": "stdout",
     "output_type": "stream",
     "text": [
      "constant-w/variance fit, converged in 108 iterations, train_loss=-10822.3624438\n",
      "lambda=1.0000000, alpha=0.4583721, converged in 16 iterations, train_loss=-13971.6026118\n",
      "constant-w/variance fit, converged in 109 iterations, train_loss=-10663.0463237\n"
     ]
    },
    {
     "name": "stderr",
     "output_type": "stream",
     "text": [
      "\r",
      "109it [03:59,  2.09s/it]"
     ]
    },
    {
     "name": "stdout",
     "output_type": "stream",
     "text": [
      "constant-w/variance fit, converged in 109 iterations, train_loss=-10663.0463237\n",
      "lambda=1.0000000, alpha=0.4579185, converged in 17 iterations, train_loss=-13830.7319092\n",
      "constant-w/variance fit, converged in 108 iterations, train_loss=-10236.4261914\n"
     ]
    },
    {
     "name": "stderr",
     "output_type": "stream",
     "text": [
      "\r",
      "110it [04:01,  2.09s/it]"
     ]
    },
    {
     "name": "stdout",
     "output_type": "stream",
     "text": [
      "constant-w/variance fit, converged in 108 iterations, train_loss=-10236.4261914\n",
      "lambda=1.0000000, alpha=0.4570444, converged in 16 iterations, train_loss=-13406.2881562\n",
      "constant-w/variance fit, converged in 111 iterations, train_loss=-10446.7103208\n"
     ]
    },
    {
     "name": "stderr",
     "output_type": "stream",
     "text": [
      "\r",
      "111it [04:03,  2.09s/it]"
     ]
    },
    {
     "name": "stdout",
     "output_type": "stream",
     "text": [
      "constant-w/variance fit, converged in 111 iterations, train_loss=-10446.7103208\n",
      "lambda=1.0000000, alpha=0.4569501, converged in 15 iterations, train_loss=-13580.6302460\n",
      "constant-w/variance fit, converged in 115 iterations, train_loss=-10478.7169068\n"
     ]
    },
    {
     "name": "stderr",
     "output_type": "stream",
     "text": [
      "\r",
      "112it [04:05,  2.10s/it]"
     ]
    },
    {
     "name": "stdout",
     "output_type": "stream",
     "text": [
      "constant-w/variance fit, converged in 115 iterations, train_loss=-10478.7169068\n",
      "lambda=1.0000000, alpha=0.4592635, converged in 19 iterations, train_loss=-13643.4977853\n"
     ]
    },
    {
     "name": "stderr",
     "output_type": "stream",
     "text": [
      "\r",
      "113it [04:07,  2.25s/it]"
     ]
    },
    {
     "name": "stdout",
     "output_type": "stream",
     "text": [
      "constant-w/variance fit, converged in 108 iterations, train_loss=-10499.5946676\n"
     ]
    },
    {
     "name": "stderr",
     "output_type": "stream",
     "text": [
      "\r",
      "114it [04:09,  2.19s/it]"
     ]
    },
    {
     "name": "stdout",
     "output_type": "stream",
     "text": [
      "constant-w/variance fit, converged in 108 iterations, train_loss=-10499.5946676\n",
      "lambda=1.0000000, alpha=0.4547220, converged in 15 iterations, train_loss=-13606.5551465\n",
      "constant-w/variance fit, converged in 107 iterations, train_loss=-10431.9262382\n"
     ]
    },
    {
     "name": "stderr",
     "output_type": "stream",
     "text": [
      "\r",
      "115it [04:12,  2.16s/it]"
     ]
    },
    {
     "name": "stdout",
     "output_type": "stream",
     "text": [
      "constant-w/variance fit, converged in 107 iterations, train_loss=-10431.9262382\n",
      "lambda=1.0000000, alpha=0.4554392, converged in 17 iterations, train_loss=-13542.8712084\n"
     ]
    },
    {
     "name": "stderr",
     "output_type": "stream",
     "text": [
      "\r",
      "116it [04:14,  2.28s/it]"
     ]
    },
    {
     "name": "stdout",
     "output_type": "stream",
     "text": [
      "constant-w/variance fit, converged in 109 iterations, train_loss=-10400.6552226\n"
     ]
    },
    {
     "name": "stderr",
     "output_type": "stream",
     "text": [
      "\r",
      "117it [04:16,  2.22s/it]"
     ]
    },
    {
     "name": "stdout",
     "output_type": "stream",
     "text": [
      "constant-w/variance fit, converged in 109 iterations, train_loss=-10400.6552226\n",
      "lambda=1.0000000, alpha=0.4580585, converged in 17 iterations, train_loss=-13553.0465664\n",
      "constant-w/variance fit, converged in 106 iterations, train_loss=-10551.2554967\n"
     ]
    },
    {
     "name": "stderr",
     "output_type": "stream",
     "text": [
      "\r",
      "118it [04:18,  2.19s/it]"
     ]
    },
    {
     "name": "stdout",
     "output_type": "stream",
     "text": [
      "constant-w/variance fit, converged in 106 iterations, train_loss=-10551.2554967\n",
      "lambda=1.0000000, alpha=0.4555954, converged in 15 iterations, train_loss=-13710.1040674\n",
      "constant-w/variance fit, converged in 107 iterations, train_loss=-10387.2401588\n"
     ]
    },
    {
     "name": "stderr",
     "output_type": "stream",
     "text": [
      "\r",
      "119it [04:20,  2.16s/it]"
     ]
    },
    {
     "name": "stdout",
     "output_type": "stream",
     "text": [
      "constant-w/variance fit, converged in 107 iterations, train_loss=-10387.2401588\n",
      "lambda=1.0000000, alpha=0.4566197, converged in 15 iterations, train_loss=-13543.2137365\n",
      "constant-w/variance fit, converged in 109 iterations, train_loss=-10730.7250634\n"
     ]
    },
    {
     "name": "stderr",
     "output_type": "stream",
     "text": [
      "\r",
      "120it [04:22,  2.14s/it]"
     ]
    },
    {
     "name": "stdout",
     "output_type": "stream",
     "text": [
      "constant-w/variance fit, converged in 109 iterations, train_loss=-10730.7250634\n",
      "lambda=1.0000000, alpha=0.4578001, converged in 15 iterations, train_loss=-13921.3260592\n",
      "constant-w/variance fit, converged in 109 iterations, train_loss=-10516.8703890\n"
     ]
    },
    {
     "name": "stderr",
     "output_type": "stream",
     "text": [
      "\r",
      "121it [04:25,  2.12s/it]"
     ]
    },
    {
     "name": "stdout",
     "output_type": "stream",
     "text": [
      "constant-w/variance fit, converged in 109 iterations, train_loss=-10516.8703890\n",
      "lambda=1.0000000, alpha=0.4557756, converged in 15 iterations, train_loss=-13675.3556870\n",
      "constant-w/variance fit, converged in 109 iterations, train_loss=-10393.8655770\n"
     ]
    },
    {
     "name": "stderr",
     "output_type": "stream",
     "text": [
      "\r",
      "122it [04:27,  2.11s/it]"
     ]
    },
    {
     "name": "stdout",
     "output_type": "stream",
     "text": [
      "constant-w/variance fit, converged in 109 iterations, train_loss=-10393.8655770\n",
      "lambda=1.0000000, alpha=0.4579832, converged in 16 iterations, train_loss=-13524.1870476\n"
     ]
    },
    {
     "name": "stderr",
     "output_type": "stream",
     "text": [
      "\r",
      "123it [04:29,  2.24s/it]"
     ]
    },
    {
     "name": "stdout",
     "output_type": "stream",
     "text": [
      "constant-w/variance fit, converged in 108 iterations, train_loss=-10551.8365944\n"
     ]
    },
    {
     "name": "stderr",
     "output_type": "stream",
     "text": [
      "\r",
      "124it [04:31,  2.19s/it]"
     ]
    },
    {
     "name": "stdout",
     "output_type": "stream",
     "text": [
      "constant-w/variance fit, converged in 108 iterations, train_loss=-10551.8365944\n",
      "lambda=1.0000000, alpha=0.4550061, converged in 16 iterations, train_loss=-13675.9752604\n",
      "constant-w/variance fit, converged in 112 iterations, train_loss=-10424.3632479\n"
     ]
    },
    {
     "name": "stderr",
     "output_type": "stream",
     "text": [
      "\r",
      "125it [04:33,  2.16s/it]"
     ]
    },
    {
     "name": "stdout",
     "output_type": "stream",
     "text": [
      "constant-w/variance fit, converged in 112 iterations, train_loss=-10424.3632479\n",
      "lambda=1.0000000, alpha=0.4546184, converged in 15 iterations, train_loss=-13538.5235198\n"
     ]
    },
    {
     "name": "stderr",
     "output_type": "stream",
     "text": [
      "\r",
      "126it [04:36,  2.28s/it]"
     ]
    },
    {
     "name": "stdout",
     "output_type": "stream",
     "text": [
      "constant-w/variance fit, converged in 111 iterations, train_loss=-10551.9077791\n"
     ]
    },
    {
     "name": "stderr",
     "output_type": "stream",
     "text": [
      "\r",
      "127it [04:38,  2.21s/it]"
     ]
    },
    {
     "name": "stdout",
     "output_type": "stream",
     "text": [
      "constant-w/variance fit, converged in 111 iterations, train_loss=-10551.9077791\n",
      "lambda=1.0000000, alpha=0.4550400, converged in 17 iterations, train_loss=-13644.4939200\n"
     ]
    },
    {
     "name": "stderr",
     "output_type": "stream",
     "text": [
      "128it [04:41,  2.20s/it]\n"
     ]
    }
   ],
   "source": [
    "loo_results = leave_node_out(genotypes[:, :1000], coord, grid, edges)\n",
    "loo_results = pd.DataFrame(loo_results).T.rename(\n",
    "    columns = {0:'feems', 1:'ibd', 2:'random'})\n",
    "loo_results1000 = loo_results.apply(lambda x: x.explode())"
   ]
  },
  {
   "cell_type": "code",
   "execution_count": 201,
   "id": "1f796f2a",
   "metadata": {},
   "outputs": [
    {
     "data": {
      "text/plain": [
       "<matplotlib.axes._subplots.AxesSubplot at 0x7fe2783fa220>"
      ]
     },
     "execution_count": 201,
     "metadata": {},
     "output_type": "execute_result"
    },
    {
     "data": {
      "image/png": "[encoded data removed]",
      "text/plain": [
       "<Figure size 432x288 with 1 Axes>"
      ]
     },
     "metadata": {
      "needs_background": "light"
     },
     "output_type": "display_data"
    }
   ],
   "source": [
    "(loo_results1000.reset_index().drop(columns='index')).fillna(10).boxplot()"
   ]
  }
 ],
 "metadata": {
  "kernelspec": {
   "display_name": "feems",
   "language": "python",
   "name": "feems"
  },
  "language_info": {
   "codemirror_mode": {
    "name": "ipython",
    "version": 3
   },
   "file_extension": ".py",
   "mimetype": "text/x-python",
   "name": "python",
   "nbconvert_exporter": "python",
   "pygments_lexer": "ipython3",
   "version": "3.8.3"
  }
 },
 "nbformat": 4,
 "nbformat_minor": 5
}
